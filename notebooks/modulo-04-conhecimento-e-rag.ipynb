{
  "nbformat": 4,
  "nbformat_minor": 0,
  "metadata": {
    "colab": {
      "provenance": []
    },
    "language_info": {
      "name": "python"
    },
    "kernelspec": {
      "name": "python3",
      "display_name": "Python 3"
    }
  },
  "cells": [
    {
      "cell_type": "markdown",
      "metadata": {
        "id": "jVs2Nuj5lpUl"
      },
      "source": [
        "# 🧠 Módulo 4: Conhecimento e RAG - Transformando Agentes em Especialistas\n",
        "\n",
        "## Bem-vindos ao mundo do conhecimento especializado!\n",
        "\n",
        "Tá, mas o que é esse tal de **Knowledge** no Agno? Imagina que você tem um agente super inteligente, mas que não sabe nada sobre o seu negócio específico. É como contratar um PhD em física para trabalhar numa loja de roupas - ele é super inteligente, mas não sabe nada sobre moda!\n",
        "\n",
        "![PROMPT: Agente inteligente mas sem conhecimento específico, como um PhD perdido numa loja de roupas]\n",
        "\n",
        "Nos módulos anteriores, aprendemos:\n",
        "- **Módulo 1**: Como criar agentes básicos\n",
        "- **Módulo 2**: Como configurar modelos e instruções\n",
        "- **Módulo 3**: Como dar ferramentas aos agentes\n",
        "\n",
        "Agora vamos dar **conhecimento especializado** aos nossos agentes!\n",
        "\n",
        "## O que vamos aprender hoje:\n",
        "1. 🎯 O que é Knowledge e Agentic RAG\n",
        "2. 🔍 Vector Databases na prática\n",
        "3. 🧮 Embeddings e como funcionam\n",
        "4. 🤖 Implementando RAG com Agno\n",
        "5. 🚀 Casos práticos avançados"
      ]
    },
    {
      "cell_type": "markdown",
      "metadata": {
        "id": "JeF6cMpplpUm"
      },
      "source": [
        "# 🎯 O que é Knowledge e por que precisamos?\n",
        "\n",
        "Vamos começar com uma analogia simples: **Knowledge** é como dar uma biblioteca especializada para o seu agente!\n",
        "\n",
        "## O problema sem Knowledge:\n",
        "- Agente só sabe o que foi treinado (até uma data de corte)\n",
        "- Não conhece informações específicas da sua empresa\n",
        "- Pode \"alucinar\" informações sobre tópicos que não domina\n",
        "\n",
        "## A solução com Knowledge:\n",
        "- **Dynamic Few-Shot Learning**: O agente busca exemplos relevantes na hora\n",
        "- **Agentic RAG**: Busca informações quando precisa (não sempre)\n",
        "- **Conhecimento atualizado**: Sempre com as informações mais recentes\n",
        "\n",
        "### Analogia do Bibliotecário Inteligente 📚\n",
        "\n",
        "Imagine que seu agente é um bibliotecário super inteligente:\n",
        "- **Sem Knowledge**: Ele só responde com o que decorou\n",
        "- **Com Knowledge**: Ele pesquisa nos livros certos antes de responder\n",
        "\n",
        "**Dica!** No Agno, o Knowledge é usado de forma **agentic** - o agente decide quando precisa buscar informações!"
      ]
    },
    {
      "cell_type": "markdown",
      "metadata": {
        "id": "ntaCQK6-lpUm"
      },
      "source": [
        "# 🔧 Setup Inicial - Preparando o Ambiente\n",
        "\n",
        "Bora preparar nosso ambiente para trabalhar com Knowledge!"
      ]
    },
    {
      "cell_type": "code",
      "execution_count": null,
      "metadata": {
        "id": "tzNQFz8ClpUn"
      },
      "outputs": [],
      "source": [
        "# Instalando as dependências necessárias\n",
        "!pip install -q agno google-generativeai lancedb tantivy\n",
        "\n",
        "print(\"📦 Bibliotecas instaladas com sucesso!\")\n",
        "print(\"Agora vamos configurar nossa API key do Google...\")"
      ]
    },
    {
      "cell_type": "code",
      "execution_count": null,
      "metadata": {
        "id": "oVrJdL6ZlpUn"
      },
      "outputs": [],
      "source": [
        "import os\n",
        "from getpass import getpass\n",
        "\n",
        "# Configurando a API Key do Google (gratuita!)\n",
        "if 'GOOGLE_API_KEY' not in os.environ:\n",
        "    os.environ['GOOGLE_API_KEY'] = getpass('🔑 Cole sua API Key do Google AI Studio: ')\n",
        "\n",
        "print(\"✅ API Key configurada!\")\n",
        "print(\"💡 Dica: Pega sua chave gratuita em https://aistudio.google.com/\")"
      ]
    },
    {
      "cell_type": "code",
      "execution_count": null,
      "metadata": {
        "id": "pmG7r0SllpUn"
      },
      "outputs": [],
      "source": [
        "# Imports básicos para nosso módulo\n",
        "import asyncio\n",
        "from agno.agent import Agent\n",
        "from agno.models.google import Gemini\n",
        "from agno.knowledge.knowledge import Knowledge\n",
        "from agno.knowledge.embedder.google import GeminiEmbedder\n",
        "from agno.vectordb.lancedb import LanceDb, SearchType\n",
        "\n",
        "print(\"📚 Importações realizadas!\")\n",
        "print(\"Agora temos tudo que precisamos para criar agentes inteligentes!\")"
      ]
    },
    {
      "cell_type": "markdown",
      "metadata": {
        "id": "mQx0KZLHlpUn"
      },
      "source": [
        "# 🧮 Entendendo Embeddings - A Matemática por Trás da Magia\n",
        "\n",
        "Antes de partir para a prática, vamos entender **como funciona a mágica** dos embeddings!\n",
        "\n",
        "## O que são Embeddings?\n",
        "\n",
        "Embeddings são **representações numéricas** de texto. É como transformar palavras em coordenadas matemáticas!\n",
        "\n",
        "### Analogia do GPS 🗺️\n",
        "- **Texto**: \"Padaria da esquina\"\n",
        "- **Embedding**: [-23.5505, -46.6333] (coordenadas)\n",
        "- **Similaridade**: Distância entre pontos no espaço\n",
        "\n",
        "### Como funciona na prática:\n",
        "1. **Texto** → **Embedding** (vetor de números)\n",
        "2. Textos similares ficam **próximos** no espaço matemático\n",
        "3. Busca por **similaridade** usando distância vetorial\n",
        "\n",
        "**Matemática por trás:**\n",
        "- Cosseno entre vetores: $\\cos(\\theta) = \\frac{A \\cdot B}{||A|| \\cdot ||B||}$\n",
        "- Distância euclidiana: $d = \\sqrt{\\sum_{i=1}^{n}(a_i - b_i)^2}$"
      ]
    },
    {
      "cell_type": "code",
      "execution_count": null,
      "metadata": {
        "id": "3rCjRX4MlpUn"
      },
      "outputs": [],
      "source": [
        "# Vamos ver embeddings na prática!\n",
        "import numpy as np\n",
        "import matplotlib.pyplot as plt\n",
        "from sklearn.decomposition import PCA\n",
        "\n",
        "# Simulando embeddings de diferentes textos\n",
        "# (Na realidade, embeddings têm centenas ou milhares de dimensões)\n",
        "textos = [\n",
        "    \"cachorro\", \"gato\", \"hamster\",  # animais\n",
        "    \"carro\", \"moto\", \"bicicleta\",   # veículos\n",
        "    \"pizza\", \"hambúrguer\", \"lasanha\" # comidas\n",
        "]\n",
        "\n",
        "# Embeddings simulados (3 grupos distintos)\n",
        "embeddings_animais = np.random.normal([1, 1], 0.2, (3, 2))\n",
        "embeddings_veiculos = np.random.normal([3, 1], 0.2, (3, 2))\n",
        "embeddings_comidas = np.random.normal([2, 3], 0.2, (3, 2))\n",
        "\n",
        "# Juntando tudo\n",
        "embeddings = np.vstack([embeddings_animais, embeddings_veiculos, embeddings_comidas])\n",
        "cores = ['red', 'red', 'red', 'blue', 'blue', 'blue', 'green', 'green', 'green']\n",
        "\n",
        "# Visualizando\n",
        "plt.figure(figsize=(10, 8))\n",
        "plt.scatter(embeddings[:, 0], embeddings[:, 1], c=cores, s=100)\n",
        "\n",
        "for i, texto in enumerate(textos):\n",
        "    plt.annotate(texto, (embeddings[i, 0], embeddings[i, 1]),\n",
        "                xytext=(5, 5), textcoords='offset points', fontsize=12)\n",
        "\n",
        "plt.title('🧮 Visualização de Embeddings - Textos Similares Ficam Próximos', fontsize=14)\n",
        "plt.xlabel('Dimensão 1')\n",
        "plt.ylabel('Dimensão 2')\n",
        "plt.grid(True, alpha=0.3)\n",
        "plt.legend(['Animais', 'Veículos', 'Comidas'], loc='upper right')\n",
        "plt.show()\n",
        "\n",
        "print(\"🎯 Viu como textos similares ficam agrupados?\")\n",
        "print(\"É assim que o agente 'entende' o significado dos textos!\")"
      ]
    },
    {
      "cell_type": "markdown",
      "metadata": {
        "id": "wxXWKmlklpUo"
      },
      "source": [
        "# 🗄️ Vector Databases - O Cérebro do Sistema\n",
        "\n",
        "Agora que entendemos embeddings, vamos falar sobre **Vector Databases**!\n",
        "\n",
        "## O que são Vector Databases?\n",
        "\n",
        "São bancos de dados **especializados** em armazenar e buscar vetores (embeddings) de forma super eficiente!\n",
        "\n",
        "### Analogia da Biblioteca Mágica 📖\n",
        "- **Banco tradicional**: \"Me dê o livro com ID 123\"\n",
        "- **Vector Database**: \"Me dê os 5 livros mais similares a este tema\"\n",
        "\n",
        "### Como funciona o processo:\n",
        "1. **Chunking**: Quebra documentos em pedaços menores\n",
        "2. **Embedding**: Converte cada chunk em vetor\n",
        "3. **Indexing**: Armazena de forma otimizada\n",
        "4. **Search**: Busca por similaridade vetorial\n",
        "\n",
        "**Dica!** No Agno, usamos LanceDB como vector database - é rápido e fácil de usar!"
      ]
    },
    {
      "cell_type": "code",
      "execution_count": null,
      "metadata": {
        "id": "XWqa0kuqlpUo"
      },
      "outputs": [],
      "source": [
        "# Criando nossa primeira base de conhecimento com Agno!\n",
        "print(\"🏗️ Configurando base de conhecimento...\")\n",
        "\n",
        "# Criando embedder do Google (gratuito!)\n",
        "embedder = GeminiEmbedder()\n",
        "\n",
        "print(\"✅ Embedder configurado!\")\n",
        "print(\"💡 Using Google's text-embedding-004 model (gratuito!)\")\n",
        "\n",
        "# Criando vector database com LanceDB\n",
        "vector_db = LanceDb(\n",
        "    uri=\"./tmp/lancedb_tech_brasil\",\n",
        "    table_name=\"tech_brasil_embeddings\",\n",
        "    search_type=SearchType.hybrid,  # Busca híbrida (semântica + keyword)\n",
        "    embedder=embedder\n",
        ")\n",
        "\n",
        "print(\"🗄️ Vector Database criado com sucesso!\")\n",
        "print(\"🔍 Configurado para busca híbrida (semântica + keyword)\")"
      ]
    },
    {
      "cell_type": "code",
      "execution_count": null,
      "metadata": {
        "id": "bKyqXQf_lpUo"
      },
      "outputs": [],
      "source": [
        "# Criando nossa base de conhecimento\n",
        "knowledge = Knowledge(\n",
        "    name=\"Tech Brasil Knowledge Base\",\n",
        "    description=\"Base de conhecimento sobre tecnologia brasileira e startups\",\n",
        "    vector_db=vector_db,\n",
        "    max_results=3  # Retorna os 3 documentos mais relevantes\n",
        ")\n",
        "\n",
        "print(\"📚 Base de conhecimento criada!\")\n",
        "print(\"🎯 Configurada para retornar os 3 documentos mais relevantes\")"
      ]
    },
    {
      "cell_type": "markdown",
      "metadata": {
        "id": "_mIosteNlpUo"
      },
      "source": [
        "# 📝 Adicionando Conteúdo à Base de Conhecimento\n",
        "\n",
        "Agora vamos adicionar conhecimento sobre tecnologia brasileira à nossa base!"
      ]
    },
    {
      "cell_type": "code",
      "execution_count": null,
      "metadata": {
        "id": "MHnTSHMOlpUo"
      },
      "outputs": [],
      "source": [
        "# Adicionando conhecimento sobre fintechs brasileiras\n",
        "conteudo_fintechs = \"\"\"\n",
        "O ecossistema de fintechs brasileiras é um dos mais desenvolvidos da América Latina.\n",
        "\n",
        "**Principais Fintechs:**\n",
        "- **Nubank**: Maior fintech da América Latina, com mais de 80 milhões de clientes. Fundada em 2013 por David Vélez, oferece conta digital, cartão de crédito sem anuidade e investimentos.\n",
        "\n",
        "- **PagSeguro**: Uma das maiores empresas de pagamentos do Brasil, oferecendo soluções para e-commerce, maquininhas de cartão e serviços financeiros para PMEs.\n",
        "\n",
        "- **Stone**: Fintech brasileira especializada em soluções de pagamento, conhecida por suas maquininhas e serviços bancários para pequenas e médias empresas.\n",
        "\n",
        "- **C6 Bank**: Banco digital completo com conta corrente, cartão de crédito, investimentos e empréstimos.\n",
        "\n",
        "**Impacto do PIX:**\n",
        "O PIX revolucionou os pagamentos no Brasil, com mais de 100 milhões de chaves cadastradas e processando bilhões de transações mensais.\n",
        "\"\"\"\n",
        "\n",
        "# Adicionando conteúdo à base de conhecimento\n",
        "await knowledge.add_content_async(\n",
        "        name=\"Fintechs Brasileiras\",\n",
        "        text_content=conteudo_fintechs,\n",
        "        metadata={\"categoria\": \"fintechs\", \"pais\": \"brasil\"}\n",
        "    )\n",
        "\n",
        "print(\"✅ Conteúdo sobre fintechs adicionado!\")\n",
        "print(\"📊 Metadata: categoria=fintechs, pais=brasil\")"
      ]
    },
    {
      "cell_type": "code",
      "execution_count": null,
      "metadata": {
        "id": "bFvO4YqLlpUo"
      },
      "outputs": [],
      "source": [
        "# Adicionando conhecimento sobre hubs de tecnologia\n",
        "conteudo_hubs = \"\"\"\n",
        "**Principais Hubs de Tecnologia no Brasil:**\n",
        "\n",
        "**São Paulo:**\n",
        "- Concentra 70% das startups brasileiras\n",
        "- Ecossistema maduro de investidores, aceleradoras e talentos tech\n",
        "- Sede de gigantes como Mercado Livre, iFood, 99\n",
        "\n",
        "**Recife - Porto Digital:**\n",
        "- Maior parque tecnológico do Brasil em faturamento\n",
        "- Mais de 350 empresas e 15 mil empregos\n",
        "- Foco em software, games e inovação\n",
        "\n",
        "**Florianópolis:**\n",
        "- Conhecida como Vale do Silício brasileiro\n",
        "- Forte em software e inovação tecnológica\n",
        "- Ambiente propício para startups\n",
        "\n",
        "**Belo Horizonte:**\n",
        "- Importante centro de desenvolvimento de software\n",
        "- Ecossistema de inovação em crescimento\n",
        "- Sede de empresas como Totvs e Locaweb\n",
        "\"\"\"\n",
        "\n",
        "await knowledge.add_content_async(\n",
        "        name=\"Hubs de Tecnologia Brasil\",\n",
        "        text_content=conteudo_hubs,\n",
        "        metadata={\"categoria\": \"hubs\", \"pais\": \"brasil\"}\n",
        "    )\n",
        "\n",
        "print(\"✅ Conteúdo sobre hubs de tecnologia adicionado!\")\n",
        "print(\"🏙️ Inclui São Paulo, Recife, Florianópolis e Belo Horizonte\")"
      ]
    },
    {
      "cell_type": "code",
      "execution_count": null,
      "metadata": {
        "id": "qh7W4pqulpUo"
      },
      "outputs": [],
      "source": [
        "# Adicionando conhecimento sobre startups unicórnio\n",
        "conteudo_unicornios = \"\"\"\n",
        "**Startups Unicórnio Brasileiras (avaliadas em mais de 1 bilhão de dólares):**\n",
        "\n",
        "**Mercado Livre:**\n",
        "- Maior marketplace da América Latina\n",
        "- Fundado em 1999, presente em 18 países\n",
        "- Avaliado em mais de 50 bilhões de dólares\n",
        "\n",
        "**iFood:**\n",
        "- Maior aplicativo de delivery de comida do Brasil\n",
        "- Conecta restaurantes e consumidores em mais de 1000 cidades\n",
        "- Adquirido pela Prosus em 2021\n",
        "\n",
        "**99:**\n",
        "- Startup brasileira de mobilidade urbana\n",
        "- Adquirida pela Didi Chuxing\n",
        "- Oferece corridas de carro, moto e outros serviços\n",
        "\n",
        "**Nubank:**\n",
        "- Maior fintech da América Latina\n",
        "- IPO em 2021 na NYSE\n",
        "- Avaliado em mais de 40 bilhões de dólares\n",
        "\"\"\"\n",
        "\n",
        "await knowledge.add_content_async(\n",
        "        name=\"Unicórnios Brasileiros\",\n",
        "        text_content=conteudo_unicornios,\n",
        "        metadata={\"categoria\": \"unicornios\", \"pais\": \"brasil\"}\n",
        "    )\n",
        "\n",
        "print(\"✅ Conteúdo sobre unicórnios brasileiros adicionado!\")\n",
        "print(\"🦄 Inclui Mercado Livre, iFood, 99 e Nubank\")"
      ]
    },
    {
      "cell_type": "markdown",
      "metadata": {
        "id": "Hl9DXF_ulpUo"
      },
      "source": [
        "# 🤖 Criando Agente com Knowledge\n",
        "\n",
        "Agora vamos criar um agente especialista que usa nossa base de conhecimento!"
      ]
    },
    {
      "cell_type": "code",
      "execution_count": null,
      "metadata": {
        "id": "_4VofcIGlpUo"
      },
      "outputs": [],
      "source": [
        "# Criando modelo Gemini\n",
        "modelo = Gemini(\n",
        "    id=\"gemini-2.0-flash\",\n",
        "    api_key=os.environ['GOOGLE_API_KEY']\n",
        ")\n",
        "\n",
        "print(\"🤖 Modelo Gemini configurado!\")\n",
        "print(\"💡 Usando gemini-2.0-flash (gratuito e rápido!)\")"
      ]
    },
    {
      "cell_type": "code",
      "execution_count": null,
      "metadata": {
        "id": "TAJvcoI4lpUp"
      },
      "outputs": [],
      "source": [
        "# Criando agente especialista em tech brasileiro\n",
        "agente_tech_brasil = Agent(\n",
        "    name=\"Especialista Tech Brasil\",\n",
        "    model=modelo,\n",
        "    knowledge=knowledge,  # 🎯 AQUI ESTÁ A MÁGICA!\n",
        "    search_knowledge=True,  # 🎯 ATIVA O AGENTIC RAG!\n",
        "    description=\"Você é um especialista em tecnologia brasileira e startups nacionais.\",\n",
        "    instructions=[\n",
        "        \"Use informações específicas da base de conhecimento sobre tech brasileira\",\n",
        "        \"Sempre que possível, cite exemplos de empresas brasileiras\",\n",
        "        \"Seja preciso com dados sobre o mercado nacional\",\n",
        "        \"Busque na base de conhecimento quando precisar de informações específicas\"\n",
        "    ],\n",
        "    markdown=True\n",
        ")\n",
        "\n",
        "print(\"👨‍💻 Agente especialista criado!\")\n",
        "print(\"🧠 Com acesso à base de conhecimento sobre tech brasileira\")\n",
        "print(\"🔍 Agentic RAG ativado - o agente decide quando buscar informações!\")"
      ]
    },
    {
      "cell_type": "markdown",
      "metadata": {
        "id": "fVaARjbllpUp"
      },
      "source": [
        "# 🧪 Testando o Agente com Knowledge\n",
        "\n",
        "Vamos testar nosso agente especialista!"
      ]
    },
    {
      "cell_type": "code",
      "execution_count": null,
      "metadata": {
        "id": "R2MDJt4klpUp"
      },
      "outputs": [],
      "source": [
        "# Teste 1: Pergunta sobre fintechs\n",
        "print(\"🧪 TESTE 1: Pergunta sobre fintechs\")\n",
        "print(\"=\" * 50)\n",
        "\n",
        "resposta1 = agente_tech_brasil.print_response(\n",
        "    \"Me conte sobre as principais fintechs brasileiras e como o PIX impactou o mercado.\", stream=True\n",
        ")\n",
        "\n",
        "print(\"🤖 Resposta do agente:\")\n",
        "print(resposta1)\n",
        "print(\"\\n\" + \"=\"*50)"
      ]
    },
    {
      "cell_type": "code",
      "execution_count": null,
      "metadata": {
        "id": "zoDoYcvdlpUp"
      },
      "outputs": [],
      "source": [
        "# Teste 2: Pergunta sobre hubs de tecnologia\n",
        "print(\"🧪 TESTE 2: Pergunta sobre hubs de tecnologia\")\n",
        "print(\"=\" * 50)\n",
        "\n",
        "resposta2 = agente_tech_brasil.print_response(\n",
        "    \"Quais são os principais hubs de tecnologia no Brasil e o que torna cada um especial?\", stream=True\n",
        ")\n",
        "\n",
        "print(\"🤖 Resposta do agente:\")\n",
        "print(resposta2)\n",
        "print(\"\\n\" + \"=\"*50)"
      ]
    },
    {
      "cell_type": "code",
      "execution_count": null,
      "metadata": {
        "id": "XhQYbf6SlpUp"
      },
      "outputs": [],
      "source": [
        "# Teste 3: Pergunta sobre unicórnios\n",
        "print(\"🧪 TESTE 3: Pergunta sobre unicórnios\")\n",
        "print(\"=\" * 50)\n",
        "\n",
        "resposta3 = agente_tech_brasil.print_response(\n",
        "    \"Quantos anos eu tinha quando o nubank foi criado?\", stream=True\n",
        ")\n",
        "\n",
        "print(\"🤖 Resposta do agente:\")\n",
        "print(resposta3)\n",
        "print(\"\\n\" + \"=\"*50)"
      ]
    },
    {
      "cell_type": "markdown",
      "metadata": {
        "id": "E7GS373ElpUp"
      },
      "source": [
        "# 🔍 Comparando: Com vs Sem Knowledge\n",
        "\n",
        "Vamos criar um agente sem knowledge para comparar!"
      ]
    },
    {
      "cell_type": "code",
      "execution_count": null,
      "metadata": {
        "id": "JSLV74U2lpUp"
      },
      "outputs": [],
      "source": [
        "# Criando agente SEM knowledge\n",
        "agente_sem_knowledge = Agent(\n",
        "    name=\"Agente Geral\",\n",
        "    model=modelo,\n",
        "    # Sem knowledge!\n",
        "    description=\"Você é um assistente geral de IA.\",\n",
        "    instructions=[\n",
        "        \"Responda com base no seu conhecimento geral\",\n",
        "        \"Seja honesto quando não souber algo específico\"\n",
        "    ],\n",
        "    markdown=True\n",
        ")\n",
        "\n",
        "print(\"🤖 Agente sem knowledge criado!\")\n",
        "print(\"📝 Vai responder apenas com conhecimento geral\")"
      ]
    },
    {
      "cell_type": "code",
      "execution_count": null,
      "metadata": {
        "id": "B6cnRaetlpUp"
      },
      "outputs": [],
      "source": [
        "# Comparação: mesma pergunta, agentes diferentes\n",
        "pergunta_teste = \"Me conte sobre o Nubank e sua importância no ecossistema fintech brasileiro.\"\n",
        "\n",
        "print(\"🆚 COMPARAÇÃO: Com vs Sem Knowledge\")\n",
        "print(\"=\" * 60)\n",
        "print(f\"❓ Pergunta: {pergunta_teste}\")\n",
        "print(\"\\n\" + \"=\"*60)\n",
        "\n",
        "# Resposta SEM knowledge\n",
        "print(\"❌ RESPOSTA SEM KNOWLEDGE:\")\n",
        "print(\"-\" * 40)\n",
        "resposta_sem = agente_sem_knowledge.print_response(pergunta_teste, stream=True)\n",
        "print(resposta_sem)\n",
        "\n",
        "print(\"\\n\" + \"=\"*60)\n",
        "\n",
        "# Resposta COM knowledge\n",
        "print(\"✅ RESPOSTA COM KNOWLEDGE:\")\n",
        "print(\"-\" * 40)\n",
        "resposta_com = agente_tech_brasil.print_response(pergunta_teste, stream=True)\n",
        "print(resposta_com)\n",
        "\n",
        "print(\"\\n\" + \"=\"*60)\n",
        "print(\"🎯 Diferença clara: Knowledge fornece informações específicas e atualizadas!\")"
      ]
    },
    {
      "cell_type": "markdown",
      "metadata": {
        "id": "mAJQa0LUlpUp"
      },
      "source": [
        "# 📊 Visualizando o Processo RAG\n",
        "\n",
        "Vamos visualizar como funciona o processo de Retrieval-Augmented Generation:"
      ]
    },
    {
      "cell_type": "code",
      "execution_count": null,
      "metadata": {
        "id": "msu5VXCAlpUp"
      },
      "outputs": [],
      "source": [
        "# Visualizando o processo RAG\n",
        "import matplotlib.pyplot as plt\n",
        "import matplotlib.patches as mpatches\n",
        "from matplotlib.patches import FancyBboxPatch\n",
        "\n",
        "fig, ax = plt.subplots(1, 1, figsize=(14, 10))\n",
        "ax.set_xlim(0, 10)\n",
        "ax.set_ylim(0, 10)\n",
        "ax.axis('off')\n",
        "\n",
        "# Título\n",
        "ax.text(5, 9.5, '🚀 Processo Agentic RAG com Agno',\n",
        "        fontsize=18, ha='center', weight='bold')\n",
        "\n",
        "# Passo 1: Pergunta do usuário\n",
        "box1 = FancyBboxPatch((0.5, 7.5), 2, 1,\n",
        "                      boxstyle=\"round,pad=0.1\",\n",
        "                      facecolor='lightblue', edgecolor='blue')\n",
        "ax.add_patch(box1)\n",
        "ax.text(1.5, 8, '👤 Pergunta\\ndo Usuário', ha='center', va='center', fontsize=10, weight='bold')\n",
        "\n",
        "# Passo 2: Agente decide\n",
        "box2 = FancyBboxPatch((3.5, 7.5), 2, 1,\n",
        "                      boxstyle=\"round,pad=0.1\",\n",
        "                      facecolor='lightgreen', edgecolor='green')\n",
        "ax.add_patch(box2)\n",
        "ax.text(4.5, 8, '🤖 Agente\\nDecide', ha='center', va='center', fontsize=10, weight='bold')\n",
        "\n",
        "# Passo 3: Busca no conhecimento\n",
        "box3 = FancyBboxPatch((6.5, 7.5), 2, 1,\n",
        "                      boxstyle=\"round,pad=0.1\",\n",
        "                      facecolor='lightyellow', edgecolor='orange')\n",
        "ax.add_patch(box3)\n",
        "ax.text(7.5, 8, '🔍 Busca\\nConhecimento', ha='center', va='center', fontsize=10, weight='bold')\n",
        "\n",
        "# Base de conhecimento\n",
        "box4 = FancyBboxPatch((1, 5), 3, 1.5,\n",
        "                      boxstyle=\"round,pad=0.1\",\n",
        "                      facecolor='lightcoral', edgecolor='red')\n",
        "ax.add_patch(box4)\n",
        "ax.text(2.5, 5.75, '🗄️ Vector Database\\n(Documentos + Embeddings)',\n",
        "        ha='center', va='center', fontsize=10, weight='bold')\n",
        "\n",
        "# Contexto aumentado\n",
        "box5 = FancyBboxPatch((5.5, 5), 3, 1.5,\n",
        "                      boxstyle=\"round,pad=0.1\",\n",
        "                      facecolor='lightcoral', edgecolor='purple')\n",
        "ax.add_patch(box5)\n",
        "ax.text(7, 5.75, '📋 Contexto\\nAumentado', ha='center', va='center', fontsize=10, weight='bold')\n",
        "\n",
        "# Resposta final\n",
        "box6 = FancyBboxPatch((3.5, 2.5), 3, 1.5,\n",
        "                      boxstyle=\"round,pad=0.1\",\n",
        "                      facecolor='lightsteelblue', edgecolor='navy')\n",
        "ax.add_patch(box6)\n",
        "ax.text(5, 3.25, '💬 Resposta\\nEnriquecida', ha='center', va='center', fontsize=12, weight='bold')\n",
        "\n",
        "# Setas\n",
        "arrows = [\n",
        "    ((2.5, 8), (3.5, 8)),  # usuário -> agente\n",
        "    ((5.5, 8), (6.5, 8)),  # agente -> busca\n",
        "    ((7.5, 7.5), (7, 6.5)),  # busca -> contexto\n",
        "    ((2.5, 6.5), (6, 6.5)),  # knowledge -> contexto\n",
        "    ((6.5, 5), (5.5, 4))   # contexto -> resposta\n",
        "]\n",
        "\n",
        "for start, end in arrows:\n",
        "    ax.annotate('', xy=end, xytext=start,\n",
        "                arrowprops=dict(arrowstyle='->', lw=2, color='black'))\n",
        "\n",
        "# Legenda\n",
        "ax.text(5, 1, '✨ O agente DECIDE quando buscar conhecimento adicional!',\n",
        "        ha='center', fontsize=12, style='italic',\n",
        "        bbox=dict(boxstyle=\"round,pad=0.3\", facecolor='lightyellow'))\n",
        "\n",
        "plt.tight_layout()\n",
        "plt.show()\n",
        "\n",
        "print(\"🎯 Processo completo de Agentic RAG visualizado!\")"
      ]
    },
    {
      "cell_type": "markdown",
      "metadata": {
        "id": "HZ5Z6C37lpUp"
      },
      "source": [
        "# 🚀 Casos de Uso Avançados\n",
        "\n",
        "Vamos ver alguns casos de uso mais avançados do sistema RAG!"
      ]
    },
    {
      "cell_type": "code",
      "execution_count": null,
      "metadata": {
        "id": "bDikSZrZlpUp"
      },
      "outputs": [],
      "source": [
        "# Caso 1: Adicionando conteúdo de URL\n",
        "print(\"🌐 CASO 1: Adicionando conteúdo de URL\")\n",
        "print(\"=\" * 50)\n",
        "\n",
        "# Criando nova base de conhecimento para URLs\n",
        "knowledge_url = Knowledge(\n",
        "    name=\"Knowledge de URLs\",\n",
        "    description=\"Base de conhecimento com conteúdo de URLs\",\n",
        "    vector_db=LanceDb(\n",
        "        uri=\"./tmp/lancedb_urls\",\n",
        "        table_name=\"url_embeddings\",\n",
        "        search_type=SearchType.hybrid,\n",
        "        embedder=embedder\n",
        "    ),\n",
        "    max_results=2\n",
        ")\n",
        "\n",
        "# Adicionando conteúdo de uma URL real\n",
        "print(\"📥 Adicionando conteúdo de URL...\")\n",
        "print(\"💡 Dica: O Agno pode processar PDFs, páginas web, e muito mais!\")\n",
        "\n",
        "# Adicionando conteúdo de URLs reais que funcionam\n",
        "await knowledge_url.add_content_async(\n",
        "    name=\"Python Documentation\",\n",
        "    url=\"https://docs.python.org/3/tutorial/introduction.html\",\n",
        "    metadata={\"categoria\": \"documentacao\", \"tipo\": \"url\", \"fonte\": \"python_docs\"}\n",
        ")\n",
        "\n",
        "print(\"✅ Conteúdo da URL Python adicionado!\")\n",
        "\n",
        "\n",
        "await knowledge_url.add_content_async(\n",
        "    name=\"HTTP Status Codes\",\n",
        "    url=\"https://turing.education/index.html\",\n",
        "    metadata={\"categoria\": \"documentacao\", \"tipo\": \"url\", \"fonte\": \"turing education\"}\n",
        ")\n",
        "\n",
        "print(\"✅ Conteúdo da URL adicionado!\")\n",
        "print(\"🔗 URL processada com sucesso!\")"
      ]
    },
    {
      "cell_type": "code",
      "source": [
        "# 🧪 TESTE: Verificando se o conhecimento está funcionando\n",
        "print(\"🧪 TESTE: Verificando conhecimento\")\n",
        "print(\"=\" * 50)\n",
        "\n",
        "# Testando busca no conhecimento de texto\n",
        "print(\"🔍 Testando busca no conhecimento de texto...\")\n",
        "\n",
        "resultados_texto = knowledge.search(\"inteligência artificial\")\n",
        "print(f\"📊 Resultados encontrados: {len(resultados_texto)}\")\n",
        "for i, resultado in enumerate(resultados_texto):\n",
        "    print(f\"  {i+1}. {resultado.name}\")\n",
        "    print(f\"     ID: {resultado.id}\")\n",
        "    print(f\"     Preview: {resultado.content[:100]}...\")\n",
        "    print(f\"     Metadata: {resultado.meta_data}\")\n",
        "    print(f\"     Size: {resultado.size} caracteres\")\n",
        "    print()\n",
        "\n",
        "# Testando busca no conhecimento de URLs\n",
        "print(\"🔍 Testando busca no conhecimento de URLs...\")\n",
        "resultados_url = knowledge_url.search(\"Cursos\")\n",
        "print(f\"📊 Resultados encontrados: {len(resultados_url)}\")\n",
        "for i, resultado in enumerate(resultados_url):\n",
        "    print(f\"  {i+1}. {resultado.name}\")\n",
        "    print(f\"     ID: {resultado.id}\")\n",
        "    print(f\"     Preview: {resultado.content[:100]}...\")\n",
        "    print(f\"     Metadata: {resultado.meta_data}\")\n",
        "    print(f\"     Size: {resultado.size} caracteres\")\n",
        "    print()\n",
        "\n",
        "# Testando busca híbrida\n",
        "print(\"🔍 Testando busca híbrida...\")\n",
        "resultados_hibrido = knowledge.search(\"cursos de machine learning e python\", max_results=3)\n",
        "print(f\"📊 Resultados híbridos: {len(resultados_hibrido)}\")\n",
        "for i, resultado in enumerate(resultados_hibrido):\n",
        "    print(f\"  {i+1}. {resultado.name}\")\n",
        "    print(f\"     Tipo: {resultado.meta_data.get('tipo', 'N/A')}\")\n",
        "    print(f\"     Preview: {resultado.content[:100]}...\")\n",
        "    print()\n",
        "\n",
        "print(\"✅ Teste concluído!\")\n",
        "print(\"💡 Se você viu resultados, o conhecimento está funcionando!\")"
      ],
      "metadata": {
        "id": "3LvxDvNYq5La"
      },
      "execution_count": null,
      "outputs": []
    },
    {
      "cell_type": "code",
      "execution_count": null,
      "metadata": {
        "id": "yFX8QhyUlpUq"
      },
      "outputs": [],
      "source": [
        "# Caso 2: Agente com múltiplas bases de conhecimento\n",
        "print(\"\\n🔄 CASO 2: Agente com múltiplas bases de conhecimento\")\n",
        "print(\"=\" * 60)\n",
        "\n",
        "# Criando agente que pode usar ambas as bases\n",
        "agente_multiplas_bases = Agent(\n",
        "    name=\"Especialista Multi-Domínio\",\n",
        "    model=modelo,\n",
        "    knowledge=knowledge,  # Base principal (tech brasil)\n",
        "    search_knowledge=True,\n",
        "    description=\"Especialista em tecnologia brasileira e IA.\",\n",
        "    instructions=[\n",
        "        \"Use a base de conhecimento sobre tech brasileira quando relevante\",\n",
        "        \"Para perguntas sobre IA, use seu conhecimento geral\",\n",
        "        \"Seja específico e cite exemplos quando possível\"\n",
        "    ],\n",
        "    markdown=True\n",
        ")\n",
        "\n",
        "print(\"🤖 Agente multi-domínio criado!\")\n",
        "print(\"🧠 Pode responder sobre tech brasil E IA geral\")\n",
        "\n",
        "# Testando com pergunta que combina ambos os domínios\n",
        "pergunta_hibrida = \"Como a IA está sendo usada pelas fintechs brasileiras como o Nubank?\"\n",
        "\n",
        "print(f\"\\n❓ Pergunta híbrida: {pergunta_hibrida}\")\n",
        "print(\"\\n🤖 Resposta:\")\n",
        "\n",
        "# Usando print_response (não retorna valor)\n",
        "agente_multiplas_bases.print_response(pergunta_hibrida, stream=True)\n",
        "\n",
        "print(\"\\n🎯 Vantagem: Combina conhecimento específico com conhecimento geral!\")"
      ]
    },
    {
      "cell_type": "markdown",
      "metadata": {
        "id": "98-RfeqtlpUq"
      },
      "source": [
        "# 📈 Métricas e Avaliação do Sistema RAG\n",
        "\n",
        "Como saber se nosso sistema RAG está funcionando bem? Vamos implementar algumas métricas!"
      ]
    },
    {
      "cell_type": "code",
      "execution_count": null,
      "metadata": {
        "id": "QBrJO9v6lpUq"
      },
      "outputs": [],
      "source": [
        "# Sistema de avaliação do RAG\n",
        "import time\n",
        "from datetime import datetime\n",
        "\n",
        "class AvaliadorRAG:\n",
        "    def __init__(self):\n",
        "        self.metricas = {\n",
        "            'consultas_realizadas': 0,\n",
        "            'tempo_medio_resposta': 0,\n",
        "            'documentos_encontrados': [],\n",
        "            'historico_consultas': []\n",
        "        }\n",
        "\n",
        "    def avaliar_consulta(self, query, agente):\n",
        "        \"\"\"Avalia uma consulta RAG\"\"\"\n",
        "        inicio = time.time()\n",
        "\n",
        "        # Gera resposta\n",
        "        resposta = agente.run(query)\n",
        "\n",
        "        fim = time.time()\n",
        "        tempo_resposta = fim - inicio\n",
        "\n",
        "        # Atualiza métricas\n",
        "        self.metricas['consultas_realizadas'] += 1\n",
        "\n",
        "        # Calcula tempo médio\n",
        "        if self.metricas['tempo_medio_resposta'] == 0:\n",
        "            self.metricas['tempo_medio_resposta'] = tempo_resposta\n",
        "        else:\n",
        "            self.metricas['tempo_medio_resposta'] = (\n",
        "                self.metricas['tempo_medio_resposta'] + tempo_resposta\n",
        "            ) / 2\n",
        "\n",
        "        # Salva no histórico\n",
        "        self.metricas['historico_consultas'].append({\n",
        "            'timestamp': datetime.now().strftime('%H:%M:%S'),\n",
        "            'query': query[:50] + '...' if len(query) > 50 else query,\n",
        "            'tempo_resposta': round(tempo_resposta, 2)\n",
        "        })\n",
        "\n",
        "        return resposta, {\n",
        "            'tempo_resposta': round(tempo_resposta, 2)\n",
        "        }\n",
        "\n",
        "    def relatorio_metricas(self):\n",
        "        \"\"\"Gera relatório das métricas\"\"\"\n",
        "        print(\"📊 RELATÓRIO DE MÉTRICAS RAG\")\n",
        "        print(\"=\" * 40)\n",
        "        print(f\"🔢 Total de consultas: {self.metricas['consultas_realizadas']}\")\n",
        "        print(f\"⏱️ Tempo médio de resposta: {self.metricas['tempo_medio_resposta']:.2f}s\")\n",
        "\n",
        "        print(\"\\n📋 Histórico de consultas:\")\n",
        "        for consulta in self.metricas['historico_consultas'][-5:]:  # Últimas 5\n",
        "            print(f\"  {consulta['timestamp']} | {consulta['query']} | \"\n",
        "                  f\"Tempo: {consulta['tempo_resposta']}s\")\n",
        "\n",
        "# Criando avaliador\n",
        "avaliador = AvaliadorRAG()\n",
        "print(\"📊 Sistema de avaliação RAG criado!\")"
      ]
    },
    {
      "cell_type": "code",
      "execution_count": null,
      "metadata": {
        "id": "huOtfWGPlpUq"
      },
      "outputs": [],
      "source": [
        "# Testando diferentes consultas com métricas\n",
        "consultas_teste = [\n",
        "    \"Quais são as principais fintechs brasileiras?\",\n",
        "    \"Como está o cenário de startups em São Paulo?\",\n",
        "    \"O que você sabe sobre o Porto Digital no Recife?\",\n",
        "    \"Conte sobre o Mercado Livre e seu crescimento\"\n",
        "]\n",
        "\n",
        "print(\"🧪 Testando sistema RAG com diferentes consultas...\\n\")\n",
        "\n",
        "for i, consulta in enumerate(consultas_teste, 1):\n",
        "    print(f\"\\n{'='*60}\")\n",
        "    print(f\"TESTE {i}: {consulta}\")\n",
        "    print(\"=\"*60)\n",
        "\n",
        "    resposta, metricas_consulta = avaliador.avaliar_consulta(\n",
        "        consulta, agente_multiplas_bases\n",
        "    )\n",
        "\n",
        "    print(f\"\\n📊 Métricas desta consulta:\")\n",
        "    print(f\"   ⏱️ Tempo de resposta: {metricas_consulta['tempo_resposta']}s\")\n",
        "\n",
        "\n",
        "print(\"\\n\" + \"=\"*60)\n",
        "print(\"📈 RELATÓRIO FINAL DE MÉTRICAS\")\n",
        "print(\"=\"*60)\n",
        "avaliador.relatorio_metricas()"
      ]
    },
    {
      "cell_type": "markdown",
      "metadata": {
        "id": "UCDDYg8qlpUq"
      },
      "source": [
        "# 🎯 Exercícios Práticos\n",
        "\n",
        "Agora é sua vez de colocar a mão na massa!"
      ]
    },
    {
      "cell_type": "markdown",
      "metadata": {
        "id": "gFVOd4-9lpUq"
      },
      "source": [
        "## 🏋️ Exercício 1: Criando sua própria base de conhecimento\n",
        "\n",
        "**Desafio:** Crie uma base de conhecimento sobre um tema que você domina (esportes, música, culinária, etc.) e implemente um sistema RAG simples.\n",
        "\n",
        "**O que fazer:**\n",
        "1. Escolha um tema\n",
        "2. Crie 5-10 documentos sobre o tema\n",
        "3. Implemente busca por similaridade\n",
        "4. Teste com perguntas específicas"
      ]
    },
    {
      "cell_type": "code",
      "execution_count": null,
      "metadata": {
        "id": "BP4l2g8mlpUq"
      },
      "outputs": [],
      "source": [
        "# SEU CÓDIGO AQUI!\n",
        "# Dica: Use a estrutura da ConhecimentoTechBrasil como base\n",
        "\n",
        "class MeuConhecimento:\n",
        "    def __init__(self):\n",
        "        # TODO: Adicione sua base de conhecimento aqui\n",
        "        self.base_conhecimento = {\n",
        "            \"categoria1\": {\n",
        "                 \"item1\": \"Descrição detalhada...\",\n",
        "                 \"item2\": \"Outra descrição...\"\n",
        "             }\n",
        "        }\n",
        "        pass\n",
        "\n",
        "    def buscar_informacao(self, query):\n",
        "        # TODO: Implemente sua lógica de busca\n",
        "        pass\n",
        "\n",
        "# Teste aqui:\n",
        "# meu_conhecimento = MeuConhecimento()\n",
        "# resultado = meu_conhecimento.buscar_informacao(\"sua pergunta\")\n",
        "# print(resultado)\n",
        "\n",
        "print(\"💪 Complete este exercício para praticar!\")"
      ]
    },
    {
      "cell_type": "markdown",
      "metadata": {
        "id": "Y2G9U87glpUq"
      },
      "source": [
        "## 🏋️ Exercício 2: Comparando abordagens RAG\n",
        "\n",
        "**Desafio:** Compare a mesma pergunta usando:\n",
        "1. Agente sem conhecimento\n",
        "2. Agente com RAG tradicional (sempre busca)\n",
        "3. Agente com Agentic RAG (busca quando necessário)\n",
        "\n",
        "**Analise:** Qual abordagem dá melhores resultados para diferentes tipos de pergunta?"
      ]
    },
    {
      "cell_type": "code",
      "execution_count": null,
      "metadata": {
        "id": "u8_JVItWlpUq"
      },
      "outputs": [],
      "source": [
        "# SEU CÓDIGO AQUI!\n",
        "# Dica: Crie três versões de agentes e teste com a mesma pergunta\n",
        "\n",
        "def comparar_abordagens_rag(pergunta):\n",
        "    # TODO: Implemente as três abordagens\n",
        "\n",
        "    # 1. Agente sem conhecimento\n",
        "    agente_simples = None  # TODO: Criar agente simples\n",
        "\n",
        "    # 2. Agente com RAG tradicional\n",
        "    agente_rag_tradicional = None  # TODO: Criar com contexto sempre enriquecido\n",
        "\n",
        "    # 3. Agente com Agentic RAG\n",
        "    agente_agentic_rag = None  # TODO: Criar que decide quando buscar\n",
        "\n",
        "    # TODO: Teste e compare os resultados\n",
        "    pass\n",
        "\n",
        "# Teste com diferentes tipos de pergunta:\n",
        "perguntas_teste = [\n",
        "    \"Qual é a capital do Brasil?\",  # Conhecimento geral\n",
        "    \"Como está o preço das ações do Nubank hoje?\",  # Informação específica/atualizada\n",
        "    \"Explique como funciona machine learning\"  # Conhecimento técnico geral\n",
        "]\n",
        "\n",
        "print(\"🎯 Complete este exercício para entender as diferenças!\")"
      ]
    },
    {
      "cell_type": "markdown",
      "metadata": {
        "id": "ur4F6j0ElpUr"
      },
      "source": [
        "# 🚀 Casos de Uso Avançados\n",
        "\n",
        "Vamos ver alguns casos de uso mais avançados do sistema RAG!"
      ]
    },
    {
      "cell_type": "code",
      "execution_count": null,
      "metadata": {
        "id": "WMfZHbXQlpUy"
      },
      "outputs": [],
      "source": [
        "# Caso 1: Agente especialista que atualiza seu próprio conhecimento\n",
        "class AgenteAutoAtualizable:\n",
        "    def __init__(self, modelo, conhecimento_inicial):\n",
        "        self.modelo = modelo\n",
        "        self.conhecimento = conhecimento_inicial\n",
        "        self.historico_aprendizado = []\n",
        "\n",
        "    def processar_consulta(self, query):\n",
        "        \"\"\"Processa consulta e aprende com interações\"\"\"\n",
        "\n",
        "        # Busca conhecimento existente\n",
        "        informacoes = self.conhecimento.buscar_informacao(query)\n",
        "\n",
        "        # Se não encontrou informações suficientes, marca para atualização\n",
        "        if len(informacoes) < 2:\n",
        "            self.historico_aprendizado.append({\n",
        "                'query': query,\n",
        "                'timestamp': datetime.now().strftime('%Y-%m-%d %H:%M:%S'),\n",
        "                'status': 'conhecimento_insuficiente'\n",
        "            })\n",
        "            print(f\"⚠️ Conhecimento insuficiente para: '{query}'\")\n",
        "            print(\"📝 Marcado para futura atualização da base de conhecimento\")\n",
        "\n",
        "        # Cria agente especializado\n",
        "        agente, _ = criar_agente_com_conhecimento(query)\n",
        "        resposta = agente.run(query)\n",
        "\n",
        "        return resposta\n",
        "\n",
        "    def relatorio_aprendizado(self):\n",
        "        \"\"\"Mostra áreas que precisam de mais conhecimento\"\"\"\n",
        "        if not self.historico_aprendizado:\n",
        "            print(\"✅ Nenhuma lacuna de conhecimento identificada!\")\n",
        "            return\n",
        "\n",
        "        print(\"📊 RELATÓRIO DE LACUNAS DE CONHECIMENTO\")\n",
        "        print(\"=\" * 45)\n",
        "        for item in self.historico_aprendizado:\n",
        "            print(f\"🔍 {item['timestamp']}: {item['query']}\")\n",
        "\n",
        "# Testando agente auto-atualizável\n",
        "agente_auto = AgenteAutoAtualizable(modelo, conhecimento_brasil)\n",
        "\n",
        "print(\"🤖 Testando Agente Auto-Atualizável...\\n\")\n",
        "\n",
        "# Testando com consultas variadas\n",
        "consultas_variadas = [\n",
        "    \"Fale sobre fintechs brasileiras\",  # Tem conhecimento\n",
        "    \"Como está o mercado de criptomoedas no Brasil?\",  # Pode não ter\n",
        "    \"Quais são as startups de IA no Brasil?\",  # Pode não ter\n",
        "    \"Conte sobre o Porto Digital\"  # Tem conhecimento\n",
        "]\n",
        "\n",
        "for consulta in consultas_variadas:\n",
        "    print(f\"\\n❓ Pergunta: {consulta}\")\n",
        "    resposta = agente_auto.processar_consulta(consulta)\n",
        "    print(f\"🤖 Resposta resumida: {resposta.content[:150]}...\")\n",
        "\n",
        "print(\"\\n\" + \"=\"*50)\n",
        "agente_auto.relatorio_aprendizado()"
      ]
    },
    {
      "cell_type": "markdown",
      "metadata": {
        "id": "PFTCwAo-lpUy"
      },
      "source": [
        "# 📊 Visualizando Performance e Métricas"
      ]
    },
    {
      "cell_type": "code",
      "execution_count": null,
      "metadata": {
        "id": "HlCziu-alpUy"
      },
      "outputs": [],
      "source": [
        "# Criando visualizações das métricas do sistema RAG\n",
        "import matplotlib.pyplot as plt\n",
        "import numpy as np\n",
        "\n",
        "# Simulando dados de performance\n",
        "metodos = ['Sem Knowledge', 'RAG Tradicional', 'Agentic RAG', 'Multi-Fonte']\n",
        "tempo_resposta = [0.8, 2.1, 1.4, 2.8]  # segundos\n",
        "precisao = [65, 85, 92, 95]  # % de precisão estimada\n",
        "relevancia = [60, 82, 90, 94]  # % de relevância estimada\n",
        "\n",
        "# Criando subplot com múltiplos gráficos\n",
        "fig, ((ax1, ax2), (ax3, ax4)) = plt.subplots(2, 2, figsize=(15, 12))\n",
        "fig.suptitle('📊 Análise Comparativa de Sistemas RAG', fontsize=16, fontweight='bold')\n",
        "\n",
        "# Gráfico 1: Tempo de Resposta\n",
        "colors1 = ['lightcoral', 'lightblue', 'lightgreen', 'lightyellow']\n",
        "bars1 = ax1.bar(metodos, tempo_resposta, color=colors1, edgecolor='black')\n",
        "ax1.set_title('⏱️ Tempo de Resposta (segundos)', fontweight='bold')\n",
        "ax1.set_ylabel('Segundos')\n",
        "ax1.tick_params(axis='x', rotation=45)\n",
        "\n",
        "# Adicionando valores nas barras\n",
        "for bar, value in zip(bars1, tempo_resposta):\n",
        "    ax1.text(bar.get_x() + bar.get_width()/2, bar.get_height() + 0.05,\n",
        "             f'{value}s', ha='center', va='bottom', fontweight='bold')\n",
        "\n",
        "# Gráfico 2: Precisão\n",
        "bars2 = ax2.bar(metodos, precisao, color=['#ff9999', '#66b3ff', '#99ff99', '#ffcc99'], edgecolor='black')\n",
        "ax2.set_title('🎯 Precisão das Respostas (%)', fontweight='bold')\n",
        "ax2.set_ylabel('Precisão (%)')\n",
        "ax2.set_ylim(0, 100)\n",
        "ax2.tick_params(axis='x', rotation=45)\n",
        "\n",
        "for bar, value in zip(bars2, precisao):\n",
        "    ax2.text(bar.get_x() + bar.get_width()/2, bar.get_height() + 1,\n",
        "             f'{value}%', ha='center', va='bottom', fontweight='bold')\n",
        "\n",
        "# Gráfico 3: Relevância\n",
        "bars3 = ax3.bar(metodos, relevancia, color=['#ffb3ba', '#baffc9', '#bae1ff', '#ffffba'], edgecolor='black')\n",
        "ax3.set_title('📈 Relevância do Conteúdo (%)', fontweight='bold')\n",
        "ax3.set_ylabel('Relevância (%)')\n",
        "ax3.set_ylim(0, 100)\n",
        "ax3.tick_params(axis='x', rotation=45)\n",
        "\n",
        "for bar, value in zip(bars3, relevancia):\n",
        "    ax3.text(bar.get_x() + bar.get_width()/2, bar.get_height() + 1,\n",
        "             f'{value}%', ha='center', va='bottom', fontweight='bold')\n",
        "\n",
        "# Gráfico 4: Radar Chart comparativo\n",
        "categorias = ['Velocidade', 'Precisão', 'Relevância', 'Facilidade']\n",
        "valores_agentic = [85, 92, 90, 95]  # Valores normalizados para Agentic RAG\n",
        "\n",
        "# Calculando ângulos para o radar\n",
        "angulos = np.linspace(0, 2 * np.pi, len(categorias), endpoint=False).tolist()\n",
        "valores_agentic += valores_agentic[:1]  # Fechando o círculo\n",
        "angulos += angulos[:1]\n",
        "\n",
        "ax4.plot(angulos, valores_agentic, 'o-', linewidth=2, label='Agentic RAG', color='green')\n",
        "ax4.fill(angulos, valores_agentic, alpha=0.25, color='green')\n",
        "ax4.set_xticks(angulos[:-1])\n",
        "ax4.set_xticklabels(categorias)\n",
        "ax4.set_ylim(0, 100)\n",
        "ax4.set_title('🕸️ Perfil Agentic RAG', fontweight='bold')\n",
        "ax4.grid(True)\n",
        "\n",
        "plt.tight_layout()\n",
        "plt.show()\n",
        "\n",
        "print(\"📊 Análise dos Resultados:\")\n",
        "print(\"\\n🏆 VENCEDORES:\")\n",
        "print(\"   ⚡ Velocidade: Sem Knowledge (mais simples)\")\n",
        "print(\"   🎯 Precisão: Multi-Fonte (mais completo)\")\n",
        "print(\"   ⚖️ Equilíbrio: Agentic RAG (melhor custo-benefício)\")\n",
        "print(\"\\n💡 Conclusão: Agentic RAG oferece o melhor equilíbrio!\")"
      ]
    },
    {
      "cell_type": "markdown",
      "metadata": {
        "id": "lhzgm_S4lpUy"
      },
      "source": [
        "# 🎉 Resumo e Próximos Passos\n",
        "\n",
        "## O que aprendemos hoje:\n",
        "\n",
        "### 🧠 Conceitos Fundamentais:\n",
        "- **Knowledge**: Como dar conhecimento especializado aos agentes\n",
        "- **Embeddings**: Representação matemática de texto para busca semântica\n",
        "- **Vector Databases**: Armazenamento otimizado para busca por similaridade\n",
        "- **Agentic RAG**: Agentes que decidem quando buscar conhecimento\n",
        "\n",
        "### 🛠️ Implementações Práticas:\n",
        "- Sistema RAG básico com busca por similaridade\n",
        "- Agentes com conhecimento enriquecido\n",
        "- Métricas e avaliação de performance\n",
        "- Sistemas multi-fonte para conhecimento abrangente\n",
        "\n",
        "### 📊 Principais Diferenças:\n",
        "- **RAG Tradicional**: Sempre busca na base (mais lento, mas completo)\n",
        "- **Agentic RAG**: Busca apenas quando necessário (mais eficiente)\n",
        "- **Multi-Fonte**: Combina diferentes domínios de conhecimento\n",
        "\n",
        "## 🚀 Próximos Módulos:\n",
        "- **Módulo 5**: Memória e Persistência - Como fazer agentes lembrarem de conversas anteriores\n",
        "- **Módulo 6**: Agentes Multimodal - Processamento de imagens e outros tipos de mídia\n",
        "- **Módulo 7**: Reasoning - Como fazer agentes \"pensarem\" antes de agir\n",
        "\n",
        "![PROMPT: Agente especialista com conhecimento, como um bibliotecário experiente]\n",
        "\n",
        "### 💡 Dica Final:\n",
        "O **Knowledge** é o que transforma seus agentes de \"inteligentes\" para \"especialistas\"! Use essa ferramenta para criar sistemas que realmente entendem do seu domínio específico.\n",
        "\n",
        "**Liiindo!** Agora seus agentes têm cérebros especializados! 🧠✨"
      ]
    }
  ]
}