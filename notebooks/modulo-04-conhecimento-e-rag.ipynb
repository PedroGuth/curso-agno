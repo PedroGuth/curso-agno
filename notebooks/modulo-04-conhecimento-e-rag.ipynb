{
  "nbformat": 4,
  "nbformat_minor": 0,
  "metadata": {
    "colab": {
      "provenance": []
    },
    "language_info": {
      "name": "python"
    },
    "kernelspec": {
      "name": "python3",
      "display_name": "Python 3"
    },
    "widgets": {
      "application/vnd.jupyter.widget-state+json": {
        "75dab9b97c844ffc840adfaec3c4f9e7": {
          "model_module": "@jupyter-widgets/output",
          "model_name": "OutputModel",
          "model_module_version": "1.0.0",
          "state": {
            "_dom_classes": [],
            "_model_module": "@jupyter-widgets/output",
            "_model_module_version": "1.0.0",
            "_model_name": "OutputModel",
            "_view_count": null,
            "_view_module": "@jupyter-widgets/output",
            "_view_module_version": "1.0.0",
            "_view_name": "OutputView",
            "layout": "IPY_MODEL_279fbbea5477422789bccc0666f46a26",
            "msg_id": "",
            "outputs": [
              {
                "output_type": "display_data",
                "data": {
                  "text/plain": "\u001b[32m▰▱▱▱▱▱▱\u001b[0m Thinking...\n\u001b[36m┏━\u001b[0m\u001b[36m Message \u001b[0m\u001b[36m━━━━━━━━━━━━━━━━━━━━━━━━━━━━━━━━━━━━━━━━━━━━━━━━━━━━━━━━━━━━━━━━━━━━━━━━━━━━━━━━━━━━━━━━━━━━━━━━━━━━━━\u001b[0m\u001b[36m━┓\u001b[0m\n\u001b[36m┃\u001b[0m                                                                                                                 \u001b[36m┃\u001b[0m\n\u001b[36m┃\u001b[0m \u001b[32mMe conte sobre as principais fintechs brasileiras e como o PIX impactou o mercado.\u001b[0m                              \u001b[36m┃\u001b[0m\n\u001b[36m┃\u001b[0m                                                                                                                 \u001b[36m┃\u001b[0m\n\u001b[36m┗━━━━━━━━━━━━━━━━━━━━━━━━━━━━━━━━━━━━━━━━━━━━━━━━━━━━━━━━━━━━━━━━━━━━━━━━━━━━━━━━━━━━━━━━━━━━━━━━━━━━━━━━━━━━━━━━━┛\u001b[0m\n\u001b[33m┏━\u001b[0m\u001b[33m Tool Calls \u001b[0m\u001b[33m━━━━━━━━━━━━━━━━━━━━━━━━━━━━━━━━━━━━━━━━━━━━━━━━━━━━━━━━━━━━━━━━━━━━━━━━━━━━━━━━━━━━━━━━━━━━━━━━━━━\u001b[0m\u001b[33m━┓\u001b[0m\n\u001b[33m┃\u001b[0m                                                                                                                 \u001b[33m┃\u001b[0m\n\u001b[33m┃\u001b[0m • search_knowledge_base(query=principais fintechs brasileiras e impacto do PIX)                                 \u001b[33m┃\u001b[0m\n\u001b[33m┃\u001b[0m                                                                                                                 \u001b[33m┃\u001b[0m\n\u001b[33m┗━━━━━━━━━━━━━━━━━━━━━━━━━━━━━━━━━━━━━━━━━━━━━━━━━━━━━━━━━━━━━━━━━━━━━━━━━━━━━━━━━━━━━━━━━━━━━━━━━━━━━━━━━━━━━━━━━┛\u001b[0m\n\u001b[34m┏━\u001b[0m\u001b[34m Response (4.5s) \u001b[0m\u001b[34m━━━━━━━━━━━━━━━━━━━━━━━━━━━━━━━━━━━━━━━━━━━━━━━━━━━━━━━━━━━━━━━━━━━━━━━━━━━━━━━━━━━━━━━━━━━━━━\u001b[0m\u001b[34m━┓\u001b[0m\n\u001b[34m┃\u001b[0m                                                                                                                 \u001b[34m┃\u001b[0m\n\u001b[34m┃\u001b[0m O ecossistema de fintechs no Brasil é um dos mais dinâmicos da América Latina. Algumas das principais fintechs  \u001b[34m┃\u001b[0m\n\u001b[34m┃\u001b[0m brasileiras incluem:                                                                                            \u001b[34m┃\u001b[0m\n\u001b[34m┃\u001b[0m                                                                                                                 \u001b[34m┃\u001b[0m\n\u001b[34m┃\u001b[0m \u001b[1;33m • \u001b[0m\u001b[1mNubank:\u001b[0m A maior fintech da América Latina, com mais de 80 milhões de clientes. Oferece conta digital, cartão \u001b[34m┃\u001b[0m\n\u001b[34m┃\u001b[0m \u001b[1;33m   \u001b[0mde crédito sem anuidade e investimentos.                                                                     \u001b[34m┃\u001b[0m\n\u001b[34m┃\u001b[0m \u001b[1;33m • \u001b[0m\u001b[1mPagSeguro:\u001b[0m Uma das maiores empresas de pagamentos do Brasil, com soluções para e-commerce, maquininhas de    \u001b[34m┃\u001b[0m\n\u001b[34m┃\u001b[0m \u001b[1;33m   \u001b[0mcartão e serviços financeiros para PMEs.                                                                     \u001b[34m┃\u001b[0m\n\u001b[34m┃\u001b[0m \u001b[1;33m • \u001b[0m\u001b[1mStone:\u001b[0m Especializada em soluções de pagamento, conhecida por suas maquininhas e serviços bancários para      \u001b[34m┃\u001b[0m\n\u001b[34m┃\u001b[0m \u001b[1;33m   \u001b[0mpequenas e médias empresas.                                                                                  \u001b[34m┃\u001b[0m\n\u001b[34m┃\u001b[0m \u001b[1;33m • \u001b[0m\u001b[1mC6 Bank:\u001b[0m Banco digital completo com conta corrente, cartão de crédito, investimentos e empréstimos.          \u001b[34m┃\u001b[0m\n\u001b[34m┃\u001b[0m                                                                                                                 \u001b[34m┃\u001b[0m\n\u001b[34m┃\u001b[0m \u001b[1mImpacto do PIX:\u001b[0m O PIX revolucionou o sistema de pagamentos no Brasil, com mais de 100 milhões de chaves         \u001b[34m┃\u001b[0m\n\u001b[34m┃\u001b[0m cadastradas e processando bilhões de transações mensais. Ele permitiu transferências e pagamentos instantâneos, \u001b[34m┃\u001b[0m\n\u001b[34m┃\u001b[0m 24 horas por dia, 7 dias por semana, entre diferentes bancos e instituições financeiras, impulsionando a        \u001b[34m┃\u001b[0m\n\u001b[34m┃\u001b[0m inclusão financeira e a competição no setor.                                                                    \u001b[34m┃\u001b[0m\n\u001b[34m┃\u001b[0m                                                                                                                 \u001b[34m┃\u001b[0m\n\u001b[34m┗━━━━━━━━━━━━━━━━━━━━━━━━━━━━━━━━━━━━━━━━━━━━━━━━━━━━━━━━━━━━━━━━━━━━━━━━━━━━━━━━━━━━━━━━━━━━━━━━━━━━━━━━━━━━━━━━━┛\u001b[0m\n",
                  "text/html": "<pre style=\"white-space:pre;overflow-x:auto;line-height:normal;font-family:Menlo,'DejaVu Sans Mono',consolas,'Courier New',monospace\"><span style=\"color: #008000; text-decoration-color: #008000\">▰▱▱▱▱▱▱</span> Thinking...\n<span style=\"color: #008080; text-decoration-color: #008080\">┏━ Message ━━━━━━━━━━━━━━━━━━━━━━━━━━━━━━━━━━━━━━━━━━━━━━━━━━━━━━━━━━━━━━━━━━━━━━━━━━━━━━━━━━━━━━━━━━━━━━━━━━━━━━━┓</span>\n<span style=\"color: #008080; text-decoration-color: #008080\">┃</span>                                                                                                                 <span style=\"color: #008080; text-decoration-color: #008080\">┃</span>\n<span style=\"color: #008080; text-decoration-color: #008080\">┃</span> <span style=\"color: #008000; text-decoration-color: #008000\">Me conte sobre as principais fintechs brasileiras e como o PIX impactou o mercado.</span>                              <span style=\"color: #008080; text-decoration-color: #008080\">┃</span>\n<span style=\"color: #008080; text-decoration-color: #008080\">┃</span>                                                                                                                 <span style=\"color: #008080; text-decoration-color: #008080\">┃</span>\n<span style=\"color: #008080; text-decoration-color: #008080\">┗━━━━━━━━━━━━━━━━━━━━━━━━━━━━━━━━━━━━━━━━━━━━━━━━━━━━━━━━━━━━━━━━━━━━━━━━━━━━━━━━━━━━━━━━━━━━━━━━━━━━━━━━━━━━━━━━━┛</span>\n<span style=\"color: #808000; text-decoration-color: #808000\">┏━ Tool Calls ━━━━━━━━━━━━━━━━━━━━━━━━━━━━━━━━━━━━━━━━━━━━━━━━━━━━━━━━━━━━━━━━━━━━━━━━━━━━━━━━━━━━━━━━━━━━━━━━━━━━┓</span>\n<span style=\"color: #808000; text-decoration-color: #808000\">┃</span>                                                                                                                 <span style=\"color: #808000; text-decoration-color: #808000\">┃</span>\n<span style=\"color: #808000; text-decoration-color: #808000\">┃</span> • search_knowledge_base(query=principais fintechs brasileiras e impacto do PIX)                                 <span style=\"color: #808000; text-decoration-color: #808000\">┃</span>\n<span style=\"color: #808000; text-decoration-color: #808000\">┃</span>                                                                                                                 <span style=\"color: #808000; text-decoration-color: #808000\">┃</span>\n<span style=\"color: #808000; text-decoration-color: #808000\">┗━━━━━━━━━━━━━━━━━━━━━━━━━━━━━━━━━━━━━━━━━━━━━━━━━━━━━━━━━━━━━━━━━━━━━━━━━━━━━━━━━━━━━━━━━━━━━━━━━━━━━━━━━━━━━━━━━┛</span>\n<span style=\"color: #000080; text-decoration-color: #000080\">┏━ Response (4.5s) ━━━━━━━━━━━━━━━━━━━━━━━━━━━━━━━━━━━━━━━━━━━━━━━━━━━━━━━━━━━━━━━━━━━━━━━━━━━━━━━━━━━━━━━━━━━━━━━┓</span>\n<span style=\"color: #000080; text-decoration-color: #000080\">┃</span>                                                                                                                 <span style=\"color: #000080; text-decoration-color: #000080\">┃</span>\n<span style=\"color: #000080; text-decoration-color: #000080\">┃</span> O ecossistema de fintechs no Brasil é um dos mais dinâmicos da América Latina. Algumas das principais fintechs  <span style=\"color: #000080; text-decoration-color: #000080\">┃</span>\n<span style=\"color: #000080; text-decoration-color: #000080\">┃</span> brasileiras incluem:                                                                                            <span style=\"color: #000080; text-decoration-color: #000080\">┃</span>\n<span style=\"color: #000080; text-decoration-color: #000080\">┃</span>                                                                                                                 <span style=\"color: #000080; text-decoration-color: #000080\">┃</span>\n<span style=\"color: #000080; text-decoration-color: #000080\">┃</span> <span style=\"color: #808000; text-decoration-color: #808000; font-weight: bold\"> • </span><span style=\"font-weight: bold\">Nubank:</span> A maior fintech da América Latina, com mais de 80 milhões de clientes. Oferece conta digital, cartão <span style=\"color: #000080; text-decoration-color: #000080\">┃</span>\n<span style=\"color: #000080; text-decoration-color: #000080\">┃</span> <span style=\"color: #808000; text-decoration-color: #808000; font-weight: bold\">   </span>de crédito sem anuidade e investimentos.                                                                     <span style=\"color: #000080; text-decoration-color: #000080\">┃</span>\n<span style=\"color: #000080; text-decoration-color: #000080\">┃</span> <span style=\"color: #808000; text-decoration-color: #808000; font-weight: bold\"> • </span><span style=\"font-weight: bold\">PagSeguro:</span> Uma das maiores empresas de pagamentos do Brasil, com soluções para e-commerce, maquininhas de    <span style=\"color: #000080; text-decoration-color: #000080\">┃</span>\n<span style=\"color: #000080; text-decoration-color: #000080\">┃</span> <span style=\"color: #808000; text-decoration-color: #808000; font-weight: bold\">   </span>cartão e serviços financeiros para PMEs.                                                                     <span style=\"color: #000080; text-decoration-color: #000080\">┃</span>\n<span style=\"color: #000080; text-decoration-color: #000080\">┃</span> <span style=\"color: #808000; text-decoration-color: #808000; font-weight: bold\"> • </span><span style=\"font-weight: bold\">Stone:</span> Especializada em soluções de pagamento, conhecida por suas maquininhas e serviços bancários para      <span style=\"color: #000080; text-decoration-color: #000080\">┃</span>\n<span style=\"color: #000080; text-decoration-color: #000080\">┃</span> <span style=\"color: #808000; text-decoration-color: #808000; font-weight: bold\">   </span>pequenas e médias empresas.                                                                                  <span style=\"color: #000080; text-decoration-color: #000080\">┃</span>\n<span style=\"color: #000080; text-decoration-color: #000080\">┃</span> <span style=\"color: #808000; text-decoration-color: #808000; font-weight: bold\"> • </span><span style=\"font-weight: bold\">C6 Bank:</span> Banco digital completo com conta corrente, cartão de crédito, investimentos e empréstimos.          <span style=\"color: #000080; text-decoration-color: #000080\">┃</span>\n<span style=\"color: #000080; text-decoration-color: #000080\">┃</span>                                                                                                                 <span style=\"color: #000080; text-decoration-color: #000080\">┃</span>\n<span style=\"color: #000080; text-decoration-color: #000080\">┃</span> <span style=\"font-weight: bold\">Impacto do PIX:</span> O PIX revolucionou o sistema de pagamentos no Brasil, com mais de 100 milhões de chaves         <span style=\"color: #000080; text-decoration-color: #000080\">┃</span>\n<span style=\"color: #000080; text-decoration-color: #000080\">┃</span> cadastradas e processando bilhões de transações mensais. Ele permitiu transferências e pagamentos instantâneos, <span style=\"color: #000080; text-decoration-color: #000080\">┃</span>\n<span style=\"color: #000080; text-decoration-color: #000080\">┃</span> 24 horas por dia, 7 dias por semana, entre diferentes bancos e instituições financeiras, impulsionando a        <span style=\"color: #000080; text-decoration-color: #000080\">┃</span>\n<span style=\"color: #000080; text-decoration-color: #000080\">┃</span> inclusão financeira e a competição no setor.                                                                    <span style=\"color: #000080; text-decoration-color: #000080\">┃</span>\n<span style=\"color: #000080; text-decoration-color: #000080\">┃</span>                                                                                                                 <span style=\"color: #000080; text-decoration-color: #000080\">┃</span>\n<span style=\"color: #000080; text-decoration-color: #000080\">┗━━━━━━━━━━━━━━━━━━━━━━━━━━━━━━━━━━━━━━━━━━━━━━━━━━━━━━━━━━━━━━━━━━━━━━━━━━━━━━━━━━━━━━━━━━━━━━━━━━━━━━━━━━━━━━━━━┛</span>\n</pre>\n"
                },
                "metadata": {}
              }
            ]
          }
        },
        "279fbbea5477422789bccc0666f46a26": {
          "model_module": "@jupyter-widgets/base",
          "model_name": "LayoutModel",
          "model_module_version": "1.2.0",
          "state": {
            "_model_module": "@jupyter-widgets/base",
            "_model_module_version": "1.2.0",
            "_model_name": "LayoutModel",
            "_view_count": null,
            "_view_module": "@jupyter-widgets/base",
            "_view_module_version": "1.2.0",
            "_view_name": "LayoutView",
            "align_content": null,
            "align_items": null,
            "align_self": null,
            "border": null,
            "bottom": null,
            "display": null,
            "flex": null,
            "flex_flow": null,
            "grid_area": null,
            "grid_auto_columns": null,
            "grid_auto_flow": null,
            "grid_auto_rows": null,
            "grid_column": null,
            "grid_gap": null,
            "grid_row": null,
            "grid_template_areas": null,
            "grid_template_columns": null,
            "grid_template_rows": null,
            "height": null,
            "justify_content": null,
            "justify_items": null,
            "left": null,
            "margin": null,
            "max_height": null,
            "max_width": null,
            "min_height": null,
            "min_width": null,
            "object_fit": null,
            "object_position": null,
            "order": null,
            "overflow": null,
            "overflow_x": null,
            "overflow_y": null,
            "padding": null,
            "right": null,
            "top": null,
            "visibility": null,
            "width": null
          }
        },
        "871fc345b8854e9f972bfbab29c8706b": {
          "model_module": "@jupyter-widgets/output",
          "model_name": "OutputModel",
          "model_module_version": "1.0.0",
          "state": {
            "_dom_classes": [],
            "_model_module": "@jupyter-widgets/output",
            "_model_module_version": "1.0.0",
            "_model_name": "OutputModel",
            "_view_count": null,
            "_view_module": "@jupyter-widgets/output",
            "_view_module_version": "1.0.0",
            "_view_name": "OutputView",
            "layout": "IPY_MODEL_e7f060dd5a47473b89696ec3b45112ba",
            "msg_id": "",
            "outputs": [
              {
                "output_type": "display_data",
                "data": {
                  "text/plain": "\u001b[32m▰▰▰▰▰▰▰\u001b[0m Thinking...\n\u001b[36m┏━\u001b[0m\u001b[36m Message \u001b[0m\u001b[36m━━━━━━━━━━━━━━━━━━━━━━━━━━━━━━━━━━━━━━━━━━━━━━━━━━━━━━━━━━━━━━━━━━━━━━━━━━━━━━━━━━━━━━━━━━━━━━━━━━━━━━\u001b[0m\u001b[36m━┓\u001b[0m\n\u001b[36m┃\u001b[0m                                                                                                                 \u001b[36m┃\u001b[0m\n\u001b[36m┃\u001b[0m \u001b[32mQuais são os principais hubs de tecnologia no Brasil e o que torna cada um especial?\u001b[0m                            \u001b[36m┃\u001b[0m\n\u001b[36m┃\u001b[0m                                                                                                                 \u001b[36m┃\u001b[0m\n\u001b[36m┗━━━━━━━━━━━━━━━━━━━━━━━━━━━━━━━━━━━━━━━━━━━━━━━━━━━━━━━━━━━━━━━━━━━━━━━━━━━━━━━━━━━━━━━━━━━━━━━━━━━━━━━━━━━━━━━━━┛\u001b[0m\n\u001b[33m┏━\u001b[0m\u001b[33m Tool Calls \u001b[0m\u001b[33m━━━━━━━━━━━━━━━━━━━━━━━━━━━━━━━━━━━━━━━━━━━━━━━━━━━━━━━━━━━━━━━━━━━━━━━━━━━━━━━━━━━━━━━━━━━━━━━━━━━\u001b[0m\u001b[33m━┓\u001b[0m\n\u001b[33m┃\u001b[0m                                                                                                                 \u001b[33m┃\u001b[0m\n\u001b[33m┃\u001b[0m • search_knowledge_base(query=principais hubs de tecnologia no Brasil)                                          \u001b[33m┃\u001b[0m\n\u001b[33m┃\u001b[0m                                                                                                                 \u001b[33m┃\u001b[0m\n\u001b[33m┗━━━━━━━━━━━━━━━━━━━━━━━━━━━━━━━━━━━━━━━━━━━━━━━━━━━━━━━━━━━━━━━━━━━━━━━━━━━━━━━━━━━━━━━━━━━━━━━━━━━━━━━━━━━━━━━━━┛\u001b[0m\n\u001b[34m┏━\u001b[0m\u001b[34m Response (3.1s) \u001b[0m\u001b[34m━━━━━━━━━━━━━━━━━━━━━━━━━━━━━━━━━━━━━━━━━━━━━━━━━━━━━━━━━━━━━━━━━━━━━━━━━━━━━━━━━━━━━━━━━━━━━━\u001b[0m\u001b[34m━┓\u001b[0m\n\u001b[34m┃\u001b[0m                                                                                                                 \u001b[34m┃\u001b[0m\n\u001b[34m┃\u001b[0m Os principais hubs de tecnologia no Brasil são:                                                                 \u001b[34m┃\u001b[0m\n\u001b[34m┃\u001b[0m                                                                                                                 \u001b[34m┃\u001b[0m\n\u001b[34m┃\u001b[0m \u001b[1;33m • \u001b[0m\u001b[1mSão Paulo:\u001b[0m Concentra 70% das startups brasileiras e possui um ecossistema maduro de investidores,            \u001b[34m┃\u001b[0m\n\u001b[34m┃\u001b[0m \u001b[1;33m   \u001b[0maceleradoras e talentos tech. É sede de gigantes como Mercado Livre, iFood e 99.                             \u001b[34m┃\u001b[0m\n\u001b[34m┃\u001b[0m \u001b[1;33m • \u001b[0m\u001b[1mRecife (Porto Digital):\u001b[0m É o maior parque tecnológico do Brasil em faturamento, com foco em software, games e \u001b[34m┃\u001b[0m\n\u001b[34m┃\u001b[0m \u001b[1;33m   \u001b[0minovação.                                                                                                    \u001b[34m┃\u001b[0m\n\u001b[34m┃\u001b[0m \u001b[1;33m • \u001b[0m\u001b[1mFlorianópolis:\u001b[0m Conhecida como o \"Vale do Silício brasileiro\", é forte em software e inovação tecnológica,    \u001b[34m┃\u001b[0m\n\u001b[34m┃\u001b[0m \u001b[1;33m   \u001b[0mcom um ambiente propício para startups.                                                                      \u001b[34m┃\u001b[0m\n\u001b[34m┃\u001b[0m \u001b[1;33m • \u001b[0m\u001b[1mBelo Horizonte:\u001b[0m Importante centro de desenvolvimento de software, com um ecossistema de inovação em          \u001b[34m┃\u001b[0m\n\u001b[34m┃\u001b[0m \u001b[1;33m   \u001b[0mcrescimento. É sede de empresas como Totvs e Locaweb.                                                        \u001b[34m┃\u001b[0m\n\u001b[34m┃\u001b[0m                                                                                                                 \u001b[34m┃\u001b[0m\n\u001b[34m┗━━━━━━━━━━━━━━━━━━━━━━━━━━━━━━━━━━━━━━━━━━━━━━━━━━━━━━━━━━━━━━━━━━━━━━━━━━━━━━━━━━━━━━━━━━━━━━━━━━━━━━━━━━━━━━━━━┛\u001b[0m\n",
                  "text/html": "<pre style=\"white-space:pre;overflow-x:auto;line-height:normal;font-family:Menlo,'DejaVu Sans Mono',consolas,'Courier New',monospace\"><span style=\"color: #008000; text-decoration-color: #008000\">▰▰▰▰▰▰▰</span> Thinking...\n<span style=\"color: #008080; text-decoration-color: #008080\">┏━ Message ━━━━━━━━━━━━━━━━━━━━━━━━━━━━━━━━━━━━━━━━━━━━━━━━━━━━━━━━━━━━━━━━━━━━━━━━━━━━━━━━━━━━━━━━━━━━━━━━━━━━━━━┓</span>\n<span style=\"color: #008080; text-decoration-color: #008080\">┃</span>                                                                                                                 <span style=\"color: #008080; text-decoration-color: #008080\">┃</span>\n<span style=\"color: #008080; text-decoration-color: #008080\">┃</span> <span style=\"color: #008000; text-decoration-color: #008000\">Quais são os principais hubs de tecnologia no Brasil e o que torna cada um especial?</span>                            <span style=\"color: #008080; text-decoration-color: #008080\">┃</span>\n<span style=\"color: #008080; text-decoration-color: #008080\">┃</span>                                                                                                                 <span style=\"color: #008080; text-decoration-color: #008080\">┃</span>\n<span style=\"color: #008080; text-decoration-color: #008080\">┗━━━━━━━━━━━━━━━━━━━━━━━━━━━━━━━━━━━━━━━━━━━━━━━━━━━━━━━━━━━━━━━━━━━━━━━━━━━━━━━━━━━━━━━━━━━━━━━━━━━━━━━━━━━━━━━━━┛</span>\n<span style=\"color: #808000; text-decoration-color: #808000\">┏━ Tool Calls ━━━━━━━━━━━━━━━━━━━━━━━━━━━━━━━━━━━━━━━━━━━━━━━━━━━━━━━━━━━━━━━━━━━━━━━━━━━━━━━━━━━━━━━━━━━━━━━━━━━━┓</span>\n<span style=\"color: #808000; text-decoration-color: #808000\">┃</span>                                                                                                                 <span style=\"color: #808000; text-decoration-color: #808000\">┃</span>\n<span style=\"color: #808000; text-decoration-color: #808000\">┃</span> • search_knowledge_base(query=principais hubs de tecnologia no Brasil)                                          <span style=\"color: #808000; text-decoration-color: #808000\">┃</span>\n<span style=\"color: #808000; text-decoration-color: #808000\">┃</span>                                                                                                                 <span style=\"color: #808000; text-decoration-color: #808000\">┃</span>\n<span style=\"color: #808000; text-decoration-color: #808000\">┗━━━━━━━━━━━━━━━━━━━━━━━━━━━━━━━━━━━━━━━━━━━━━━━━━━━━━━━━━━━━━━━━━━━━━━━━━━━━━━━━━━━━━━━━━━━━━━━━━━━━━━━━━━━━━━━━━┛</span>\n<span style=\"color: #000080; text-decoration-color: #000080\">┏━ Response (3.1s) ━━━━━━━━━━━━━━━━━━━━━━━━━━━━━━━━━━━━━━━━━━━━━━━━━━━━━━━━━━━━━━━━━━━━━━━━━━━━━━━━━━━━━━━━━━━━━━━┓</span>\n<span style=\"color: #000080; text-decoration-color: #000080\">┃</span>                                                                                                                 <span style=\"color: #000080; text-decoration-color: #000080\">┃</span>\n<span style=\"color: #000080; text-decoration-color: #000080\">┃</span> Os principais hubs de tecnologia no Brasil são:                                                                 <span style=\"color: #000080; text-decoration-color: #000080\">┃</span>\n<span style=\"color: #000080; text-decoration-color: #000080\">┃</span>                                                                                                                 <span style=\"color: #000080; text-decoration-color: #000080\">┃</span>\n<span style=\"color: #000080; text-decoration-color: #000080\">┃</span> <span style=\"color: #808000; text-decoration-color: #808000; font-weight: bold\"> • </span><span style=\"font-weight: bold\">São Paulo:</span> Concentra 70% das startups brasileiras e possui um ecossistema maduro de investidores,            <span style=\"color: #000080; text-decoration-color: #000080\">┃</span>\n<span style=\"color: #000080; text-decoration-color: #000080\">┃</span> <span style=\"color: #808000; text-decoration-color: #808000; font-weight: bold\">   </span>aceleradoras e talentos tech. É sede de gigantes como Mercado Livre, iFood e 99.                             <span style=\"color: #000080; text-decoration-color: #000080\">┃</span>\n<span style=\"color: #000080; text-decoration-color: #000080\">┃</span> <span style=\"color: #808000; text-decoration-color: #808000; font-weight: bold\"> • </span><span style=\"font-weight: bold\">Recife (Porto Digital):</span> É o maior parque tecnológico do Brasil em faturamento, com foco em software, games e <span style=\"color: #000080; text-decoration-color: #000080\">┃</span>\n<span style=\"color: #000080; text-decoration-color: #000080\">┃</span> <span style=\"color: #808000; text-decoration-color: #808000; font-weight: bold\">   </span>inovação.                                                                                                    <span style=\"color: #000080; text-decoration-color: #000080\">┃</span>\n<span style=\"color: #000080; text-decoration-color: #000080\">┃</span> <span style=\"color: #808000; text-decoration-color: #808000; font-weight: bold\"> • </span><span style=\"font-weight: bold\">Florianópolis:</span> Conhecida como o \"Vale do Silício brasileiro\", é forte em software e inovação tecnológica,    <span style=\"color: #000080; text-decoration-color: #000080\">┃</span>\n<span style=\"color: #000080; text-decoration-color: #000080\">┃</span> <span style=\"color: #808000; text-decoration-color: #808000; font-weight: bold\">   </span>com um ambiente propício para startups.                                                                      <span style=\"color: #000080; text-decoration-color: #000080\">┃</span>\n<span style=\"color: #000080; text-decoration-color: #000080\">┃</span> <span style=\"color: #808000; text-decoration-color: #808000; font-weight: bold\"> • </span><span style=\"font-weight: bold\">Belo Horizonte:</span> Importante centro de desenvolvimento de software, com um ecossistema de inovação em          <span style=\"color: #000080; text-decoration-color: #000080\">┃</span>\n<span style=\"color: #000080; text-decoration-color: #000080\">┃</span> <span style=\"color: #808000; text-decoration-color: #808000; font-weight: bold\">   </span>crescimento. É sede de empresas como Totvs e Locaweb.                                                        <span style=\"color: #000080; text-decoration-color: #000080\">┃</span>\n<span style=\"color: #000080; text-decoration-color: #000080\">┃</span>                                                                                                                 <span style=\"color: #000080; text-decoration-color: #000080\">┃</span>\n<span style=\"color: #000080; text-decoration-color: #000080\">┗━━━━━━━━━━━━━━━━━━━━━━━━━━━━━━━━━━━━━━━━━━━━━━━━━━━━━━━━━━━━━━━━━━━━━━━━━━━━━━━━━━━━━━━━━━━━━━━━━━━━━━━━━━━━━━━━━┛</span>\n</pre>\n"
                },
                "metadata": {}
              }
            ]
          }
        },
        "e7f060dd5a47473b89696ec3b45112ba": {
          "model_module": "@jupyter-widgets/base",
          "model_name": "LayoutModel",
          "model_module_version": "1.2.0",
          "state": {
            "_model_module": "@jupyter-widgets/base",
            "_model_module_version": "1.2.0",
            "_model_name": "LayoutModel",
            "_view_count": null,
            "_view_module": "@jupyter-widgets/base",
            "_view_module_version": "1.2.0",
            "_view_name": "LayoutView",
            "align_content": null,
            "align_items": null,
            "align_self": null,
            "border": null,
            "bottom": null,
            "display": null,
            "flex": null,
            "flex_flow": null,
            "grid_area": null,
            "grid_auto_columns": null,
            "grid_auto_flow": null,
            "grid_auto_rows": null,
            "grid_column": null,
            "grid_gap": null,
            "grid_row": null,
            "grid_template_areas": null,
            "grid_template_columns": null,
            "grid_template_rows": null,
            "height": null,
            "justify_content": null,
            "justify_items": null,
            "left": null,
            "margin": null,
            "max_height": null,
            "max_width": null,
            "min_height": null,
            "min_width": null,
            "object_fit": null,
            "object_position": null,
            "order": null,
            "overflow": null,
            "overflow_x": null,
            "overflow_y": null,
            "padding": null,
            "right": null,
            "top": null,
            "visibility": null,
            "width": null
          }
        },
        "3a860adfe2bb466ebc7923f61dc030da": {
          "model_module": "@jupyter-widgets/output",
          "model_name": "OutputModel",
          "model_module_version": "1.0.0",
          "state": {
            "_dom_classes": [],
            "_model_module": "@jupyter-widgets/output",
            "_model_module_version": "1.0.0",
            "_model_name": "OutputModel",
            "_view_count": null,
            "_view_module": "@jupyter-widgets/output",
            "_view_module_version": "1.0.0",
            "_view_name": "OutputView",
            "layout": "IPY_MODEL_4b3970a237d945f8a7485532c347d03d",
            "msg_id": "",
            "outputs": [
              {
                "output_type": "display_data",
                "data": {
                  "text/plain": "\u001b[32m▰▰▰▱▱▱▱\u001b[0m Thinking...\n\u001b[36m┏━\u001b[0m\u001b[36m Message \u001b[0m\u001b[36m━━━━━━━━━━━━━━━━━━━━━━━━━━━━━━━━━━━━━━━━━━━━━━━━━━━━━━━━━━━━━━━━━━━━━━━━━━━━━━━━━━━━━━━━━━━━━━━━━━━━━━\u001b[0m\u001b[36m━┓\u001b[0m\n\u001b[36m┃\u001b[0m                                                                                                                 \u001b[36m┃\u001b[0m\n\u001b[36m┃\u001b[0m \u001b[32mQuais são as startups unicórnio brasileiras e qual o valor de mercado de cada uma?\u001b[0m                              \u001b[36m┃\u001b[0m\n\u001b[36m┃\u001b[0m                                                                                                                 \u001b[36m┃\u001b[0m\n\u001b[36m┗━━━━━━━━━━━━━━━━━━━━━━━━━━━━━━━━━━━━━━━━━━━━━━━━━━━━━━━━━━━━━━━━━━━━━━━━━━━━━━━━━━━━━━━━━━━━━━━━━━━━━━━━━━━━━━━━━┛\u001b[0m\n\u001b[33m┏━\u001b[0m\u001b[33m Tool Calls \u001b[0m\u001b[33m━━━━━━━━━━━━━━━━━━━━━━━━━━━━━━━━━━━━━━━━━━━━━━━━━━━━━━━━━━━━━━━━━━━━━━━━━━━━━━━━━━━━━━━━━━━━━━━━━━━\u001b[0m\u001b[33m━┓\u001b[0m\n\u001b[33m┃\u001b[0m                                                                                                                 \u001b[33m┃\u001b[0m\n\u001b[33m┃\u001b[0m • search_knowledge_base(query=lista de startups unicórnio brasileiras e seus valores de mercado)                \u001b[33m┃\u001b[0m\n\u001b[33m┃\u001b[0m                                                                                                                 \u001b[33m┃\u001b[0m\n\u001b[33m┗━━━━━━━━━━━━━━━━━━━━━━━━━━━━━━━━━━━━━━━━━━━━━━━━━━━━━━━━━━━━━━━━━━━━━━━━━━━━━━━━━━━━━━━━━━━━━━━━━━━━━━━━━━━━━━━━━┛\u001b[0m\n\u001b[34m┏━\u001b[0m\u001b[34m Response (2.2s) \u001b[0m\u001b[34m━━━━━━━━━━━━━━━━━━━━━━━━━━━━━━━━━━━━━━━━━━━━━━━━━━━━━━━━━━━━━━━━━━━━━━━━━━━━━━━━━━━━━━━━━━━━━━\u001b[0m\u001b[34m━┓\u001b[0m\n\u001b[34m┃\u001b[0m                                                                                                                 \u001b[34m┃\u001b[0m\n\u001b[34m┃\u001b[0m As startups unicórnio brasileiras incluem:                                                                      \u001b[34m┃\u001b[0m\n\u001b[34m┃\u001b[0m                                                                                                                 \u001b[34m┃\u001b[0m\n\u001b[34m┃\u001b[0m \u001b[1;33m • \u001b[0m\u001b[1mMercado Livre:\u001b[0m Avaliado em mais de 50 bilhões de dólares.                                                    \u001b[34m┃\u001b[0m\n\u001b[34m┃\u001b[0m \u001b[1;33m • \u001b[0m\u001b[1miFood:\u001b[0m Valor de mercado não especificado. Foi adquirido pela Prosus em 2021.                                 \u001b[34m┃\u001b[0m\n\u001b[34m┃\u001b[0m \u001b[1;33m • \u001b[0m\u001b[1m99:\u001b[0m Valor de mercado não especificado. Foi adquirido pela Didi Chuxing.                                      \u001b[34m┃\u001b[0m\n\u001b[34m┃\u001b[0m \u001b[1;33m • \u001b[0m\u001b[1mNubank:\u001b[0m Avaliado em mais de 40 bilhões de dólares.                                                           \u001b[34m┃\u001b[0m\n\u001b[34m┃\u001b[0m                                                                                                                 \u001b[34m┃\u001b[0m\n\u001b[34m┗━━━━━━━━━━━━━━━━━━━━━━━━━━━━━━━━━━━━━━━━━━━━━━━━━━━━━━━━━━━━━━━━━━━━━━━━━━━━━━━━━━━━━━━━━━━━━━━━━━━━━━━━━━━━━━━━━┛\u001b[0m\n",
                  "text/html": "<pre style=\"white-space:pre;overflow-x:auto;line-height:normal;font-family:Menlo,'DejaVu Sans Mono',consolas,'Courier New',monospace\"><span style=\"color: #008000; text-decoration-color: #008000\">▰▰▰▱▱▱▱</span> Thinking...\n<span style=\"color: #008080; text-decoration-color: #008080\">┏━ Message ━━━━━━━━━━━━━━━━━━━━━━━━━━━━━━━━━━━━━━━━━━━━━━━━━━━━━━━━━━━━━━━━━━━━━━━━━━━━━━━━━━━━━━━━━━━━━━━━━━━━━━━┓</span>\n<span style=\"color: #008080; text-decoration-color: #008080\">┃</span>                                                                                                                 <span style=\"color: #008080; text-decoration-color: #008080\">┃</span>\n<span style=\"color: #008080; text-decoration-color: #008080\">┃</span> <span style=\"color: #008000; text-decoration-color: #008000\">Quais são as startups unicórnio brasileiras e qual o valor de mercado de cada uma?</span>                              <span style=\"color: #008080; text-decoration-color: #008080\">┃</span>\n<span style=\"color: #008080; text-decoration-color: #008080\">┃</span>                                                                                                                 <span style=\"color: #008080; text-decoration-color: #008080\">┃</span>\n<span style=\"color: #008080; text-decoration-color: #008080\">┗━━━━━━━━━━━━━━━━━━━━━━━━━━━━━━━━━━━━━━━━━━━━━━━━━━━━━━━━━━━━━━━━━━━━━━━━━━━━━━━━━━━━━━━━━━━━━━━━━━━━━━━━━━━━━━━━━┛</span>\n<span style=\"color: #808000; text-decoration-color: #808000\">┏━ Tool Calls ━━━━━━━━━━━━━━━━━━━━━━━━━━━━━━━━━━━━━━━━━━━━━━━━━━━━━━━━━━━━━━━━━━━━━━━━━━━━━━━━━━━━━━━━━━━━━━━━━━━━┓</span>\n<span style=\"color: #808000; text-decoration-color: #808000\">┃</span>                                                                                                                 <span style=\"color: #808000; text-decoration-color: #808000\">┃</span>\n<span style=\"color: #808000; text-decoration-color: #808000\">┃</span> • search_knowledge_base(query=lista de startups unicórnio brasileiras e seus valores de mercado)                <span style=\"color: #808000; text-decoration-color: #808000\">┃</span>\n<span style=\"color: #808000; text-decoration-color: #808000\">┃</span>                                                                                                                 <span style=\"color: #808000; text-decoration-color: #808000\">┃</span>\n<span style=\"color: #808000; text-decoration-color: #808000\">┗━━━━━━━━━━━━━━━━━━━━━━━━━━━━━━━━━━━━━━━━━━━━━━━━━━━━━━━━━━━━━━━━━━━━━━━━━━━━━━━━━━━━━━━━━━━━━━━━━━━━━━━━━━━━━━━━━┛</span>\n<span style=\"color: #000080; text-decoration-color: #000080\">┏━ Response (2.2s) ━━━━━━━━━━━━━━━━━━━━━━━━━━━━━━━━━━━━━━━━━━━━━━━━━━━━━━━━━━━━━━━━━━━━━━━━━━━━━━━━━━━━━━━━━━━━━━━┓</span>\n<span style=\"color: #000080; text-decoration-color: #000080\">┃</span>                                                                                                                 <span style=\"color: #000080; text-decoration-color: #000080\">┃</span>\n<span style=\"color: #000080; text-decoration-color: #000080\">┃</span> As startups unicórnio brasileiras incluem:                                                                      <span style=\"color: #000080; text-decoration-color: #000080\">┃</span>\n<span style=\"color: #000080; text-decoration-color: #000080\">┃</span>                                                                                                                 <span style=\"color: #000080; text-decoration-color: #000080\">┃</span>\n<span style=\"color: #000080; text-decoration-color: #000080\">┃</span> <span style=\"color: #808000; text-decoration-color: #808000; font-weight: bold\"> • </span><span style=\"font-weight: bold\">Mercado Livre:</span> Avaliado em mais de 50 bilhões de dólares.                                                    <span style=\"color: #000080; text-decoration-color: #000080\">┃</span>\n<span style=\"color: #000080; text-decoration-color: #000080\">┃</span> <span style=\"color: #808000; text-decoration-color: #808000; font-weight: bold\"> • </span><span style=\"font-weight: bold\">iFood:</span> Valor de mercado não especificado. Foi adquirido pela Prosus em 2021.                                 <span style=\"color: #000080; text-decoration-color: #000080\">┃</span>\n<span style=\"color: #000080; text-decoration-color: #000080\">┃</span> <span style=\"color: #808000; text-decoration-color: #808000; font-weight: bold\"> • </span><span style=\"font-weight: bold\">99:</span> Valor de mercado não especificado. Foi adquirido pela Didi Chuxing.                                      <span style=\"color: #000080; text-decoration-color: #000080\">┃</span>\n<span style=\"color: #000080; text-decoration-color: #000080\">┃</span> <span style=\"color: #808000; text-decoration-color: #808000; font-weight: bold\"> • </span><span style=\"font-weight: bold\">Nubank:</span> Avaliado em mais de 40 bilhões de dólares.                                                           <span style=\"color: #000080; text-decoration-color: #000080\">┃</span>\n<span style=\"color: #000080; text-decoration-color: #000080\">┃</span>                                                                                                                 <span style=\"color: #000080; text-decoration-color: #000080\">┃</span>\n<span style=\"color: #000080; text-decoration-color: #000080\">┗━━━━━━━━━━━━━━━━━━━━━━━━━━━━━━━━━━━━━━━━━━━━━━━━━━━━━━━━━━━━━━━━━━━━━━━━━━━━━━━━━━━━━━━━━━━━━━━━━━━━━━━━━━━━━━━━━┛</span>\n</pre>\n"
                },
                "metadata": {}
              }
            ]
          }
        },
        "4b3970a237d945f8a7485532c347d03d": {
          "model_module": "@jupyter-widgets/base",
          "model_name": "LayoutModel",
          "model_module_version": "1.2.0",
          "state": {
            "_model_module": "@jupyter-widgets/base",
            "_model_module_version": "1.2.0",
            "_model_name": "LayoutModel",
            "_view_count": null,
            "_view_module": "@jupyter-widgets/base",
            "_view_module_version": "1.2.0",
            "_view_name": "LayoutView",
            "align_content": null,
            "align_items": null,
            "align_self": null,
            "border": null,
            "bottom": null,
            "display": null,
            "flex": null,
            "flex_flow": null,
            "grid_area": null,
            "grid_auto_columns": null,
            "grid_auto_flow": null,
            "grid_auto_rows": null,
            "grid_column": null,
            "grid_gap": null,
            "grid_row": null,
            "grid_template_areas": null,
            "grid_template_columns": null,
            "grid_template_rows": null,
            "height": null,
            "justify_content": null,
            "justify_items": null,
            "left": null,
            "margin": null,
            "max_height": null,
            "max_width": null,
            "min_height": null,
            "min_width": null,
            "object_fit": null,
            "object_position": null,
            "order": null,
            "overflow": null,
            "overflow_x": null,
            "overflow_y": null,
            "padding": null,
            "right": null,
            "top": null,
            "visibility": null,
            "width": null
          }
        },
        "ec98da0040df40f996b41e78e719ab53": {
          "model_module": "@jupyter-widgets/output",
          "model_name": "OutputModel",
          "model_module_version": "1.0.0",
          "state": {
            "_dom_classes": [],
            "_model_module": "@jupyter-widgets/output",
            "_model_module_version": "1.0.0",
            "_model_name": "OutputModel",
            "_view_count": null,
            "_view_module": "@jupyter-widgets/output",
            "_view_module_version": "1.0.0",
            "_view_name": "OutputView",
            "layout": "IPY_MODEL_c6e7828c19f44d22aaa5d07b448cf872",
            "msg_id": "",
            "outputs": [
              {
                "output_type": "display_data",
                "data": {
                  "text/plain": "\u001b[32m▰▱▱▱▱▱▱\u001b[0m Thinking...\n\u001b[36m┏━\u001b[0m\u001b[36m Message \u001b[0m\u001b[36m━━━━━━━━━━━━━━━━━━━━━━━━━━━━━━━━━━━━━━━━━━━━━━━━━━━━━━━━━━━━━━━━━━━━━━━━━━━━━━━━━━━━━━━━━━━━━━━━━━━━━━\u001b[0m\u001b[36m━┓\u001b[0m\n\u001b[36m┃\u001b[0m                                                                                                                 \u001b[36m┃\u001b[0m\n\u001b[36m┃\u001b[0m \u001b[32mMe conte sobre o Nubank e sua importância no ecossistema fintech brasileiro.\u001b[0m                                    \u001b[36m┃\u001b[0m\n\u001b[36m┃\u001b[0m                                                                                                                 \u001b[36m┃\u001b[0m\n\u001b[36m┗━━━━━━━━━━━━━━━━━━━━━━━━━━━━━━━━━━━━━━━━━━━━━━━━━━━━━━━━━━━━━━━━━━━━━━━━━━━━━━━━━━━━━━━━━━━━━━━━━━━━━━━━━━━━━━━━━┛\u001b[0m\n\u001b[34m┏━\u001b[0m\u001b[34m Response (3.3s) \u001b[0m\u001b[34m━━━━━━━━━━━━━━━━━━━━━━━━━━━━━━━━━━━━━━━━━━━━━━━━━━━━━━━━━━━━━━━━━━━━━━━━━━━━━━━━━━━━━━━━━━━━━━\u001b[0m\u001b[34m━┓\u001b[0m\n\u001b[34m┃\u001b[0m                                                                                                                 \u001b[34m┃\u001b[0m\n\u001b[34m┃\u001b[0m O Nubank é uma fintech brasileira fundada em 2013 por David Vélez, Cristina Junqueira e Edward Wible. Ele       \u001b[34m┃\u001b[0m\n\u001b[34m┃\u001b[0m surgiu como uma alternativa aos bancos tradicionais, oferecendo serviços financeiros de forma mais simples,     \u001b[34m┃\u001b[0m\n\u001b[34m┃\u001b[0m transparente e com foco na experiência do cliente.                                                              \u001b[34m┃\u001b[0m\n\u001b[34m┃\u001b[0m                                                                                                                 \u001b[34m┃\u001b[0m\n\u001b[34m┃\u001b[0m \u001b[1mImportância no ecossistema fintech brasileiro:\u001b[0m                                                                  \u001b[34m┃\u001b[0m\n\u001b[34m┃\u001b[0m                                                                                                                 \u001b[34m┃\u001b[0m\n\u001b[34m┃\u001b[0m \u001b[1;33m • \u001b[0m\u001b[1mDisrupção do mercado:\u001b[0m O Nubank desafiou o modelo bancário tradicional, com suas altas taxas, burocracia e    \u001b[34m┃\u001b[0m\n\u001b[34m┃\u001b[0m \u001b[1;33m   \u001b[0matendimento precário. Ao oferecer um cartão de crédito sem anuidade e um aplicativo intuitivo, conquistou    \u001b[34m┃\u001b[0m\n\u001b[34m┃\u001b[0m \u001b[1;33m   \u001b[0mrapidamente uma base de clientes fiéis e impulsionou a concorrência no setor.                                \u001b[34m┃\u001b[0m\n\u001b[34m┃\u001b[0m \u001b[1;33m • \u001b[0m\u001b[1mInovação tecnológica:\u001b[0m A empresa investiu pesado em tecnologia para otimizar seus processos, reduzir custos e \u001b[34m┃\u001b[0m\n\u001b[34m┃\u001b[0m \u001b[1;33m   \u001b[0moferecer serviços personalizados. O uso de inteligência artificial e análise de dados permitiu a criação de  \u001b[34m┃\u001b[0m\n\u001b[34m┃\u001b[0m \u001b[1;33m   \u001b[0mprodutos inovadores, como o \"NuConta\" (conta digital) e o programa de fidelidade \"Nubank Rewards\".           \u001b[34m┃\u001b[0m\n\u001b[34m┃\u001b[0m \u001b[1;33m • \u001b[0m\u001b[1mInclusão financeira:\u001b[0m O Nubank facilitou o acesso a serviços financeiros para milhões de brasileiros,         \u001b[34m┃\u001b[0m\n\u001b[34m┃\u001b[0m \u001b[1;33m   \u001b[0mespecialmente aqueles que não eram atendidos pelos bancos tradicionais. A empresa democratizou o crédito e   \u001b[34m┃\u001b[0m\n\u001b[34m┃\u001b[0m \u001b[1;33m   \u001b[0mincentivou a educação financeira, contribuindo para a inclusão de pessoas de baixa renda e jovens no sistema \u001b[34m┃\u001b[0m\n\u001b[34m┃\u001b[0m \u001b[1;33m   \u001b[0mfinanceiro.                                                                                                  \u001b[34m┃\u001b[0m\n\u001b[34m┃\u001b[0m \u001b[1;33m • \u001b[0m\u001b[1mEstímulo ao empreendedorismo:\u001b[0m O sucesso do Nubank inspirou o surgimento de diversas outras fintechs no       \u001b[34m┃\u001b[0m\n\u001b[34m┃\u001b[0m \u001b[1;33m   \u001b[0mBrasil, criando um ecossistema vibrante e inovador. A empresa também investiu em startups e programas de     \u001b[34m┃\u001b[0m\n\u001b[34m┃\u001b[0m \u001b[1;33m   \u001b[0maceleração, impulsionando o desenvolvimento do setor.                                                        \u001b[34m┃\u001b[0m\n\u001b[34m┃\u001b[0m \u001b[1;33m • \u001b[0m\u001b[1mImpacto na economia:\u001b[0m O Nubank gerou empregos, atraiu investimentos estrangeiros e contribuiu para o          \u001b[34m┃\u001b[0m\n\u001b[34m┃\u001b[0m \u001b[1;33m   \u001b[0mcrescimento do setor de tecnologia no Brasil. A empresa também impulsionou a digitalização da economia,      \u001b[34m┃\u001b[0m\n\u001b[34m┃\u001b[0m \u001b[1;33m   \u001b[0mincentivando o uso de pagamentos eletrônicos e reduzindo a dependência do dinheiro em espécie.               \u001b[34m┃\u001b[0m\n\u001b[34m┃\u001b[0m                                                                                                                 \u001b[34m┃\u001b[0m\n\u001b[34m┃\u001b[0m Em resumo, o Nubank desempenhou um papel fundamental na transformação do sistema financeiro brasileiro,         \u001b[34m┃\u001b[0m\n\u001b[34m┃\u001b[0m democratizando o acesso a serviços, incentivando a inovação e impulsionando o desenvolvimento do ecossistema    \u001b[34m┃\u001b[0m\n\u001b[34m┃\u001b[0m fintech.                                                                                                        \u001b[34m┃\u001b[0m\n\u001b[34m┃\u001b[0m                                                                                                                 \u001b[34m┃\u001b[0m\n\u001b[34m┗━━━━━━━━━━━━━━━━━━━━━━━━━━━━━━━━━━━━━━━━━━━━━━━━━━━━━━━━━━━━━━━━━━━━━━━━━━━━━━━━━━━━━━━━━━━━━━━━━━━━━━━━━━━━━━━━━┛\u001b[0m\n",
                  "text/html": "<pre style=\"white-space:pre;overflow-x:auto;line-height:normal;font-family:Menlo,'DejaVu Sans Mono',consolas,'Courier New',monospace\"><span style=\"color: #008000; text-decoration-color: #008000\">▰▱▱▱▱▱▱</span> Thinking...\n<span style=\"color: #008080; text-decoration-color: #008080\">┏━ Message ━━━━━━━━━━━━━━━━━━━━━━━━━━━━━━━━━━━━━━━━━━━━━━━━━━━━━━━━━━━━━━━━━━━━━━━━━━━━━━━━━━━━━━━━━━━━━━━━━━━━━━━┓</span>\n<span style=\"color: #008080; text-decoration-color: #008080\">┃</span>                                                                                                                 <span style=\"color: #008080; text-decoration-color: #008080\">┃</span>\n<span style=\"color: #008080; text-decoration-color: #008080\">┃</span> <span style=\"color: #008000; text-decoration-color: #008000\">Me conte sobre o Nubank e sua importância no ecossistema fintech brasileiro.</span>                                    <span style=\"color: #008080; text-decoration-color: #008080\">┃</span>\n<span style=\"color: #008080; text-decoration-color: #008080\">┃</span>                                                                                                                 <span style=\"color: #008080; text-decoration-color: #008080\">┃</span>\n<span style=\"color: #008080; text-decoration-color: #008080\">┗━━━━━━━━━━━━━━━━━━━━━━━━━━━━━━━━━━━━━━━━━━━━━━━━━━━━━━━━━━━━━━━━━━━━━━━━━━━━━━━━━━━━━━━━━━━━━━━━━━━━━━━━━━━━━━━━━┛</span>\n<span style=\"color: #000080; text-decoration-color: #000080\">┏━ Response (3.3s) ━━━━━━━━━━━━━━━━━━━━━━━━━━━━━━━━━━━━━━━━━━━━━━━━━━━━━━━━━━━━━━━━━━━━━━━━━━━━━━━━━━━━━━━━━━━━━━━┓</span>\n<span style=\"color: #000080; text-decoration-color: #000080\">┃</span>                                                                                                                 <span style=\"color: #000080; text-decoration-color: #000080\">┃</span>\n<span style=\"color: #000080; text-decoration-color: #000080\">┃</span> O Nubank é uma fintech brasileira fundada em 2013 por David Vélez, Cristina Junqueira e Edward Wible. Ele       <span style=\"color: #000080; text-decoration-color: #000080\">┃</span>\n<span style=\"color: #000080; text-decoration-color: #000080\">┃</span> surgiu como uma alternativa aos bancos tradicionais, oferecendo serviços financeiros de forma mais simples,     <span style=\"color: #000080; text-decoration-color: #000080\">┃</span>\n<span style=\"color: #000080; text-decoration-color: #000080\">┃</span> transparente e com foco na experiência do cliente.                                                              <span style=\"color: #000080; text-decoration-color: #000080\">┃</span>\n<span style=\"color: #000080; text-decoration-color: #000080\">┃</span>                                                                                                                 <span style=\"color: #000080; text-decoration-color: #000080\">┃</span>\n<span style=\"color: #000080; text-decoration-color: #000080\">┃</span> <span style=\"font-weight: bold\">Importância no ecossistema fintech brasileiro:</span>                                                                  <span style=\"color: #000080; text-decoration-color: #000080\">┃</span>\n<span style=\"color: #000080; text-decoration-color: #000080\">┃</span>                                                                                                                 <span style=\"color: #000080; text-decoration-color: #000080\">┃</span>\n<span style=\"color: #000080; text-decoration-color: #000080\">┃</span> <span style=\"color: #808000; text-decoration-color: #808000; font-weight: bold\"> • </span><span style=\"font-weight: bold\">Disrupção do mercado:</span> O Nubank desafiou o modelo bancário tradicional, com suas altas taxas, burocracia e    <span style=\"color: #000080; text-decoration-color: #000080\">┃</span>\n<span style=\"color: #000080; text-decoration-color: #000080\">┃</span> <span style=\"color: #808000; text-decoration-color: #808000; font-weight: bold\">   </span>atendimento precário. Ao oferecer um cartão de crédito sem anuidade e um aplicativo intuitivo, conquistou    <span style=\"color: #000080; text-decoration-color: #000080\">┃</span>\n<span style=\"color: #000080; text-decoration-color: #000080\">┃</span> <span style=\"color: #808000; text-decoration-color: #808000; font-weight: bold\">   </span>rapidamente uma base de clientes fiéis e impulsionou a concorrência no setor.                                <span style=\"color: #000080; text-decoration-color: #000080\">┃</span>\n<span style=\"color: #000080; text-decoration-color: #000080\">┃</span> <span style=\"color: #808000; text-decoration-color: #808000; font-weight: bold\"> • </span><span style=\"font-weight: bold\">Inovação tecnológica:</span> A empresa investiu pesado em tecnologia para otimizar seus processos, reduzir custos e <span style=\"color: #000080; text-decoration-color: #000080\">┃</span>\n<span style=\"color: #000080; text-decoration-color: #000080\">┃</span> <span style=\"color: #808000; text-decoration-color: #808000; font-weight: bold\">   </span>oferecer serviços personalizados. O uso de inteligência artificial e análise de dados permitiu a criação de  <span style=\"color: #000080; text-decoration-color: #000080\">┃</span>\n<span style=\"color: #000080; text-decoration-color: #000080\">┃</span> <span style=\"color: #808000; text-decoration-color: #808000; font-weight: bold\">   </span>produtos inovadores, como o \"NuConta\" (conta digital) e o programa de fidelidade \"Nubank Rewards\".           <span style=\"color: #000080; text-decoration-color: #000080\">┃</span>\n<span style=\"color: #000080; text-decoration-color: #000080\">┃</span> <span style=\"color: #808000; text-decoration-color: #808000; font-weight: bold\"> • </span><span style=\"font-weight: bold\">Inclusão financeira:</span> O Nubank facilitou o acesso a serviços financeiros para milhões de brasileiros,         <span style=\"color: #000080; text-decoration-color: #000080\">┃</span>\n<span style=\"color: #000080; text-decoration-color: #000080\">┃</span> <span style=\"color: #808000; text-decoration-color: #808000; font-weight: bold\">   </span>especialmente aqueles que não eram atendidos pelos bancos tradicionais. A empresa democratizou o crédito e   <span style=\"color: #000080; text-decoration-color: #000080\">┃</span>\n<span style=\"color: #000080; text-decoration-color: #000080\">┃</span> <span style=\"color: #808000; text-decoration-color: #808000; font-weight: bold\">   </span>incentivou a educação financeira, contribuindo para a inclusão de pessoas de baixa renda e jovens no sistema <span style=\"color: #000080; text-decoration-color: #000080\">┃</span>\n<span style=\"color: #000080; text-decoration-color: #000080\">┃</span> <span style=\"color: #808000; text-decoration-color: #808000; font-weight: bold\">   </span>financeiro.                                                                                                  <span style=\"color: #000080; text-decoration-color: #000080\">┃</span>\n<span style=\"color: #000080; text-decoration-color: #000080\">┃</span> <span style=\"color: #808000; text-decoration-color: #808000; font-weight: bold\"> • </span><span style=\"font-weight: bold\">Estímulo ao empreendedorismo:</span> O sucesso do Nubank inspirou o surgimento de diversas outras fintechs no       <span style=\"color: #000080; text-decoration-color: #000080\">┃</span>\n<span style=\"color: #000080; text-decoration-color: #000080\">┃</span> <span style=\"color: #808000; text-decoration-color: #808000; font-weight: bold\">   </span>Brasil, criando um ecossistema vibrante e inovador. A empresa também investiu em startups e programas de     <span style=\"color: #000080; text-decoration-color: #000080\">┃</span>\n<span style=\"color: #000080; text-decoration-color: #000080\">┃</span> <span style=\"color: #808000; text-decoration-color: #808000; font-weight: bold\">   </span>aceleração, impulsionando o desenvolvimento do setor.                                                        <span style=\"color: #000080; text-decoration-color: #000080\">┃</span>\n<span style=\"color: #000080; text-decoration-color: #000080\">┃</span> <span style=\"color: #808000; text-decoration-color: #808000; font-weight: bold\"> • </span><span style=\"font-weight: bold\">Impacto na economia:</span> O Nubank gerou empregos, atraiu investimentos estrangeiros e contribuiu para o          <span style=\"color: #000080; text-decoration-color: #000080\">┃</span>\n<span style=\"color: #000080; text-decoration-color: #000080\">┃</span> <span style=\"color: #808000; text-decoration-color: #808000; font-weight: bold\">   </span>crescimento do setor de tecnologia no Brasil. A empresa também impulsionou a digitalização da economia,      <span style=\"color: #000080; text-decoration-color: #000080\">┃</span>\n<span style=\"color: #000080; text-decoration-color: #000080\">┃</span> <span style=\"color: #808000; text-decoration-color: #808000; font-weight: bold\">   </span>incentivando o uso de pagamentos eletrônicos e reduzindo a dependência do dinheiro em espécie.               <span style=\"color: #000080; text-decoration-color: #000080\">┃</span>\n<span style=\"color: #000080; text-decoration-color: #000080\">┃</span>                                                                                                                 <span style=\"color: #000080; text-decoration-color: #000080\">┃</span>\n<span style=\"color: #000080; text-decoration-color: #000080\">┃</span> Em resumo, o Nubank desempenhou um papel fundamental na transformação do sistema financeiro brasileiro,         <span style=\"color: #000080; text-decoration-color: #000080\">┃</span>\n<span style=\"color: #000080; text-decoration-color: #000080\">┃</span> democratizando o acesso a serviços, incentivando a inovação e impulsionando o desenvolvimento do ecossistema    <span style=\"color: #000080; text-decoration-color: #000080\">┃</span>\n<span style=\"color: #000080; text-decoration-color: #000080\">┃</span> fintech.                                                                                                        <span style=\"color: #000080; text-decoration-color: #000080\">┃</span>\n<span style=\"color: #000080; text-decoration-color: #000080\">┃</span>                                                                                                                 <span style=\"color: #000080; text-decoration-color: #000080\">┃</span>\n<span style=\"color: #000080; text-decoration-color: #000080\">┗━━━━━━━━━━━━━━━━━━━━━━━━━━━━━━━━━━━━━━━━━━━━━━━━━━━━━━━━━━━━━━━━━━━━━━━━━━━━━━━━━━━━━━━━━━━━━━━━━━━━━━━━━━━━━━━━━┛</span>\n</pre>\n"
                },
                "metadata": {}
              }
            ]
          }
        },
        "c6e7828c19f44d22aaa5d07b448cf872": {
          "model_module": "@jupyter-widgets/base",
          "model_name": "LayoutModel",
          "model_module_version": "1.2.0",
          "state": {
            "_model_module": "@jupyter-widgets/base",
            "_model_module_version": "1.2.0",
            "_model_name": "LayoutModel",
            "_view_count": null,
            "_view_module": "@jupyter-widgets/base",
            "_view_module_version": "1.2.0",
            "_view_name": "LayoutView",
            "align_content": null,
            "align_items": null,
            "align_self": null,
            "border": null,
            "bottom": null,
            "display": null,
            "flex": null,
            "flex_flow": null,
            "grid_area": null,
            "grid_auto_columns": null,
            "grid_auto_flow": null,
            "grid_auto_rows": null,
            "grid_column": null,
            "grid_gap": null,
            "grid_row": null,
            "grid_template_areas": null,
            "grid_template_columns": null,
            "grid_template_rows": null,
            "height": null,
            "justify_content": null,
            "justify_items": null,
            "left": null,
            "margin": null,
            "max_height": null,
            "max_width": null,
            "min_height": null,
            "min_width": null,
            "object_fit": null,
            "object_position": null,
            "order": null,
            "overflow": null,
            "overflow_x": null,
            "overflow_y": null,
            "padding": null,
            "right": null,
            "top": null,
            "visibility": null,
            "width": null
          }
        },
        "753a4bd5dc364c209ec6437fc1973744": {
          "model_module": "@jupyter-widgets/output",
          "model_name": "OutputModel",
          "model_module_version": "1.0.0",
          "state": {
            "_dom_classes": [],
            "_model_module": "@jupyter-widgets/output",
            "_model_module_version": "1.0.0",
            "_model_name": "OutputModel",
            "_view_count": null,
            "_view_module": "@jupyter-widgets/output",
            "_view_module_version": "1.0.0",
            "_view_name": "OutputView",
            "layout": "IPY_MODEL_549fcc32f05e49338ec7765619fe142c",
            "msg_id": "",
            "outputs": [
              {
                "output_type": "display_data",
                "data": {
                  "text/plain": "\u001b[32m▰▰▰▰▱▱▱\u001b[0m Thinking...\n\u001b[36m┏━\u001b[0m\u001b[36m Message \u001b[0m\u001b[36m━━━━━━━━━━━━━━━━━━━━━━━━━━━━━━━━━━━━━━━━━━━━━━━━━━━━━━━━━━━━━━━━━━━━━━━━━━━━━━━━━━━━━━━━━━━━━━━━━━━━━━\u001b[0m\u001b[36m━┓\u001b[0m\n\u001b[36m┃\u001b[0m                                                                                                                 \u001b[36m┃\u001b[0m\n\u001b[36m┃\u001b[0m \u001b[32mMe conte sobre o Nubank e sua importância no ecossistema fintech brasileiro.\u001b[0m                                    \u001b[36m┃\u001b[0m\n\u001b[36m┃\u001b[0m                                                                                                                 \u001b[36m┃\u001b[0m\n\u001b[36m┗━━━━━━━━━━━━━━━━━━━━━━━━━━━━━━━━━━━━━━━━━━━━━━━━━━━━━━━━━━━━━━━━━━━━━━━━━━━━━━━━━━━━━━━━━━━━━━━━━━━━━━━━━━━━━━━━━┛\u001b[0m\n\u001b[33m┏━\u001b[0m\u001b[33m Tool Calls \u001b[0m\u001b[33m━━━━━━━━━━━━━━━━━━━━━━━━━━━━━━━━━━━━━━━━━━━━━━━━━━━━━━━━━━━━━━━━━━━━━━━━━━━━━━━━━━━━━━━━━━━━━━━━━━━\u001b[0m\u001b[33m━┓\u001b[0m\n\u001b[33m┃\u001b[0m                                                                                                                 \u001b[33m┃\u001b[0m\n\u001b[33m┃\u001b[0m • search_knowledge_base(query=Nubank importância fintech brasil)                                                \u001b[33m┃\u001b[0m\n\u001b[33m┃\u001b[0m                                                                                                                 \u001b[33m┃\u001b[0m\n\u001b[33m┗━━━━━━━━━━━━━━━━━━━━━━━━━━━━━━━━━━━━━━━━━━━━━━━━━━━━━━━━━━━━━━━━━━━━━━━━━━━━━━━━━━━━━━━━━━━━━━━━━━━━━━━━━━━━━━━━━┛\u001b[0m\n\u001b[34m┏━\u001b[0m\u001b[34m Response (2.2s) \u001b[0m\u001b[34m━━━━━━━━━━━━━━━━━━━━━━━━━━━━━━━━━━━━━━━━━━━━━━━━━━━━━━━━━━━━━━━━━━━━━━━━━━━━━━━━━━━━━━━━━━━━━━\u001b[0m\u001b[34m━┓\u001b[0m\n\u001b[34m┃\u001b[0m                                                                                                                 \u001b[34m┃\u001b[0m\n\u001b[34m┃\u001b[0m O Nubank é a maior fintech da América Latina, com mais de 80 milhões de clientes. Fundada em 2013 por David     \u001b[34m┃\u001b[0m\n\u001b[34m┃\u001b[0m Vélez, a empresa oferece conta digital, cartão de crédito sem anuidade e investimentos. O Nubank teve um IPO em \u001b[34m┃\u001b[0m\n\u001b[34m┃\u001b[0m 2021 na NYSE e foi avaliado em mais de 40 bilhões de dólares.                                                   \u001b[34m┃\u001b[0m\n\u001b[34m┃\u001b[0m                                                                                                                 \u001b[34m┃\u001b[0m\n\u001b[34m┃\u001b[0m O Nubank é importante para o ecossistema fintech brasileiro porque foi um dos primeiros bancos digitais a       \u001b[34m┃\u001b[0m\n\u001b[34m┃\u001b[0m oferecer serviços financeiros acessíveis a um grande número de pessoas. A empresa também ajudou a popularizar o \u001b[34m┃\u001b[0m\n\u001b[34m┃\u001b[0m uso de cartões de crédito e contas digitais no Brasil.                                                          \u001b[34m┃\u001b[0m\n\u001b[34m┃\u001b[0m                                                                                                                 \u001b[34m┃\u001b[0m\n\u001b[34m┗━━━━━━━━━━━━━━━━━━━━━━━━━━━━━━━━━━━━━━━━━━━━━━━━━━━━━━━━━━━━━━━━━━━━━━━━━━━━━━━━━━━━━━━━━━━━━━━━━━━━━━━━━━━━━━━━━┛\u001b[0m\n",
                  "text/html": "<pre style=\"white-space:pre;overflow-x:auto;line-height:normal;font-family:Menlo,'DejaVu Sans Mono',consolas,'Courier New',monospace\"><span style=\"color: #008000; text-decoration-color: #008000\">▰▰▰▰▱▱▱</span> Thinking...\n<span style=\"color: #008080; text-decoration-color: #008080\">┏━ Message ━━━━━━━━━━━━━━━━━━━━━━━━━━━━━━━━━━━━━━━━━━━━━━━━━━━━━━━━━━━━━━━━━━━━━━━━━━━━━━━━━━━━━━━━━━━━━━━━━━━━━━━┓</span>\n<span style=\"color: #008080; text-decoration-color: #008080\">┃</span>                                                                                                                 <span style=\"color: #008080; text-decoration-color: #008080\">┃</span>\n<span style=\"color: #008080; text-decoration-color: #008080\">┃</span> <span style=\"color: #008000; text-decoration-color: #008000\">Me conte sobre o Nubank e sua importância no ecossistema fintech brasileiro.</span>                                    <span style=\"color: #008080; text-decoration-color: #008080\">┃</span>\n<span style=\"color: #008080; text-decoration-color: #008080\">┃</span>                                                                                                                 <span style=\"color: #008080; text-decoration-color: #008080\">┃</span>\n<span style=\"color: #008080; text-decoration-color: #008080\">┗━━━━━━━━━━━━━━━━━━━━━━━━━━━━━━━━━━━━━━━━━━━━━━━━━━━━━━━━━━━━━━━━━━━━━━━━━━━━━━━━━━━━━━━━━━━━━━━━━━━━━━━━━━━━━━━━━┛</span>\n<span style=\"color: #808000; text-decoration-color: #808000\">┏━ Tool Calls ━━━━━━━━━━━━━━━━━━━━━━━━━━━━━━━━━━━━━━━━━━━━━━━━━━━━━━━━━━━━━━━━━━━━━━━━━━━━━━━━━━━━━━━━━━━━━━━━━━━━┓</span>\n<span style=\"color: #808000; text-decoration-color: #808000\">┃</span>                                                                                                                 <span style=\"color: #808000; text-decoration-color: #808000\">┃</span>\n<span style=\"color: #808000; text-decoration-color: #808000\">┃</span> • search_knowledge_base(query=Nubank importância fintech brasil)                                                <span style=\"color: #808000; text-decoration-color: #808000\">┃</span>\n<span style=\"color: #808000; text-decoration-color: #808000\">┃</span>                                                                                                                 <span style=\"color: #808000; text-decoration-color: #808000\">┃</span>\n<span style=\"color: #808000; text-decoration-color: #808000\">┗━━━━━━━━━━━━━━━━━━━━━━━━━━━━━━━━━━━━━━━━━━━━━━━━━━━━━━━━━━━━━━━━━━━━━━━━━━━━━━━━━━━━━━━━━━━━━━━━━━━━━━━━━━━━━━━━━┛</span>\n<span style=\"color: #000080; text-decoration-color: #000080\">┏━ Response (2.2s) ━━━━━━━━━━━━━━━━━━━━━━━━━━━━━━━━━━━━━━━━━━━━━━━━━━━━━━━━━━━━━━━━━━━━━━━━━━━━━━━━━━━━━━━━━━━━━━━┓</span>\n<span style=\"color: #000080; text-decoration-color: #000080\">┃</span>                                                                                                                 <span style=\"color: #000080; text-decoration-color: #000080\">┃</span>\n<span style=\"color: #000080; text-decoration-color: #000080\">┃</span> O Nubank é a maior fintech da América Latina, com mais de 80 milhões de clientes. Fundada em 2013 por David     <span style=\"color: #000080; text-decoration-color: #000080\">┃</span>\n<span style=\"color: #000080; text-decoration-color: #000080\">┃</span> Vélez, a empresa oferece conta digital, cartão de crédito sem anuidade e investimentos. O Nubank teve um IPO em <span style=\"color: #000080; text-decoration-color: #000080\">┃</span>\n<span style=\"color: #000080; text-decoration-color: #000080\">┃</span> 2021 na NYSE e foi avaliado em mais de 40 bilhões de dólares.                                                   <span style=\"color: #000080; text-decoration-color: #000080\">┃</span>\n<span style=\"color: #000080; text-decoration-color: #000080\">┃</span>                                                                                                                 <span style=\"color: #000080; text-decoration-color: #000080\">┃</span>\n<span style=\"color: #000080; text-decoration-color: #000080\">┃</span> O Nubank é importante para o ecossistema fintech brasileiro porque foi um dos primeiros bancos digitais a       <span style=\"color: #000080; text-decoration-color: #000080\">┃</span>\n<span style=\"color: #000080; text-decoration-color: #000080\">┃</span> oferecer serviços financeiros acessíveis a um grande número de pessoas. A empresa também ajudou a popularizar o <span style=\"color: #000080; text-decoration-color: #000080\">┃</span>\n<span style=\"color: #000080; text-decoration-color: #000080\">┃</span> uso de cartões de crédito e contas digitais no Brasil.                                                          <span style=\"color: #000080; text-decoration-color: #000080\">┃</span>\n<span style=\"color: #000080; text-decoration-color: #000080\">┃</span>                                                                                                                 <span style=\"color: #000080; text-decoration-color: #000080\">┃</span>\n<span style=\"color: #000080; text-decoration-color: #000080\">┗━━━━━━━━━━━━━━━━━━━━━━━━━━━━━━━━━━━━━━━━━━━━━━━━━━━━━━━━━━━━━━━━━━━━━━━━━━━━━━━━━━━━━━━━━━━━━━━━━━━━━━━━━━━━━━━━━┛</span>\n</pre>\n"
                },
                "metadata": {}
              }
            ]
          }
        },
        "549fcc32f05e49338ec7765619fe142c": {
          "model_module": "@jupyter-widgets/base",
          "model_name": "LayoutModel",
          "model_module_version": "1.2.0",
          "state": {
            "_model_module": "@jupyter-widgets/base",
            "_model_module_version": "1.2.0",
            "_model_name": "LayoutModel",
            "_view_count": null,
            "_view_module": "@jupyter-widgets/base",
            "_view_module_version": "1.2.0",
            "_view_name": "LayoutView",
            "align_content": null,
            "align_items": null,
            "align_self": null,
            "border": null,
            "bottom": null,
            "display": null,
            "flex": null,
            "flex_flow": null,
            "grid_area": null,
            "grid_auto_columns": null,
            "grid_auto_flow": null,
            "grid_auto_rows": null,
            "grid_column": null,
            "grid_gap": null,
            "grid_row": null,
            "grid_template_areas": null,
            "grid_template_columns": null,
            "grid_template_rows": null,
            "height": null,
            "justify_content": null,
            "justify_items": null,
            "left": null,
            "margin": null,
            "max_height": null,
            "max_width": null,
            "min_height": null,
            "min_width": null,
            "object_fit": null,
            "object_position": null,
            "order": null,
            "overflow": null,
            "overflow_x": null,
            "overflow_y": null,
            "padding": null,
            "right": null,
            "top": null,
            "visibility": null,
            "width": null
          }
        },
        "a68a357541174ef2903c4a37f5822187": {
          "model_module": "@jupyter-widgets/output",
          "model_name": "OutputModel",
          "model_module_version": "1.0.0",
          "state": {
            "_dom_classes": [],
            "_model_module": "@jupyter-widgets/output",
            "_model_module_version": "1.0.0",
            "_model_name": "OutputModel",
            "_view_count": null,
            "_view_module": "@jupyter-widgets/output",
            "_view_module_version": "1.0.0",
            "_view_name": "OutputView",
            "layout": "IPY_MODEL_883f4e3bb1ec44bca5c58fb5e10a2b7f",
            "msg_id": "",
            "outputs": [
              {
                "output_type": "display_data",
                "data": {
                  "text/plain": "\u001b[32m▰▰▱▱▱▱▱\u001b[0m Thinking...\n\u001b[36m┏━\u001b[0m\u001b[36m Message \u001b[0m\u001b[36m━━━━━━━━━━━━━━━━━━━━━━━━━━━━━━━━━━━━━━━━━━━━━━━━━━━━━━━━━━━━━━━━━━━━━━━━━━━━━━━━━━━━━━━━━━━━━━━━━━━━━━\u001b[0m\u001b[36m━┓\u001b[0m\n\u001b[36m┃\u001b[0m                                                                                                                 \u001b[36m┃\u001b[0m\n\u001b[36m┃\u001b[0m \u001b[32mComo a IA está sendo usada pelas fintechs brasileiras como o Nubank?\u001b[0m                                            \u001b[36m┃\u001b[0m\n\u001b[36m┃\u001b[0m                                                                                                                 \u001b[36m┃\u001b[0m\n\u001b[36m┗━━━━━━━━━━━━━━━━━━━━━━━━━━━━━━━━━━━━━━━━━━━━━━━━━━━━━━━━━━━━━━━━━━━━━━━━━━━━━━━━━━━━━━━━━━━━━━━━━━━━━━━━━━━━━━━━━┛\u001b[0m\n\u001b[33m┏━\u001b[0m\u001b[33m Tool Calls \u001b[0m\u001b[33m━━━━━━━━━━━━━━━━━━━━━━━━━━━━━━━━━━━━━━━━━━━━━━━━━━━━━━━━━━━━━━━━━━━━━━━━━━━━━━━━━━━━━━━━━━━━━━━━━━━\u001b[0m\u001b[33m━┓\u001b[0m\n\u001b[33m┃\u001b[0m                                                                                                                 \u001b[33m┃\u001b[0m\n\u001b[33m┃\u001b[0m • search_knowledge_base(query=IA fintechs brasileiras Nubank)                                                   \u001b[33m┃\u001b[0m\n\u001b[33m┃\u001b[0m                                                                                                                 \u001b[33m┃\u001b[0m\n\u001b[33m┗━━━━━━━━━━━━━━━━━━━━━━━━━━━━━━━━━━━━━━━━━━━━━━━━━━━━━━━━━━━━━━━━━━━━━━━━━━━━━━━━━━━━━━━━━━━━━━━━━━━━━━━━━━━━━━━━━┛\u001b[0m\n\u001b[34m┏━\u001b[0m\u001b[34m Response (3.6s) \u001b[0m\u001b[34m━━━━━━━━━━━━━━━━━━━━━━━━━━━━━━━━━━━━━━━━━━━━━━━━━━━━━━━━━━━━━━━━━━━━━━━━━━━━━━━━━━━━━━━━━━━━━━\u001b[0m\u001b[34m━┓\u001b[0m\n\u001b[34m┃\u001b[0m                                                                                                                 \u001b[34m┃\u001b[0m\n\u001b[34m┃\u001b[0m Embora a base de conhecimento não detalhe especificamente como o Nubank usa IA, podemos inferir alguns usos     \u001b[34m┃\u001b[0m\n\u001b[34m┃\u001b[0m comuns de IA em fintechs, dado o conhecimento geral sobre o assunto:                                            \u001b[34m┃\u001b[0m\n\u001b[34m┃\u001b[0m                                                                                                                 \u001b[34m┃\u001b[0m\n\u001b[34m┃\u001b[0m \u001b[1;33m • \u001b[0m\u001b[1mAnálise de crédito:\u001b[0m A IA pode ser usada para analisar grandes volumes de dados e determinar a probabilidade  \u001b[34m┃\u001b[0m\n\u001b[34m┃\u001b[0m \u001b[1;33m   \u001b[0mde um cliente pagar um empréstimo.                                                                           \u001b[34m┃\u001b[0m\n\u001b[34m┃\u001b[0m \u001b[1;33m • \u001b[0m\u001b[1mDetecção de fraudes:\u001b[0m Algoritmos de IA podem identificar padrões incomuns que podem indicar atividades        \u001b[34m┃\u001b[0m\n\u001b[34m┃\u001b[0m \u001b[1;33m   \u001b[0mfraudulentas.                                                                                                \u001b[34m┃\u001b[0m\n\u001b[34m┃\u001b[0m \u001b[1;33m • \u001b[0m\u001b[1mAtendimento ao cliente:\u001b[0m Chatbots com IA podem responder a perguntas frequentes e resolver problemas simples, \u001b[34m┃\u001b[0m\n\u001b[34m┃\u001b[0m \u001b[1;33m   \u001b[0mliberando os atendentes humanos para tarefas mais complexas.                                                 \u001b[34m┃\u001b[0m\n\u001b[34m┃\u001b[0m \u001b[1;33m • \u001b[0m\u001b[1mPersonalização de serviços:\u001b[0m A IA pode analisar o comportamento do cliente para oferecer produtos e serviços  \u001b[34m┃\u001b[0m\n\u001b[34m┃\u001b[0m \u001b[1;33m   \u001b[0mmais adequados às suas necessidades.                                                                         \u001b[34m┃\u001b[0m\n\u001b[34m┃\u001b[0m                                                                                                                 \u001b[34m┃\u001b[0m\n\u001b[34m┃\u001b[0m É provável que o Nubank, como a maior fintech da América Latina, utilize a IA em alguma ou em todas essas áreas \u001b[34m┃\u001b[0m\n\u001b[34m┃\u001b[0m para melhorar seus serviços e otimizar suas operações.                                                          \u001b[34m┃\u001b[0m\n\u001b[34m┃\u001b[0m                                                                                                                 \u001b[34m┃\u001b[0m\n\u001b[34m┗━━━━━━━━━━━━━━━━━━━━━━━━━━━━━━━━━━━━━━━━━━━━━━━━━━━━━━━━━━━━━━━━━━━━━━━━━━━━━━━━━━━━━━━━━━━━━━━━━━━━━━━━━━━━━━━━━┛\u001b[0m\n",
                  "text/html": "<pre style=\"white-space:pre;overflow-x:auto;line-height:normal;font-family:Menlo,'DejaVu Sans Mono',consolas,'Courier New',monospace\"><span style=\"color: #008000; text-decoration-color: #008000\">▰▰▱▱▱▱▱</span> Thinking...\n<span style=\"color: #008080; text-decoration-color: #008080\">┏━ Message ━━━━━━━━━━━━━━━━━━━━━━━━━━━━━━━━━━━━━━━━━━━━━━━━━━━━━━━━━━━━━━━━━━━━━━━━━━━━━━━━━━━━━━━━━━━━━━━━━━━━━━━┓</span>\n<span style=\"color: #008080; text-decoration-color: #008080\">┃</span>                                                                                                                 <span style=\"color: #008080; text-decoration-color: #008080\">┃</span>\n<span style=\"color: #008080; text-decoration-color: #008080\">┃</span> <span style=\"color: #008000; text-decoration-color: #008000\">Como a IA está sendo usada pelas fintechs brasileiras como o Nubank?</span>                                            <span style=\"color: #008080; text-decoration-color: #008080\">┃</span>\n<span style=\"color: #008080; text-decoration-color: #008080\">┃</span>                                                                                                                 <span style=\"color: #008080; text-decoration-color: #008080\">┃</span>\n<span style=\"color: #008080; text-decoration-color: #008080\">┗━━━━━━━━━━━━━━━━━━━━━━━━━━━━━━━━━━━━━━━━━━━━━━━━━━━━━━━━━━━━━━━━━━━━━━━━━━━━━━━━━━━━━━━━━━━━━━━━━━━━━━━━━━━━━━━━━┛</span>\n<span style=\"color: #808000; text-decoration-color: #808000\">┏━ Tool Calls ━━━━━━━━━━━━━━━━━━━━━━━━━━━━━━━━━━━━━━━━━━━━━━━━━━━━━━━━━━━━━━━━━━━━━━━━━━━━━━━━━━━━━━━━━━━━━━━━━━━━┓</span>\n<span style=\"color: #808000; text-decoration-color: #808000\">┃</span>                                                                                                                 <span style=\"color: #808000; text-decoration-color: #808000\">┃</span>\n<span style=\"color: #808000; text-decoration-color: #808000\">┃</span> • search_knowledge_base(query=IA fintechs brasileiras Nubank)                                                   <span style=\"color: #808000; text-decoration-color: #808000\">┃</span>\n<span style=\"color: #808000; text-decoration-color: #808000\">┃</span>                                                                                                                 <span style=\"color: #808000; text-decoration-color: #808000\">┃</span>\n<span style=\"color: #808000; text-decoration-color: #808000\">┗━━━━━━━━━━━━━━━━━━━━━━━━━━━━━━━━━━━━━━━━━━━━━━━━━━━━━━━━━━━━━━━━━━━━━━━━━━━━━━━━━━━━━━━━━━━━━━━━━━━━━━━━━━━━━━━━━┛</span>\n<span style=\"color: #000080; text-decoration-color: #000080\">┏━ Response (3.6s) ━━━━━━━━━━━━━━━━━━━━━━━━━━━━━━━━━━━━━━━━━━━━━━━━━━━━━━━━━━━━━━━━━━━━━━━━━━━━━━━━━━━━━━━━━━━━━━━┓</span>\n<span style=\"color: #000080; text-decoration-color: #000080\">┃</span>                                                                                                                 <span style=\"color: #000080; text-decoration-color: #000080\">┃</span>\n<span style=\"color: #000080; text-decoration-color: #000080\">┃</span> Embora a base de conhecimento não detalhe especificamente como o Nubank usa IA, podemos inferir alguns usos     <span style=\"color: #000080; text-decoration-color: #000080\">┃</span>\n<span style=\"color: #000080; text-decoration-color: #000080\">┃</span> comuns de IA em fintechs, dado o conhecimento geral sobre o assunto:                                            <span style=\"color: #000080; text-decoration-color: #000080\">┃</span>\n<span style=\"color: #000080; text-decoration-color: #000080\">┃</span>                                                                                                                 <span style=\"color: #000080; text-decoration-color: #000080\">┃</span>\n<span style=\"color: #000080; text-decoration-color: #000080\">┃</span> <span style=\"color: #808000; text-decoration-color: #808000; font-weight: bold\"> • </span><span style=\"font-weight: bold\">Análise de crédito:</span> A IA pode ser usada para analisar grandes volumes de dados e determinar a probabilidade  <span style=\"color: #000080; text-decoration-color: #000080\">┃</span>\n<span style=\"color: #000080; text-decoration-color: #000080\">┃</span> <span style=\"color: #808000; text-decoration-color: #808000; font-weight: bold\">   </span>de um cliente pagar um empréstimo.                                                                           <span style=\"color: #000080; text-decoration-color: #000080\">┃</span>\n<span style=\"color: #000080; text-decoration-color: #000080\">┃</span> <span style=\"color: #808000; text-decoration-color: #808000; font-weight: bold\"> • </span><span style=\"font-weight: bold\">Detecção de fraudes:</span> Algoritmos de IA podem identificar padrões incomuns que podem indicar atividades        <span style=\"color: #000080; text-decoration-color: #000080\">┃</span>\n<span style=\"color: #000080; text-decoration-color: #000080\">┃</span> <span style=\"color: #808000; text-decoration-color: #808000; font-weight: bold\">   </span>fraudulentas.                                                                                                <span style=\"color: #000080; text-decoration-color: #000080\">┃</span>\n<span style=\"color: #000080; text-decoration-color: #000080\">┃</span> <span style=\"color: #808000; text-decoration-color: #808000; font-weight: bold\"> • </span><span style=\"font-weight: bold\">Atendimento ao cliente:</span> Chatbots com IA podem responder a perguntas frequentes e resolver problemas simples, <span style=\"color: #000080; text-decoration-color: #000080\">┃</span>\n<span style=\"color: #000080; text-decoration-color: #000080\">┃</span> <span style=\"color: #808000; text-decoration-color: #808000; font-weight: bold\">   </span>liberando os atendentes humanos para tarefas mais complexas.                                                 <span style=\"color: #000080; text-decoration-color: #000080\">┃</span>\n<span style=\"color: #000080; text-decoration-color: #000080\">┃</span> <span style=\"color: #808000; text-decoration-color: #808000; font-weight: bold\"> • </span><span style=\"font-weight: bold\">Personalização de serviços:</span> A IA pode analisar o comportamento do cliente para oferecer produtos e serviços  <span style=\"color: #000080; text-decoration-color: #000080\">┃</span>\n<span style=\"color: #000080; text-decoration-color: #000080\">┃</span> <span style=\"color: #808000; text-decoration-color: #808000; font-weight: bold\">   </span>mais adequados às suas necessidades.                                                                         <span style=\"color: #000080; text-decoration-color: #000080\">┃</span>\n<span style=\"color: #000080; text-decoration-color: #000080\">┃</span>                                                                                                                 <span style=\"color: #000080; text-decoration-color: #000080\">┃</span>\n<span style=\"color: #000080; text-decoration-color: #000080\">┃</span> É provável que o Nubank, como a maior fintech da América Latina, utilize a IA em alguma ou em todas essas áreas <span style=\"color: #000080; text-decoration-color: #000080\">┃</span>\n<span style=\"color: #000080; text-decoration-color: #000080\">┃</span> para melhorar seus serviços e otimizar suas operações.                                                          <span style=\"color: #000080; text-decoration-color: #000080\">┃</span>\n<span style=\"color: #000080; text-decoration-color: #000080\">┃</span>                                                                                                                 <span style=\"color: #000080; text-decoration-color: #000080\">┃</span>\n<span style=\"color: #000080; text-decoration-color: #000080\">┗━━━━━━━━━━━━━━━━━━━━━━━━━━━━━━━━━━━━━━━━━━━━━━━━━━━━━━━━━━━━━━━━━━━━━━━━━━━━━━━━━━━━━━━━━━━━━━━━━━━━━━━━━━━━━━━━━┛</span>\n</pre>\n"
                },
                "metadata": {}
              }
            ]
          }
        },
        "883f4e3bb1ec44bca5c58fb5e10a2b7f": {
          "model_module": "@jupyter-widgets/base",
          "model_name": "LayoutModel",
          "model_module_version": "1.2.0",
          "state": {
            "_model_module": "@jupyter-widgets/base",
            "_model_module_version": "1.2.0",
            "_model_name": "LayoutModel",
            "_view_count": null,
            "_view_module": "@jupyter-widgets/base",
            "_view_module_version": "1.2.0",
            "_view_name": "LayoutView",
            "align_content": null,
            "align_items": null,
            "align_self": null,
            "border": null,
            "bottom": null,
            "display": null,
            "flex": null,
            "flex_flow": null,
            "grid_area": null,
            "grid_auto_columns": null,
            "grid_auto_flow": null,
            "grid_auto_rows": null,
            "grid_column": null,
            "grid_gap": null,
            "grid_row": null,
            "grid_template_areas": null,
            "grid_template_columns": null,
            "grid_template_rows": null,
            "height": null,
            "justify_content": null,
            "justify_items": null,
            "left": null,
            "margin": null,
            "max_height": null,
            "max_width": null,
            "min_height": null,
            "min_width": null,
            "object_fit": null,
            "object_position": null,
            "order": null,
            "overflow": null,
            "overflow_x": null,
            "overflow_y": null,
            "padding": null,
            "right": null,
            "top": null,
            "visibility": null,
            "width": null
          }
        }
      }
    }
  },
  "cells": [
    {
      "cell_type": "markdown",
      "metadata": {
        "id": "jVs2Nuj5lpUl"
      },
      "source": [
        "# 🧠 Módulo 4: Conhecimento e RAG - Transformando Agentes em Especialistas\n",
        "\n",
        "## Bem-vindos ao mundo do conhecimento especializado!\n",
        "\n",
        "Tá, mas o que é esse tal de **Knowledge** no Agno? Imagina que você tem um agente super inteligente, mas que não sabe nada sobre o seu negócio específico. É como contratar um PhD em física para trabalhar numa loja de roupas - ele é super inteligente, mas não sabe nada sobre moda!\n",
        "\n",
        "![PROMPT: Agente inteligente mas sem conhecimento específico, como um PhD perdido numa loja de roupas]\n",
        "\n",
        "Nos módulos anteriores, aprendemos:\n",
        "- **Módulo 1**: Como criar agentes básicos\n",
        "- **Módulo 2**: Como configurar modelos e instruções\n",
        "- **Módulo 3**: Como dar ferramentas aos agentes\n",
        "\n",
        "Agora vamos dar **conhecimento especializado** aos nossos agentes!\n",
        "\n",
        "## O que vamos aprender hoje:\n",
        "1. 🎯 O que é Knowledge e Agentic RAG\n",
        "2. 🔍 Vector Databases na prática\n",
        "3. 🧮 Embeddings e como funcionam\n",
        "4. 🤖 Implementando RAG com Agno\n",
        "5. 🚀 Casos práticos avançados"
      ]
    },
    {
      "cell_type": "markdown",
      "metadata": {
        "id": "JeF6cMpplpUm"
      },
      "source": [
        "# 🎯 O que é Knowledge e por que precisamos?\n",
        "\n",
        "Vamos começar com uma analogia simples: **Knowledge** é como dar uma biblioteca especializada para o seu agente!\n",
        "\n",
        "## O problema sem Knowledge:\n",
        "- Agente só sabe o que foi treinado (até uma data de corte)\n",
        "- Não conhece informações específicas da sua empresa\n",
        "- Pode \"alucinar\" informações sobre tópicos que não domina\n",
        "\n",
        "## A solução com Knowledge:\n",
        "- **Dynamic Few-Shot Learning**: O agente busca exemplos relevantes na hora\n",
        "- **Agentic RAG**: Busca informações quando precisa (não sempre)\n",
        "- **Conhecimento atualizado**: Sempre com as informações mais recentes\n",
        "\n",
        "### Analogia do Bibliotecário Inteligente 📚\n",
        "\n",
        "Imagine que seu agente é um bibliotecário super inteligente:\n",
        "- **Sem Knowledge**: Ele só responde com o que decorou\n",
        "- **Com Knowledge**: Ele pesquisa nos livros certos antes de responder\n",
        "\n",
        "**Dica!** No Agno, o Knowledge é usado de forma **agentic** - o agente decide quando precisa buscar informações!"
      ]
    },
    {
      "cell_type": "markdown",
      "metadata": {
        "id": "ntaCQK6-lpUm"
      },
      "source": [
        "# 🔧 Setup Inicial - Preparando o Ambiente\n",
        "\n",
        "Bora preparar nosso ambiente para trabalhar com Knowledge!"
      ]
    },
    {
      "cell_type": "code",
      "execution_count": 47,
      "metadata": {
        "colab": {
          "base_uri": "https://localhost:8080/"
        },
        "id": "tzNQFz8ClpUn",
        "outputId": "a64fa378-ac84-4bf2-cb72-ae0207852023"
      },
      "outputs": [
        {
          "output_type": "stream",
          "name": "stderr",
          "text": [
            "<frozen posixpath>:82: RuntimeWarning: coroutine 'Knowledge.add_content_async' was never awaited\n",
            "RuntimeWarning: Enable tracemalloc to get the object allocation traceback\n"
          ]
        },
        {
          "output_type": "stream",
          "name": "stdout",
          "text": [
            "📦 Bibliotecas instaladas com sucesso!\n",
            "Agora vamos configurar nossa API key do Google...\n"
          ]
        }
      ],
      "source": [
        "# Instalando as dependências necessárias\n",
        "!pip install -q agno google-generativeai lancedb tantivy\n",
        "\n",
        "print(\"📦 Bibliotecas instaladas com sucesso!\")\n",
        "print(\"Agora vamos configurar nossa API key do Google...\")"
      ]
    },
    {
      "cell_type": "code",
      "execution_count": 48,
      "metadata": {
        "colab": {
          "base_uri": "https://localhost:8080/"
        },
        "id": "oVrJdL6ZlpUn",
        "outputId": "fca6afc4-ec9d-4956-c634-418892bed7a6"
      },
      "outputs": [
        {
          "output_type": "stream",
          "name": "stdout",
          "text": [
            "✅ API Key configurada!\n",
            "💡 Dica: Pega sua chave gratuita em https://aistudio.google.com/\n"
          ]
        }
      ],
      "source": [
        "import os\n",
        "from getpass import getpass\n",
        "\n",
        "# Configurando a API Key do Google (gratuita!)\n",
        "if 'GOOGLE_API_KEY' not in os.environ:\n",
        "    os.environ['GOOGLE_API_KEY'] = getpass('🔑 Cole sua API Key do Google AI Studio: ')\n",
        "\n",
        "print(\"✅ API Key configurada!\")\n",
        "print(\"💡 Dica: Pega sua chave gratuita em https://aistudio.google.com/\")"
      ]
    },
    {
      "cell_type": "code",
      "execution_count": 49,
      "metadata": {
        "colab": {
          "base_uri": "https://localhost:8080/"
        },
        "id": "pmG7r0SllpUn",
        "outputId": "f576e754-20bb-4769-e487-639d58ff44db"
      },
      "outputs": [
        {
          "output_type": "stream",
          "name": "stdout",
          "text": [
            "📚 Importações realizadas!\n",
            "Agora temos tudo que precisamos para criar agentes inteligentes!\n"
          ]
        }
      ],
      "source": [
        "# Imports básicos para nosso módulo\n",
        "import asyncio\n",
        "from agno.agent import Agent\n",
        "from agno.models.google import Gemini\n",
        "from agno.knowledge.knowledge import Knowledge\n",
        "from agno.knowledge.embedder.google import GeminiEmbedder\n",
        "from agno.vectordb.lancedb import LanceDb, SearchType\n",
        "\n",
        "print(\"📚 Importações realizadas!\")\n",
        "print(\"Agora temos tudo que precisamos para criar agentes inteligentes!\")"
      ]
    },
    {
      "cell_type": "markdown",
      "metadata": {
        "id": "mQx0KZLHlpUn"
      },
      "source": [
        "# 🧮 Entendendo Embeddings - A Matemática por Trás da Magia\n",
        "\n",
        "Antes de partir para a prática, vamos entender **como funciona a mágica** dos embeddings!\n",
        "\n",
        "## O que são Embeddings?\n",
        "\n",
        "Embeddings são **representações numéricas** de texto. É como transformar palavras em coordenadas matemáticas!\n",
        "\n",
        "### Analogia do GPS 🗺️\n",
        "- **Texto**: \"Padaria da esquina\"\n",
        "- **Embedding**: [-23.5505, -46.6333] (coordenadas)\n",
        "- **Similaridade**: Distância entre pontos no espaço\n",
        "\n",
        "### Como funciona na prática:\n",
        "1. **Texto** → **Embedding** (vetor de números)\n",
        "2. Textos similares ficam **próximos** no espaço matemático\n",
        "3. Busca por **similaridade** usando distância vetorial\n",
        "\n",
        "**Matemática por trás:**\n",
        "- Cosseno entre vetores: $\\cos(\\theta) = \\frac{A \\cdot B}{||A|| \\cdot ||B||}$\n",
        "- Distância euclidiana: $d = \\sqrt{\\sum_{i=1}^{n}(a_i - b_i)^2}$"
      ]
    },
    {
      "cell_type": "code",
      "execution_count": 50,
      "metadata": {
        "colab": {
          "base_uri": "https://localhost:8080/",
          "height": 789
        },
        "id": "3rCjRX4MlpUn",
        "outputId": "403e112b-068c-4d1c-9dd8-0a0ef98c3517"
      },
      "outputs": [
        {
          "output_type": "stream",
          "name": "stderr",
          "text": [
            "/usr/local/lib/python3.12/dist-packages/IPython/core/pylabtools.py:151: UserWarning: Glyph 129518 (\\N{ABACUS}) missing from font(s) DejaVu Sans.\n",
            "  fig.canvas.print_figure(bytes_io, **kw)\n"
          ]
        },
        {
          "output_type": "display_data",
          "data": {
            "text/plain": [
              "<Figure size 1000x800 with 1 Axes>"
            ],
            "image/png": "[encoded data removed]"
          },
          "metadata": {}
        },
        {
          "output_type": "stream",
          "name": "stdout",
          "text": [
            "🎯 Viu como textos similares ficam agrupados?\n",
            "É assim que o agente 'entende' o significado dos textos!\n"
          ]
        }
      ],
      "source": [
        "# Vamos ver embeddings na prática!\n",
        "import numpy as np\n",
        "import matplotlib.pyplot as plt\n",
        "from sklearn.decomposition import PCA\n",
        "\n",
        "# Simulando embeddings de diferentes textos\n",
        "# (Na realidade, embeddings têm centenas ou milhares de dimensões)\n",
        "textos = [\n",
        "    \"cachorro\", \"gato\", \"hamster\",  # animais\n",
        "    \"carro\", \"moto\", \"bicicleta\",   # veículos\n",
        "    \"pizza\", \"hambúrguer\", \"lasanha\" # comidas\n",
        "]\n",
        "\n",
        "# Embeddings simulados (3 grupos distintos)\n",
        "embeddings_animais = np.random.normal([1, 1], 0.2, (3, 2))\n",
        "embeddings_veiculos = np.random.normal([3, 1], 0.2, (3, 2))\n",
        "embeddings_comidas = np.random.normal([2, 3], 0.2, (3, 2))\n",
        "\n",
        "# Juntando tudo\n",
        "embeddings = np.vstack([embeddings_animais, embeddings_veiculos, embeddings_comidas])\n",
        "cores = ['red', 'red', 'red', 'blue', 'blue', 'blue', 'green', 'green', 'green']\n",
        "\n",
        "# Visualizando\n",
        "plt.figure(figsize=(10, 8))\n",
        "plt.scatter(embeddings[:, 0], embeddings[:, 1], c=cores, s=100)\n",
        "\n",
        "for i, texto in enumerate(textos):\n",
        "    plt.annotate(texto, (embeddings[i, 0], embeddings[i, 1]),\n",
        "                xytext=(5, 5), textcoords='offset points', fontsize=12)\n",
        "\n",
        "plt.title('🧮 Visualização de Embeddings - Textos Similares Ficam Próximos', fontsize=14)\n",
        "plt.xlabel('Dimensão 1')\n",
        "plt.ylabel('Dimensão 2')\n",
        "plt.grid(True, alpha=0.3)\n",
        "plt.legend(['Animais', 'Veículos', 'Comidas'], loc='upper right')\n",
        "plt.show()\n",
        "\n",
        "print(\"🎯 Viu como textos similares ficam agrupados?\")\n",
        "print(\"É assim que o agente 'entende' o significado dos textos!\")"
      ]
    },
    {
      "cell_type": "markdown",
      "metadata": {
        "id": "wxXWKmlklpUo"
      },
      "source": [
        "# 🗄️ Vector Databases - O Cérebro do Sistema\n",
        "\n",
        "Agora que entendemos embeddings, vamos falar sobre **Vector Databases**!\n",
        "\n",
        "## O que são Vector Databases?\n",
        "\n",
        "São bancos de dados **especializados** em armazenar e buscar vetores (embeddings) de forma super eficiente!\n",
        "\n",
        "### Analogia da Biblioteca Mágica 📖\n",
        "- **Banco tradicional**: \"Me dê o livro com ID 123\"\n",
        "- **Vector Database**: \"Me dê os 5 livros mais similares a este tema\"\n",
        "\n",
        "### Como funciona o processo:\n",
        "1. **Chunking**: Quebra documentos em pedaços menores\n",
        "2. **Embedding**: Converte cada chunk em vetor\n",
        "3. **Indexing**: Armazena de forma otimizada\n",
        "4. **Search**: Busca por similaridade vetorial\n",
        "\n",
        "**Dica!** No Agno, usamos LanceDB como vector database - é rápido e fácil de usar!"
      ]
    },
    {
      "cell_type": "code",
      "execution_count": 51,
      "metadata": {
        "colab": {
          "base_uri": "https://localhost:8080/"
        },
        "id": "XWqa0kuqlpUo",
        "outputId": "9652bc7f-c4dd-44e6-8658-27d1c7a08a32"
      },
      "outputs": [
        {
          "output_type": "stream",
          "name": "stdout",
          "text": [
            "🏗️ Configurando base de conhecimento...\n",
            "✅ Embedder configurado!\n",
            "💡 Using Google's text-embedding-004 model (gratuito!)\n",
            "🗄️ Vector Database criado com sucesso!\n",
            "🔍 Configurado para busca híbrida (semântica + keyword)\n"
          ]
        }
      ],
      "source": [
        "# Criando nossa primeira base de conhecimento com Agno!\n",
        "print(\"🏗️ Configurando base de conhecimento...\")\n",
        "\n",
        "# Criando embedder do Google (gratuito!)\n",
        "embedder = GeminiEmbedder()\n",
        "\n",
        "print(\"✅ Embedder configurado!\")\n",
        "print(\"💡 Using Google's text-embedding-004 model (gratuito!)\")\n",
        "\n",
        "# Criando vector database com LanceDB\n",
        "vector_db = LanceDb(\n",
        "    uri=\"./tmp/lancedb_tech_brasil\",\n",
        "    table_name=\"tech_brasil_embeddings\",\n",
        "    search_type=SearchType.hybrid,  # Busca híbrida (semântica + keyword)\n",
        "    embedder=embedder\n",
        ")\n",
        "\n",
        "print(\"🗄️ Vector Database criado com sucesso!\")\n",
        "print(\"🔍 Configurado para busca híbrida (semântica + keyword)\")"
      ]
    },
    {
      "cell_type": "code",
      "execution_count": 52,
      "metadata": {
        "colab": {
          "base_uri": "https://localhost:8080/"
        },
        "id": "bKyqXQf_lpUo",
        "outputId": "878fd32a-97d9-43f8-ba3f-668342507854"
      },
      "outputs": [
        {
          "output_type": "stream",
          "name": "stdout",
          "text": [
            "📚 Base de conhecimento criada!\n",
            "🎯 Configurada para retornar os 3 documentos mais relevantes\n"
          ]
        }
      ],
      "source": [
        "# Criando nossa base de conhecimento\n",
        "knowledge = Knowledge(\n",
        "    name=\"Tech Brasil Knowledge Base\",\n",
        "    description=\"Base de conhecimento sobre tecnologia brasileira e startups\",\n",
        "    vector_db=vector_db,\n",
        "    max_results=3  # Retorna os 3 documentos mais relevantes\n",
        ")\n",
        "\n",
        "print(\"📚 Base de conhecimento criada!\")\n",
        "print(\"🎯 Configurada para retornar os 3 documentos mais relevantes\")"
      ]
    },
    {
      "cell_type": "markdown",
      "metadata": {
        "id": "_mIosteNlpUo"
      },
      "source": [
        "# 📝 Adicionando Conteúdo à Base de Conhecimento\n",
        "\n",
        "Agora vamos adicionar conhecimento sobre tecnologia brasileira à nossa base!"
      ]
    },
    {
      "cell_type": "code",
      "execution_count": 53,
      "metadata": {
        "colab": {
          "base_uri": "https://localhost:8080/",
          "height": 100
        },
        "id": "MHnTSHMOlpUo",
        "outputId": "15dc197f-92f6-4bf7-ac56-660d2d8d05e0"
      },
      "outputs": [
        {
          "output_type": "display_data",
          "data": {
            "text/plain": [
              "\u001b[34mINFO\u001b[0m Loading content: \u001b[93m6ef17457-f16f-545b-9631-ca620834e7fe\u001b[0m                                                         \n"
            ],
            "text/html": [
              "<pre style=\"white-space:pre;overflow-x:auto;line-height:normal;font-family:Menlo,'DejaVu Sans Mono',consolas,'Courier New',monospace\"><span style=\"color: #000080; text-decoration-color: #000080\">INFO</span> Loading content: <span style=\"color: #ffff00; text-decoration-color: #ffff00\">6ef17457-f16f-545b-9631-ca620834e7fe</span>                                                         \n",
              "</pre>\n"
            ]
          },
          "metadata": {}
        },
        {
          "output_type": "display_data",
          "data": {
            "text/plain": [
              "\u001b[34mINFO\u001b[0m Adding content from Fintechs Brasileiras                                                                      \n"
            ],
            "text/html": [
              "<pre style=\"white-space:pre;overflow-x:auto;line-height:normal;font-family:Menlo,'DejaVu Sans Mono',consolas,'Courier New',monospace\"><span style=\"color: #000080; text-decoration-color: #000080\">INFO</span> Adding content from Fintechs Brasileiras                                                                      \n",
              "</pre>\n"
            ]
          },
          "metadata": {}
        },
        {
          "output_type": "display_data",
          "data": {
            "text/plain": [
              "\u001b[33mWARNING \u001b[0m Contents DB not found for knowledge base: Tech Brasil Knowledge Base                                      \n"
            ],
            "text/html": [
              "<pre style=\"white-space:pre;overflow-x:auto;line-height:normal;font-family:Menlo,'DejaVu Sans Mono',consolas,'Courier New',monospace\"><span style=\"color: #808000; text-decoration-color: #808000\">WARNING </span> Contents DB not found for knowledge base: Tech Brasil Knowledge Base                                      \n",
              "</pre>\n"
            ]
          },
          "metadata": {}
        },
        {
          "output_type": "stream",
          "name": "stdout",
          "text": [
            "✅ Conteúdo sobre fintechs adicionado!\n",
            "📊 Metadata: categoria=fintechs, pais=brasil\n"
          ]
        }
      ],
      "source": [
        "# Adicionando conhecimento sobre fintechs brasileiras\n",
        "conteudo_fintechs = \"\"\"\n",
        "O ecossistema de fintechs brasileiras é um dos mais desenvolvidos da América Latina.\n",
        "\n",
        "**Principais Fintechs:**\n",
        "- **Nubank**: Maior fintech da América Latina, com mais de 80 milhões de clientes. Fundada em 2013 por David Vélez, oferece conta digital, cartão de crédito sem anuidade e investimentos.\n",
        "\n",
        "- **PagSeguro**: Uma das maiores empresas de pagamentos do Brasil, oferecendo soluções para e-commerce, maquininhas de cartão e serviços financeiros para PMEs.\n",
        "\n",
        "- **Stone**: Fintech brasileira especializada em soluções de pagamento, conhecida por suas maquininhas e serviços bancários para pequenas e médias empresas.\n",
        "\n",
        "- **C6 Bank**: Banco digital completo com conta corrente, cartão de crédito, investimentos e empréstimos.\n",
        "\n",
        "**Impacto do PIX:**\n",
        "O PIX revolucionou os pagamentos no Brasil, com mais de 100 milhões de chaves cadastradas e processando bilhões de transações mensais.\n",
        "\"\"\"\n",
        "\n",
        "# Adicionando conteúdo à base de conhecimento\n",
        "await knowledge.add_content_async(\n",
        "        name=\"Fintechs Brasileiras\",\n",
        "        text_content=conteudo_fintechs,\n",
        "        metadata={\"categoria\": \"fintechs\", \"pais\": \"brasil\"}\n",
        "    )\n",
        "\n",
        "print(\"✅ Conteúdo sobre fintechs adicionado!\")\n",
        "print(\"📊 Metadata: categoria=fintechs, pais=brasil\")"
      ]
    },
    {
      "cell_type": "code",
      "execution_count": 54,
      "metadata": {
        "id": "bFvO4YqLlpUo",
        "colab": {
          "base_uri": "https://localhost:8080/",
          "height": 100
        },
        "outputId": "217a8b2a-8f85-4b49-e8f4-e215439a7df2"
      },
      "outputs": [
        {
          "output_type": "display_data",
          "data": {
            "text/plain": [
              "\u001b[34mINFO\u001b[0m Loading content: \u001b[93m6d352d3f-4614-5d06-8085-fc0fc43484e3\u001b[0m                                                         \n"
            ],
            "text/html": [
              "<pre style=\"white-space:pre;overflow-x:auto;line-height:normal;font-family:Menlo,'DejaVu Sans Mono',consolas,'Courier New',monospace\"><span style=\"color: #000080; text-decoration-color: #000080\">INFO</span> Loading content: <span style=\"color: #ffff00; text-decoration-color: #ffff00\">6d352d3f-4614-5d06-8085-fc0fc43484e3</span>                                                         \n",
              "</pre>\n"
            ]
          },
          "metadata": {}
        },
        {
          "output_type": "display_data",
          "data": {
            "text/plain": [
              "\u001b[34mINFO\u001b[0m Adding content from Hubs de Tecnologia Brasil                                                                 \n"
            ],
            "text/html": [
              "<pre style=\"white-space:pre;overflow-x:auto;line-height:normal;font-family:Menlo,'DejaVu Sans Mono',consolas,'Courier New',monospace\"><span style=\"color: #000080; text-decoration-color: #000080\">INFO</span> Adding content from Hubs de Tecnologia Brasil                                                                 \n",
              "</pre>\n"
            ]
          },
          "metadata": {}
        },
        {
          "output_type": "display_data",
          "data": {
            "text/plain": [
              "\u001b[33mWARNING \u001b[0m Contents DB not found for knowledge base: Tech Brasil Knowledge Base                                      \n"
            ],
            "text/html": [
              "<pre style=\"white-space:pre;overflow-x:auto;line-height:normal;font-family:Menlo,'DejaVu Sans Mono',consolas,'Courier New',monospace\"><span style=\"color: #808000; text-decoration-color: #808000\">WARNING </span> Contents DB not found for knowledge base: Tech Brasil Knowledge Base                                      \n",
              "</pre>\n"
            ]
          },
          "metadata": {}
        },
        {
          "output_type": "stream",
          "name": "stdout",
          "text": [
            "✅ Conteúdo sobre hubs de tecnologia adicionado!\n",
            "🏙️ Inclui São Paulo, Recife, Florianópolis e Belo Horizonte\n"
          ]
        }
      ],
      "source": [
        "# Adicionando conhecimento sobre hubs de tecnologia\n",
        "conteudo_hubs = \"\"\"\n",
        "**Principais Hubs de Tecnologia no Brasil:**\n",
        "\n",
        "**São Paulo:**\n",
        "- Concentra 70% das startups brasileiras\n",
        "- Ecossistema maduro de investidores, aceleradoras e talentos tech\n",
        "- Sede de gigantes como Mercado Livre, iFood, 99\n",
        "\n",
        "**Recife - Porto Digital:**\n",
        "- Maior parque tecnológico do Brasil em faturamento\n",
        "- Mais de 350 empresas e 15 mil empregos\n",
        "- Foco em software, games e inovação\n",
        "\n",
        "**Florianópolis:**\n",
        "- Conhecida como Vale do Silício brasileiro\n",
        "- Forte em software e inovação tecnológica\n",
        "- Ambiente propício para startups\n",
        "\n",
        "**Belo Horizonte:**\n",
        "- Importante centro de desenvolvimento de software\n",
        "- Ecossistema de inovação em crescimento\n",
        "- Sede de empresas como Totvs e Locaweb\n",
        "\"\"\"\n",
        "\n",
        "await knowledge.add_content_async(\n",
        "        name=\"Hubs de Tecnologia Brasil\",\n",
        "        text_content=conteudo_hubs,\n",
        "        metadata={\"categoria\": \"hubs\", \"pais\": \"brasil\"}\n",
        "    )\n",
        "\n",
        "print(\"✅ Conteúdo sobre hubs de tecnologia adicionado!\")\n",
        "print(\"🏙️ Inclui São Paulo, Recife, Florianópolis e Belo Horizonte\")"
      ]
    },
    {
      "cell_type": "code",
      "execution_count": 55,
      "metadata": {
        "id": "qh7W4pqulpUo",
        "colab": {
          "base_uri": "https://localhost:8080/",
          "height": 100
        },
        "outputId": "140a01e3-3ca7-4fd8-dec0-b21d7be7423f"
      },
      "outputs": [
        {
          "output_type": "display_data",
          "data": {
            "text/plain": [
              "\u001b[34mINFO\u001b[0m Loading content: \u001b[93m1aeabede-02d3-590b-9548-ae49186fb1a9\u001b[0m                                                         \n"
            ],
            "text/html": [
              "<pre style=\"white-space:pre;overflow-x:auto;line-height:normal;font-family:Menlo,'DejaVu Sans Mono',consolas,'Courier New',monospace\"><span style=\"color: #000080; text-decoration-color: #000080\">INFO</span> Loading content: <span style=\"color: #ffff00; text-decoration-color: #ffff00\">1aeabede-02d3-590b-9548-ae49186fb1a9</span>                                                         \n",
              "</pre>\n"
            ]
          },
          "metadata": {}
        },
        {
          "output_type": "display_data",
          "data": {
            "text/plain": [
              "\u001b[34mINFO\u001b[0m Adding content from Unicórnios Brasileiros                                                                    \n"
            ],
            "text/html": [
              "<pre style=\"white-space:pre;overflow-x:auto;line-height:normal;font-family:Menlo,'DejaVu Sans Mono',consolas,'Courier New',monospace\"><span style=\"color: #000080; text-decoration-color: #000080\">INFO</span> Adding content from Unicórnios Brasileiros                                                                    \n",
              "</pre>\n"
            ]
          },
          "metadata": {}
        },
        {
          "output_type": "display_data",
          "data": {
            "text/plain": [
              "\u001b[33mWARNING \u001b[0m Contents DB not found for knowledge base: Tech Brasil Knowledge Base                                      \n"
            ],
            "text/html": [
              "<pre style=\"white-space:pre;overflow-x:auto;line-height:normal;font-family:Menlo,'DejaVu Sans Mono',consolas,'Courier New',monospace\"><span style=\"color: #808000; text-decoration-color: #808000\">WARNING </span> Contents DB not found for knowledge base: Tech Brasil Knowledge Base                                      \n",
              "</pre>\n"
            ]
          },
          "metadata": {}
        },
        {
          "output_type": "stream",
          "name": "stdout",
          "text": [
            "✅ Conteúdo sobre unicórnios brasileiros adicionado!\n",
            "🦄 Inclui Mercado Livre, iFood, 99 e Nubank\n"
          ]
        }
      ],
      "source": [
        "# Adicionando conhecimento sobre startups unicórnio\n",
        "conteudo_unicornios = \"\"\"\n",
        "**Startups Unicórnio Brasileiras (avaliadas em mais de 1 bilhão de dólares):**\n",
        "\n",
        "**Mercado Livre:**\n",
        "- Maior marketplace da América Latina\n",
        "- Fundado em 1999, presente em 18 países\n",
        "- Avaliado em mais de 50 bilhões de dólares\n",
        "\n",
        "**iFood:**\n",
        "- Maior aplicativo de delivery de comida do Brasil\n",
        "- Conecta restaurantes e consumidores em mais de 1000 cidades\n",
        "- Adquirido pela Prosus em 2021\n",
        "\n",
        "**99:**\n",
        "- Startup brasileira de mobilidade urbana\n",
        "- Adquirida pela Didi Chuxing\n",
        "- Oferece corridas de carro, moto e outros serviços\n",
        "\n",
        "**Nubank:**\n",
        "- Maior fintech da América Latina\n",
        "- IPO em 2021 na NYSE\n",
        "- Avaliado em mais de 40 bilhões de dólares\n",
        "\"\"\"\n",
        "\n",
        "await knowledge.add_content_async(\n",
        "        name=\"Unicórnios Brasileiros\",\n",
        "        text_content=conteudo_unicornios,\n",
        "        metadata={\"categoria\": \"unicornios\", \"pais\": \"brasil\"}\n",
        "    )\n",
        "\n",
        "print(\"✅ Conteúdo sobre unicórnios brasileiros adicionado!\")\n",
        "print(\"🦄 Inclui Mercado Livre, iFood, 99 e Nubank\")"
      ]
    },
    {
      "cell_type": "markdown",
      "metadata": {
        "id": "Hl9DXF_ulpUo"
      },
      "source": [
        "# 🤖 Criando Agente com Knowledge\n",
        "\n",
        "Agora vamos criar um agente especialista que usa nossa base de conhecimento!"
      ]
    },
    {
      "cell_type": "code",
      "execution_count": 56,
      "metadata": {
        "id": "_4VofcIGlpUo",
        "colab": {
          "base_uri": "https://localhost:8080/"
        },
        "outputId": "b3397d35-882e-4ce5-be4b-7c552032dd37"
      },
      "outputs": [
        {
          "output_type": "stream",
          "name": "stdout",
          "text": [
            "🤖 Modelo Gemini configurado!\n",
            "💡 Usando gemini-2.0-flash (gratuito e rápido!)\n"
          ]
        }
      ],
      "source": [
        "# Criando modelo Gemini\n",
        "modelo = Gemini(\n",
        "    id=\"gemini-2.0-flash\",\n",
        "    api_key=os.environ['GOOGLE_API_KEY']\n",
        ")\n",
        "\n",
        "print(\"🤖 Modelo Gemini configurado!\")\n",
        "print(\"💡 Usando gemini-2.0-flash (gratuito e rápido!)\")"
      ]
    },
    {
      "cell_type": "code",
      "execution_count": 57,
      "metadata": {
        "id": "TAJvcoI4lpUp",
        "colab": {
          "base_uri": "https://localhost:8080/"
        },
        "outputId": "d48469e1-d97d-4c46-f2b2-4b02b6fbb9d5"
      },
      "outputs": [
        {
          "output_type": "stream",
          "name": "stdout",
          "text": [
            "👨‍💻 Agente especialista criado!\n",
            "🧠 Com acesso à base de conhecimento sobre tech brasileira\n",
            "🔍 Agentic RAG ativado - o agente decide quando buscar informações!\n"
          ]
        }
      ],
      "source": [
        "# Criando agente especialista em tech brasileiro\n",
        "agente_tech_brasil = Agent(\n",
        "    name=\"Especialista Tech Brasil\",\n",
        "    model=modelo,\n",
        "    knowledge=knowledge,  # 🎯 AQUI ESTÁ A MÁGICA!\n",
        "    search_knowledge=True,  # 🎯 ATIVA O AGENTIC RAG!\n",
        "    description=\"Você é um especialista em tecnologia brasileira e startups nacionais.\",\n",
        "    instructions=[\n",
        "        \"Use informações específicas da base de conhecimento sobre tech brasileira\",\n",
        "        \"Sempre que possível, cite exemplos de empresas brasileiras\",\n",
        "        \"Seja preciso com dados sobre o mercado nacional\",\n",
        "        \"Busque na base de conhecimento quando precisar de informações específicas\"\n",
        "    ],\n",
        "    markdown=True\n",
        ")\n",
        "\n",
        "print(\"👨‍💻 Agente especialista criado!\")\n",
        "print(\"🧠 Com acesso à base de conhecimento sobre tech brasileira\")\n",
        "print(\"🔍 Agentic RAG ativado - o agente decide quando buscar informações!\")"
      ]
    },
    {
      "cell_type": "markdown",
      "metadata": {
        "id": "fVaARjbllpUp"
      },
      "source": [
        "# 🧪 Testando o Agente com Knowledge\n",
        "\n",
        "Vamos testar nosso agente especialista!"
      ]
    },
    {
      "cell_type": "code",
      "execution_count": 58,
      "metadata": {
        "id": "R2MDJt4klpUp",
        "colab": {
          "base_uri": "https://localhost:8080/",
          "height": 617,
          "referenced_widgets": [
            "75dab9b97c844ffc840adfaec3c4f9e7",
            "279fbbea5477422789bccc0666f46a26"
          ]
        },
        "outputId": "9183ecdf-494a-4ea1-8f07-556fd96f7bd0"
      },
      "outputs": [
        {
          "output_type": "stream",
          "name": "stdout",
          "text": [
            "🧪 TESTE 1: Pergunta sobre fintechs\n",
            "==================================================\n"
          ]
        },
        {
          "output_type": "display_data",
          "data": {
            "text/plain": [
              "Output()"
            ],
            "application/vnd.jupyter.widget-view+json": {
              "version_major": 2,
              "version_minor": 0,
              "model_id": "75dab9b97c844ffc840adfaec3c4f9e7"
            }
          },
          "metadata": {}
        },
        {
          "output_type": "display_data",
          "data": {
            "text/plain": [
              "\u001b[34mINFO\u001b[0m Found \u001b[1;36m3\u001b[0m documents                                                                                             \n"
            ],
            "text/html": [
              "<pre style=\"white-space:pre;overflow-x:auto;line-height:normal;font-family:Menlo,'DejaVu Sans Mono',consolas,'Courier New',monospace\"><span style=\"color: #000080; text-decoration-color: #000080\">INFO</span> Found <span style=\"color: #008080; text-decoration-color: #008080; font-weight: bold\">3</span> documents                                                                                             \n",
              "</pre>\n"
            ]
          },
          "metadata": {}
        },
        {
          "output_type": "display_data",
          "data": {
            "text/plain": [],
            "text/html": [
              "<pre style=\"white-space:pre;overflow-x:auto;line-height:normal;font-family:Menlo,'DejaVu Sans Mono',consolas,'Courier New',monospace\"></pre>\n"
            ]
          },
          "metadata": {}
        },
        {
          "output_type": "stream",
          "name": "stdout",
          "text": [
            "🤖 Resposta do agente:\n",
            "None\n",
            "\n",
            "==================================================\n"
          ]
        }
      ],
      "source": [
        "# Teste 1: Pergunta sobre fintechs\n",
        "print(\"🧪 TESTE 1: Pergunta sobre fintechs\")\n",
        "print(\"=\" * 50)\n",
        "\n",
        "resposta1 = agente_tech_brasil.print_response(\n",
        "    \"Me conte sobre as principais fintechs brasileiras e como o PIX impactou o mercado.\", stream=True\n",
        ")\n",
        "\n",
        "print(\"🤖 Resposta do agente:\")\n",
        "print(resposta1)\n",
        "print(\"\\n\" + \"=\"*50)"
      ]
    },
    {
      "cell_type": "code",
      "execution_count": 59,
      "metadata": {
        "id": "zoDoYcvdlpUp",
        "colab": {
          "base_uri": "https://localhost:8080/",
          "height": 537,
          "referenced_widgets": [
            "871fc345b8854e9f972bfbab29c8706b",
            "e7f060dd5a47473b89696ec3b45112ba"
          ]
        },
        "outputId": "6b779448-3871-448e-c788-044105ceb40a"
      },
      "outputs": [
        {
          "output_type": "stream",
          "name": "stdout",
          "text": [
            "🧪 TESTE 2: Pergunta sobre hubs de tecnologia\n",
            "==================================================\n"
          ]
        },
        {
          "output_type": "display_data",
          "data": {
            "text/plain": [
              "Output()"
            ],
            "application/vnd.jupyter.widget-view+json": {
              "version_major": 2,
              "version_minor": 0,
              "model_id": "871fc345b8854e9f972bfbab29c8706b"
            }
          },
          "metadata": {}
        },
        {
          "output_type": "display_data",
          "data": {
            "text/plain": [
              "\u001b[34mINFO\u001b[0m Found \u001b[1;36m3\u001b[0m documents                                                                                             \n"
            ],
            "text/html": [
              "<pre style=\"white-space:pre;overflow-x:auto;line-height:normal;font-family:Menlo,'DejaVu Sans Mono',consolas,'Courier New',monospace\"><span style=\"color: #000080; text-decoration-color: #000080\">INFO</span> Found <span style=\"color: #008080; text-decoration-color: #008080; font-weight: bold\">3</span> documents                                                                                             \n",
              "</pre>\n"
            ]
          },
          "metadata": {}
        },
        {
          "output_type": "display_data",
          "data": {
            "text/plain": [],
            "text/html": [
              "<pre style=\"white-space:pre;overflow-x:auto;line-height:normal;font-family:Menlo,'DejaVu Sans Mono',consolas,'Courier New',monospace\"></pre>\n"
            ]
          },
          "metadata": {}
        },
        {
          "output_type": "stream",
          "name": "stdout",
          "text": [
            "🤖 Resposta do agente:\n",
            "None\n",
            "\n",
            "==================================================\n"
          ]
        }
      ],
      "source": [
        "# Teste 2: Pergunta sobre hubs de tecnologia\n",
        "print(\"🧪 TESTE 2: Pergunta sobre hubs de tecnologia\")\n",
        "print(\"=\" * 50)\n",
        "\n",
        "resposta2 = agente_tech_brasil.print_response(\n",
        "    \"Quais são os principais hubs de tecnologia no Brasil e o que torna cada um especial?\", stream=True\n",
        ")\n",
        "\n",
        "print(\"🤖 Resposta do agente:\")\n",
        "print(resposta2)\n",
        "print(\"\\n\" + \"=\"*50)"
      ]
    },
    {
      "cell_type": "code",
      "execution_count": 60,
      "metadata": {
        "id": "XhQYbf6SlpUp",
        "colab": {
          "base_uri": "https://localhost:8080/",
          "height": 473,
          "referenced_widgets": [
            "3a860adfe2bb466ebc7923f61dc030da",
            "4b3970a237d945f8a7485532c347d03d"
          ]
        },
        "outputId": "024e8639-85ef-4359-c04b-e430134e55b0"
      },
      "outputs": [
        {
          "output_type": "stream",
          "name": "stdout",
          "text": [
            "🧪 TESTE 3: Pergunta sobre unicórnios\n",
            "==================================================\n"
          ]
        },
        {
          "output_type": "display_data",
          "data": {
            "text/plain": [
              "Output()"
            ],
            "application/vnd.jupyter.widget-view+json": {
              "version_major": 2,
              "version_minor": 0,
              "model_id": "3a860adfe2bb466ebc7923f61dc030da"
            }
          },
          "metadata": {}
        },
        {
          "output_type": "display_data",
          "data": {
            "text/plain": [
              "\u001b[34mINFO\u001b[0m Found \u001b[1;36m3\u001b[0m documents                                                                                             \n"
            ],
            "text/html": [
              "<pre style=\"white-space:pre;overflow-x:auto;line-height:normal;font-family:Menlo,'DejaVu Sans Mono',consolas,'Courier New',monospace\"><span style=\"color: #000080; text-decoration-color: #000080\">INFO</span> Found <span style=\"color: #008080; text-decoration-color: #008080; font-weight: bold\">3</span> documents                                                                                             \n",
              "</pre>\n"
            ]
          },
          "metadata": {}
        },
        {
          "output_type": "display_data",
          "data": {
            "text/plain": [],
            "text/html": [
              "<pre style=\"white-space:pre;overflow-x:auto;line-height:normal;font-family:Menlo,'DejaVu Sans Mono',consolas,'Courier New',monospace\"></pre>\n"
            ]
          },
          "metadata": {}
        },
        {
          "output_type": "stream",
          "name": "stdout",
          "text": [
            "🤖 Resposta do agente:\n",
            "None\n",
            "\n",
            "==================================================\n"
          ]
        }
      ],
      "source": [
        "# Teste 3: Pergunta sobre unicórnios\n",
        "print(\"🧪 TESTE 3: Pergunta sobre unicórnios\")\n",
        "print(\"=\" * 50)\n",
        "\n",
        "resposta3 = agente_tech_brasil.print_response(\n",
        "    \"Quais são as startups unicórnio brasileiras e qual o valor de mercado de cada uma?\", stream=True\n",
        ")\n",
        "\n",
        "print(\"🤖 Resposta do agente:\")\n",
        "print(resposta3)\n",
        "print(\"\\n\" + \"=\"*50)"
      ]
    },
    {
      "cell_type": "markdown",
      "metadata": {
        "id": "E7GS373ElpUp"
      },
      "source": [
        "# 🔍 Comparando: Com vs Sem Knowledge\n",
        "\n",
        "Vamos criar um agente sem knowledge para comparar!"
      ]
    },
    {
      "cell_type": "code",
      "execution_count": 61,
      "metadata": {
        "id": "JSLV74U2lpUp",
        "colab": {
          "base_uri": "https://localhost:8080/"
        },
        "outputId": "ac0e2359-6e5c-4502-efdc-da39632333fa"
      },
      "outputs": [
        {
          "output_type": "stream",
          "name": "stdout",
          "text": [
            "🤖 Agente sem knowledge criado!\n",
            "📝 Vai responder apenas com conhecimento geral\n"
          ]
        }
      ],
      "source": [
        "# Criando agente SEM knowledge\n",
        "agente_sem_knowledge = Agent(\n",
        "    name=\"Agente Geral\",\n",
        "    model=modelo,\n",
        "    # Sem knowledge!\n",
        "    description=\"Você é um assistente geral de IA.\",\n",
        "    instructions=[\n",
        "        \"Responda com base no seu conhecimento geral\",\n",
        "        \"Seja honesto quando não souber algo específico\"\n",
        "    ],\n",
        "    markdown=True\n",
        ")\n",
        "\n",
        "print(\"🤖 Agente sem knowledge criado!\")\n",
        "print(\"📝 Vai responder apenas com conhecimento geral\")"
      ]
    },
    {
      "cell_type": "code",
      "execution_count": 62,
      "metadata": {
        "id": "B6cnRaetlpUp",
        "colab": {
          "base_uri": "https://localhost:8080/",
          "height": 1000,
          "referenced_widgets": [
            "ec98da0040df40f996b41e78e719ab53",
            "c6e7828c19f44d22aaa5d07b448cf872",
            "753a4bd5dc364c209ec6437fc1973744",
            "549fcc32f05e49338ec7765619fe142c"
          ]
        },
        "outputId": "f4b7ab78-5df9-4c24-b5aa-c142de675076"
      },
      "outputs": [
        {
          "output_type": "stream",
          "name": "stdout",
          "text": [
            "🆚 COMPARAÇÃO: Com vs Sem Knowledge\n",
            "============================================================\n",
            "❓ Pergunta: Me conte sobre o Nubank e sua importância no ecossistema fintech brasileiro.\n",
            "\n",
            "============================================================\n",
            "❌ RESPOSTA SEM KNOWLEDGE:\n",
            "----------------------------------------\n"
          ]
        },
        {
          "output_type": "display_data",
          "data": {
            "text/plain": [
              "Output()"
            ],
            "application/vnd.jupyter.widget-view+json": {
              "version_major": 2,
              "version_minor": 0,
              "model_id": "ec98da0040df40f996b41e78e719ab53"
            }
          },
          "metadata": {}
        },
        {
          "output_type": "display_data",
          "data": {
            "text/plain": [],
            "text/html": [
              "<pre style=\"white-space:pre;overflow-x:auto;line-height:normal;font-family:Menlo,'DejaVu Sans Mono',consolas,'Courier New',monospace\"></pre>\n"
            ]
          },
          "metadata": {}
        },
        {
          "output_type": "stream",
          "name": "stdout",
          "text": [
            "None\n",
            "\n",
            "============================================================\n",
            "✅ RESPOSTA COM KNOWLEDGE:\n",
            "----------------------------------------\n"
          ]
        },
        {
          "output_type": "display_data",
          "data": {
            "text/plain": [
              "Output()"
            ],
            "application/vnd.jupyter.widget-view+json": {
              "version_major": 2,
              "version_minor": 0,
              "model_id": "753a4bd5dc364c209ec6437fc1973744"
            }
          },
          "metadata": {}
        },
        {
          "output_type": "display_data",
          "data": {
            "text/plain": [
              "\u001b[34mINFO\u001b[0m Found \u001b[1;36m3\u001b[0m documents                                                                                             \n"
            ],
            "text/html": [
              "<pre style=\"white-space:pre;overflow-x:auto;line-height:normal;font-family:Menlo,'DejaVu Sans Mono',consolas,'Courier New',monospace\"><span style=\"color: #000080; text-decoration-color: #000080\">INFO</span> Found <span style=\"color: #008080; text-decoration-color: #008080; font-weight: bold\">3</span> documents                                                                                             \n",
              "</pre>\n"
            ]
          },
          "metadata": {}
        },
        {
          "output_type": "display_data",
          "data": {
            "text/plain": [],
            "text/html": [
              "<pre style=\"white-space:pre;overflow-x:auto;line-height:normal;font-family:Menlo,'DejaVu Sans Mono',consolas,'Courier New',monospace\"></pre>\n"
            ]
          },
          "metadata": {}
        },
        {
          "output_type": "stream",
          "name": "stdout",
          "text": [
            "None\n",
            "\n",
            "============================================================\n",
            "🎯 Diferença clara: Knowledge fornece informações específicas e atualizadas!\n"
          ]
        }
      ],
      "source": [
        "# Comparação: mesma pergunta, agentes diferentes\n",
        "pergunta_teste = \"Me conte sobre o Nubank e sua importância no ecossistema fintech brasileiro.\"\n",
        "\n",
        "print(\"🆚 COMPARAÇÃO: Com vs Sem Knowledge\")\n",
        "print(\"=\" * 60)\n",
        "print(f\"❓ Pergunta: {pergunta_teste}\")\n",
        "print(\"\\n\" + \"=\"*60)\n",
        "\n",
        "# Resposta SEM knowledge\n",
        "print(\"❌ RESPOSTA SEM KNOWLEDGE:\")\n",
        "print(\"-\" * 40)\n",
        "resposta_sem = agente_sem_knowledge.print_response(pergunta_teste, stream=True)\n",
        "print(resposta_sem)\n",
        "\n",
        "print(\"\\n\" + \"=\"*60)\n",
        "\n",
        "# Resposta COM knowledge\n",
        "print(\"✅ RESPOSTA COM KNOWLEDGE:\")\n",
        "print(\"-\" * 40)\n",
        "resposta_com = agente_tech_brasil.print_response(pergunta_teste, stream=True)\n",
        "print(resposta_com)\n",
        "\n",
        "print(\"\\n\" + \"=\"*60)\n",
        "print(\"🎯 Diferença clara: Knowledge fornece informações específicas e atualizadas!\")"
      ]
    },
    {
      "cell_type": "markdown",
      "metadata": {
        "id": "mAJQa0LUlpUp"
      },
      "source": [
        "# 📊 Visualizando o Processo RAG\n",
        "\n",
        "Vamos visualizar como funciona o processo de Retrieval-Augmented Generation:"
      ]
    },
    {
      "cell_type": "code",
      "execution_count": 63,
      "metadata": {
        "id": "msu5VXCAlpUp",
        "colab": {
          "base_uri": "https://localhost:8080/",
          "height": 1000
        },
        "outputId": "0e777b26-2111-4f0e-e032-d9fcd2b47d33"
      },
      "outputs": [
        {
          "output_type": "stream",
          "name": "stderr",
          "text": [
            "/tmp/ipython-input-3469625771.py:76: UserWarning: Glyph 128640 (\\N{ROCKET}) missing from font(s) DejaVu Sans.\n",
            "  plt.tight_layout()\n",
            "/tmp/ipython-input-3469625771.py:76: UserWarning: Glyph 128100 (\\N{BUST IN SILHOUETTE}) missing from font(s) DejaVu Sans.\n",
            "  plt.tight_layout()\n",
            "/tmp/ipython-input-3469625771.py:76: UserWarning: Glyph 129302 (\\N{ROBOT FACE}) missing from font(s) DejaVu Sans.\n",
            "  plt.tight_layout()\n",
            "/tmp/ipython-input-3469625771.py:76: UserWarning: Glyph 128269 (\\N{LEFT-POINTING MAGNIFYING GLASS}) missing from font(s) DejaVu Sans.\n",
            "  plt.tight_layout()\n",
            "/tmp/ipython-input-3469625771.py:76: UserWarning: Glyph 128452 (\\N{FILE CABINET}) missing from font(s) DejaVu Sans.\n",
            "  plt.tight_layout()\n",
            "/tmp/ipython-input-3469625771.py:76: UserWarning: Glyph 128203 (\\N{CLIPBOARD}) missing from font(s) DejaVu Sans.\n",
            "  plt.tight_layout()\n",
            "/tmp/ipython-input-3469625771.py:76: UserWarning: Glyph 128172 (\\N{SPEECH BALLOON}) missing from font(s) DejaVu Sans.\n",
            "  plt.tight_layout()\n",
            "/tmp/ipython-input-3469625771.py:76: UserWarning: Glyph 10024 (\\N{SPARKLES}) missing from font(s) DejaVu Sans.\n",
            "  plt.tight_layout()\n",
            "/usr/local/lib/python3.12/dist-packages/IPython/core/pylabtools.py:151: UserWarning: Glyph 128640 (\\N{ROCKET}) missing from font(s) DejaVu Sans.\n",
            "  fig.canvas.print_figure(bytes_io, **kw)\n",
            "/usr/local/lib/python3.12/dist-packages/IPython/core/pylabtools.py:151: UserWarning: Glyph 128100 (\\N{BUST IN SILHOUETTE}) missing from font(s) DejaVu Sans.\n",
            "  fig.canvas.print_figure(bytes_io, **kw)\n",
            "/usr/local/lib/python3.12/dist-packages/IPython/core/pylabtools.py:151: UserWarning: Glyph 129302 (\\N{ROBOT FACE}) missing from font(s) DejaVu Sans.\n",
            "  fig.canvas.print_figure(bytes_io, **kw)\n",
            "/usr/local/lib/python3.12/dist-packages/IPython/core/pylabtools.py:151: UserWarning: Glyph 128269 (\\N{LEFT-POINTING MAGNIFYING GLASS}) missing from font(s) DejaVu Sans.\n",
            "  fig.canvas.print_figure(bytes_io, **kw)\n",
            "/usr/local/lib/python3.12/dist-packages/IPython/core/pylabtools.py:151: UserWarning: Glyph 128452 (\\N{FILE CABINET}) missing from font(s) DejaVu Sans.\n",
            "  fig.canvas.print_figure(bytes_io, **kw)\n",
            "/usr/local/lib/python3.12/dist-packages/IPython/core/pylabtools.py:151: UserWarning: Glyph 128203 (\\N{CLIPBOARD}) missing from font(s) DejaVu Sans.\n",
            "  fig.canvas.print_figure(bytes_io, **kw)\n",
            "/usr/local/lib/python3.12/dist-packages/IPython/core/pylabtools.py:151: UserWarning: Glyph 128172 (\\N{SPEECH BALLOON}) missing from font(s) DejaVu Sans.\n",
            "  fig.canvas.print_figure(bytes_io, **kw)\n",
            "/usr/local/lib/python3.12/dist-packages/IPython/core/pylabtools.py:151: UserWarning: Glyph 10024 (\\N{SPARKLES}) missing from font(s) DejaVu Sans.\n",
            "  fig.canvas.print_figure(bytes_io, **kw)\n"
          ]
        },
        {
          "output_type": "display_data",
          "data": {
            "text/plain": [
              "<Figure size 1400x1000 with 1 Axes>"
            ],
            "image/png": "[encoded data removed]"
          },
          "metadata": {}
        },
        {
          "output_type": "stream",
          "name": "stdout",
          "text": [
            "🎯 Processo completo de Agentic RAG visualizado!\n"
          ]
        }
      ],
      "source": [
        "# Visualizando o processo RAG\n",
        "import matplotlib.pyplot as plt\n",
        "import matplotlib.patches as mpatches\n",
        "from matplotlib.patches import FancyBboxPatch\n",
        "\n",
        "fig, ax = plt.subplots(1, 1, figsize=(14, 10))\n",
        "ax.set_xlim(0, 10)\n",
        "ax.set_ylim(0, 10)\n",
        "ax.axis('off')\n",
        "\n",
        "# Título\n",
        "ax.text(5, 9.5, '🚀 Processo Agentic RAG com Agno',\n",
        "        fontsize=18, ha='center', weight='bold')\n",
        "\n",
        "# Passo 1: Pergunta do usuário\n",
        "box1 = FancyBboxPatch((0.5, 7.5), 2, 1,\n",
        "                      boxstyle=\"round,pad=0.1\",\n",
        "                      facecolor='lightblue', edgecolor='blue')\n",
        "ax.add_patch(box1)\n",
        "ax.text(1.5, 8, '👤 Pergunta\\ndo Usuário', ha='center', va='center', fontsize=10, weight='bold')\n",
        "\n",
        "# Passo 2: Agente decide\n",
        "box2 = FancyBboxPatch((3.5, 7.5), 2, 1,\n",
        "                      boxstyle=\"round,pad=0.1\",\n",
        "                      facecolor='lightgreen', edgecolor='green')\n",
        "ax.add_patch(box2)\n",
        "ax.text(4.5, 8, '🤖 Agente\\nDecide', ha='center', va='center', fontsize=10, weight='bold')\n",
        "\n",
        "# Passo 3: Busca no conhecimento\n",
        "box3 = FancyBboxPatch((6.5, 7.5), 2, 1,\n",
        "                      boxstyle=\"round,pad=0.1\",\n",
        "                      facecolor='lightyellow', edgecolor='orange')\n",
        "ax.add_patch(box3)\n",
        "ax.text(7.5, 8, '🔍 Busca\\nConhecimento', ha='center', va='center', fontsize=10, weight='bold')\n",
        "\n",
        "# Base de conhecimento\n",
        "box4 = FancyBboxPatch((1, 5), 3, 1.5,\n",
        "                      boxstyle=\"round,pad=0.1\",\n",
        "                      facecolor='lightcoral', edgecolor='red')\n",
        "ax.add_patch(box4)\n",
        "ax.text(2.5, 5.75, '🗄️ Vector Database\\n(Documentos + Embeddings)',\n",
        "        ha='center', va='center', fontsize=10, weight='bold')\n",
        "\n",
        "# Contexto aumentado\n",
        "box5 = FancyBboxPatch((5.5, 5), 3, 1.5,\n",
        "                      boxstyle=\"round,pad=0.1\",\n",
        "                      facecolor='lightcoral', edgecolor='purple')\n",
        "ax.add_patch(box5)\n",
        "ax.text(7, 5.75, '📋 Contexto\\nAumentado', ha='center', va='center', fontsize=10, weight='bold')\n",
        "\n",
        "# Resposta final\n",
        "box6 = FancyBboxPatch((3.5, 2.5), 3, 1.5,\n",
        "                      boxstyle=\"round,pad=0.1\",\n",
        "                      facecolor='lightsteelblue', edgecolor='navy')\n",
        "ax.add_patch(box6)\n",
        "ax.text(5, 3.25, '💬 Resposta\\nEnriquecida', ha='center', va='center', fontsize=12, weight='bold')\n",
        "\n",
        "# Setas\n",
        "arrows = [\n",
        "    ((2.5, 8), (3.5, 8)),  # usuário -> agente\n",
        "    ((5.5, 8), (6.5, 8)),  # agente -> busca\n",
        "    ((7.5, 7.5), (7, 6.5)),  # busca -> contexto\n",
        "    ((2.5, 6.5), (6, 6.5)),  # knowledge -> contexto\n",
        "    ((6.5, 5), (5.5, 4))   # contexto -> resposta\n",
        "]\n",
        "\n",
        "for start, end in arrows:\n",
        "    ax.annotate('', xy=end, xytext=start,\n",
        "                arrowprops=dict(arrowstyle='->', lw=2, color='black'))\n",
        "\n",
        "# Legenda\n",
        "ax.text(5, 1, '✨ O agente DECIDE quando buscar conhecimento adicional!',\n",
        "        ha='center', fontsize=12, style='italic',\n",
        "        bbox=dict(boxstyle=\"round,pad=0.3\", facecolor='lightyellow'))\n",
        "\n",
        "plt.tight_layout()\n",
        "plt.show()\n",
        "\n",
        "print(\"🎯 Processo completo de Agentic RAG visualizado!\")"
      ]
    },
    {
      "cell_type": "markdown",
      "metadata": {
        "id": "HZ5Z6C37lpUp"
      },
      "source": [
        "# 🚀 Casos de Uso Avançados\n",
        "\n",
        "Vamos ver alguns casos de uso mais avançados do sistema RAG!"
      ]
    },
    {
      "cell_type": "code",
      "execution_count": 66,
      "metadata": {
        "id": "bDikSZrZlpUp",
        "colab": {
          "base_uri": "https://localhost:8080/",
          "height": 201
        },
        "outputId": "ca370538-2744-4669-fc2f-56c32186ba6f"
      },
      "outputs": [
        {
          "output_type": "stream",
          "name": "stdout",
          "text": [
            "🌐 CASO 1: Adicionando conteúdo de URL\n",
            "==================================================\n",
            "📥 Adicionando conteúdo de URL...\n",
            "💡 Dica: O Agno pode processar PDFs, páginas web, e muito mais!\n"
          ]
        },
        {
          "output_type": "display_data",
          "data": {
            "text/plain": [
              "\u001b[34mINFO\u001b[0m Loading content: \u001b[93m1254c8c0-4a25-542b-9bd8-5e72d336da94\u001b[0m                                                         \n"
            ],
            "text/html": [
              "<pre style=\"white-space:pre;overflow-x:auto;line-height:normal;font-family:Menlo,'DejaVu Sans Mono',consolas,'Courier New',monospace\"><span style=\"color: #000080; text-decoration-color: #000080\">INFO</span> Loading content: <span style=\"color: #ffff00; text-decoration-color: #ffff00\">1254c8c0-4a25-542b-9bd8-5e72d336da94</span>                                                         \n",
              "</pre>\n"
            ]
          },
          "metadata": {}
        },
        {
          "output_type": "display_data",
          "data": {
            "text/plain": [
              "\u001b[34mINFO\u001b[0m Adding content from Introdução à IA                                                                           \n"
            ],
            "text/html": [
              "<pre style=\"white-space:pre;overflow-x:auto;line-height:normal;font-family:Menlo,'DejaVu Sans Mono',consolas,'Courier New',monospace\"><span style=\"color: #000080; text-decoration-color: #000080\">INFO</span> Adding content from Introdução à IA                                                                           \n",
              "</pre>\n"
            ]
          },
          "metadata": {}
        },
        {
          "output_type": "display_data",
          "data": {
            "text/plain": [
              "\u001b[34mINFO\u001b[0m Selecting reader for extension: Text                                                                          \n"
            ],
            "text/html": [
              "<pre style=\"white-space:pre;overflow-x:auto;line-height:normal;font-family:Menlo,'DejaVu Sans Mono',consolas,'Courier New',monospace\"><span style=\"color: #000080; text-decoration-color: #000080\">INFO</span> Selecting reader for extension: Text                                                                          \n",
              "</pre>\n"
            ]
          },
          "metadata": {}
        },
        {
          "output_type": "display_data",
          "data": {
            "text/plain": [
              "\u001b[34mINFO\u001b[0m Reading uploaded file: Introdução à IA                                                                        \n"
            ],
            "text/html": [
              "<pre style=\"white-space:pre;overflow-x:auto;line-height:normal;font-family:Menlo,'DejaVu Sans Mono',consolas,'Courier New',monospace\"><span style=\"color: #000080; text-decoration-color: #000080\">INFO</span> Reading uploaded file: Introdução à IA                                                                        \n",
              "</pre>\n"
            ]
          },
          "metadata": {}
        },
        {
          "output_type": "display_data",
          "data": {
            "text/plain": [
              "\u001b[33mWARNING \u001b[0m Contents DB not found for knowledge base: Knowledge de URLs                                               \n"
            ],
            "text/html": [
              "<pre style=\"white-space:pre;overflow-x:auto;line-height:normal;font-family:Menlo,'DejaVu Sans Mono',consolas,'Courier New',monospace\"><span style=\"color: #808000; text-decoration-color: #808000\">WARNING </span> Contents DB not found for knowledge base: Knowledge de URLs                                               \n",
              "</pre>\n"
            ]
          },
          "metadata": {}
        },
        {
          "output_type": "stream",
          "name": "stdout",
          "text": [
            "✅ Conteúdo sobre IA adicionado!\n",
            "🔗 Pronto para usar com URLs reais!\n"
          ]
        }
      ],
      "source": [
        "# Caso 1: Adicionando conteúdo de URL\n",
        "print(\"🌐 CASO 1: Adicionando conteúdo de URL\")\n",
        "print(\"=\" * 50)\n",
        "\n",
        "# Criando nova base de conhecimento para URLs\n",
        "knowledge_url = Knowledge(\n",
        "    name=\"Knowledge de URLs\",\n",
        "    description=\"Base de conhecimento com conteúdo de URLs\",\n",
        "    vector_db=LanceDb(\n",
        "        uri=\"./tmp/lancedb_urls\",\n",
        "        table_name=\"url_embeddings\",\n",
        "        search_type=SearchType.hybrid,\n",
        "        embedder=embedder\n",
        "    ),\n",
        "    max_results=2\n",
        ")\n",
        "\n",
        "# Adicionando conteúdo de uma URL (exemplo: documentação do Agno)\n",
        "print(\"📥 Adicionando conteúdo de URL...\")\n",
        "print(\"💡 Dica: O Agno pode processar PDFs, páginas web, e muito mais!\")\n",
        "\n",
        "# Para este exemplo, vamos adicionar texto sobre IA\n",
        "conteudo_ia = \"\"\"\n",
        "Inteligência Artificial (IA) é uma área da ciência da computação que se dedica a criar sistemas capazes de realizar tarefas que normalmente requerem inteligência humana.\n",
        "\n",
        "**Tipos de IA:**\n",
        "- **IA Fraca (ANI)**: Especializada em uma tarefa específica\n",
        "- **IA Geral (AGI)**: Capaz de realizar qualquer tarefa intelectual humana\n",
        "- **IA Superinteligente (ASI)**: Supera a inteligência humana em todos os aspectos\n",
        "\n",
        "**Aplicações:**\n",
        "- Processamento de linguagem natural\n",
        "- Visão computacional\n",
        "- Sistemas de recomendação\n",
        "- Carros autônomos\n",
        "- Diagnóstico médico\n",
        "\"\"\"\n",
        "\n",
        "await knowledge_url.add_content_async(\n",
        "        name=\"Introdução à IA\",\n",
        "        text_content=conteudo_ia,\n",
        "        metadata={\"categoria\": \"ia\", \"tipo\": \"introducao\"}\n",
        "    )\n",
        "\n",
        "print(\"✅ Conteúdo sobre IA adicionado!\")\n",
        "print(\"🔗 Pronto para usar com URLs reais!\")"
      ]
    },
    {
      "cell_type": "code",
      "execution_count": 68,
      "metadata": {
        "id": "yFX8QhyUlpUq",
        "colab": {
          "base_uri": "https://localhost:8080/",
          "height": 705,
          "referenced_widgets": [
            "a68a357541174ef2903c4a37f5822187",
            "883f4e3bb1ec44bca5c58fb5e10a2b7f"
          ]
        },
        "outputId": "cd5aba9c-8b50-45f4-80cf-fdf004d968e5"
      },
      "outputs": [
        {
          "output_type": "stream",
          "name": "stdout",
          "text": [
            "\n",
            "🔄 CASO 2: Agente com múltiplas bases de conhecimento\n",
            "============================================================\n",
            "🤖 Agente multi-domínio criado!\n",
            "🧠 Pode responder sobre tech brasil E IA geral\n",
            "\n",
            "❓ Pergunta híbrida: Como a IA está sendo usada pelas fintechs brasileiras como o Nubank?\n",
            "\n",
            "🤖 Resposta:\n"
          ]
        },
        {
          "output_type": "display_data",
          "data": {
            "text/plain": [
              "Output()"
            ],
            "application/vnd.jupyter.widget-view+json": {
              "version_major": 2,
              "version_minor": 0,
              "model_id": "a68a357541174ef2903c4a37f5822187"
            }
          },
          "metadata": {}
        },
        {
          "output_type": "display_data",
          "data": {
            "text/plain": [
              "\u001b[34mINFO\u001b[0m Found \u001b[1;36m3\u001b[0m documents                                                                                             \n"
            ],
            "text/html": [
              "<pre style=\"white-space:pre;overflow-x:auto;line-height:normal;font-family:Menlo,'DejaVu Sans Mono',consolas,'Courier New',monospace\"><span style=\"color: #000080; text-decoration-color: #000080\">INFO</span> Found <span style=\"color: #008080; text-decoration-color: #008080; font-weight: bold\">3</span> documents                                                                                             \n",
              "</pre>\n"
            ]
          },
          "metadata": {}
        },
        {
          "output_type": "display_data",
          "data": {
            "text/plain": [],
            "text/html": [
              "<pre style=\"white-space:pre;overflow-x:auto;line-height:normal;font-family:Menlo,'DejaVu Sans Mono',consolas,'Courier New',monospace\"></pre>\n"
            ]
          },
          "metadata": {}
        },
        {
          "output_type": "stream",
          "name": "stdout",
          "text": [
            "None\n",
            "\n",
            "🎯 Vantagem: Combina conhecimento específico com conhecimento geral!\n"
          ]
        }
      ],
      "source": [
        "# Caso 2: Agente com múltiplas bases de conhecimento\n",
        "print(\"\\n🔄 CASO 2: Agente com múltiplas bases de conhecimento\")\n",
        "print(\"=\" * 60)\n",
        "\n",
        "# Criando agente que pode usar ambas as bases\n",
        "agente_multiplas_bases = Agent(\n",
        "    name=\"Especialista Multi-Domínio\",\n",
        "    model=modelo,\n",
        "    knowledge=knowledge,  # Base principal (tech brasil)\n",
        "    search_knowledge=True,\n",
        "    description=\"Especialista em tecnologia brasileira e IA.\",\n",
        "    instructions=[\n",
        "        \"Use a base de conhecimento sobre tech brasileira quando relevante\",\n",
        "        \"Para perguntas sobre IA, use seu conhecimento geral\",\n",
        "        \"Seja específico e cite exemplos quando possível\"\n",
        "    ],\n",
        "    markdown=True\n",
        ")\n",
        "\n",
        "print(\"🤖 Agente multi-domínio criado!\")\n",
        "print(\"🧠 Pode responder sobre tech brasil E IA geral\")\n",
        "\n",
        "# Testando com pergunta que combina ambos os domínios\n",
        "pergunta_hibrida = \"Como a IA está sendo usada pelas fintechs brasileiras como o Nubank?\"\n",
        "\n",
        "print(f\"\\n❓ Pergunta híbrida: {pergunta_hibrida}\")\n",
        "print(\"\\n🤖 Resposta:\")\n",
        "\n",
        "resposta_hibrida = agente_multiplas_bases.print_response(pergunta_hibrida, stream=True)\n",
        "print(resposta_hibrida)\n",
        "\n",
        "print(\"\\n🎯 Vantagem: Combina conhecimento específico com conhecimento geral!\")"
      ]
    },
    {
      "cell_type": "markdown",
      "metadata": {
        "id": "98-RfeqtlpUq"
      },
      "source": [
        "# 📈 Métricas e Avaliação do Sistema RAG\n",
        "\n",
        "Como saber se nosso sistema RAG está funcionando bem? Vamos implementar algumas métricas!"
      ]
    },
    {
      "cell_type": "code",
      "execution_count": 69,
      "metadata": {
        "id": "QBrJO9v6lpUq",
        "colab": {
          "base_uri": "https://localhost:8080/"
        },
        "outputId": "7959f074-ebe2-4a1d-866c-7ebbb0d52321"
      },
      "outputs": [
        {
          "output_type": "stream",
          "name": "stdout",
          "text": [
            "📊 Sistema de avaliação RAG criado!\n"
          ]
        }
      ],
      "source": [
        "# Sistema de avaliação do RAG\n",
        "import time\n",
        "from datetime import datetime\n",
        "\n",
        "class AvaliadorRAG:\n",
        "    def __init__(self):\n",
        "        self.metricas = {\n",
        "            'consultas_realizadas': 0,\n",
        "            'tempo_medio_resposta': 0,\n",
        "            'documentos_encontrados': [],\n",
        "            'historico_consultas': []\n",
        "        }\n",
        "\n",
        "    def avaliar_consulta(self, query, agente):\n",
        "        \"\"\"Avalia uma consulta RAG\"\"\"\n",
        "        inicio = time.time()\n",
        "\n",
        "        # Gera resposta\n",
        "        resposta = agente.run(query)\n",
        "\n",
        "        fim = time.time()\n",
        "        tempo_resposta = fim - inicio\n",
        "\n",
        "        # Atualiza métricas\n",
        "        self.metricas['consultas_realizadas'] += 1\n",
        "\n",
        "        # Calcula tempo médio\n",
        "        if self.metricas['tempo_medio_resposta'] == 0:\n",
        "            self.metricas['tempo_medio_resposta'] = tempo_resposta\n",
        "        else:\n",
        "            self.metricas['tempo_medio_resposta'] = (\n",
        "                self.metricas['tempo_medio_resposta'] + tempo_resposta\n",
        "            ) / 2\n",
        "\n",
        "        # Salva no histórico\n",
        "        self.metricas['historico_consultas'].append({\n",
        "            'timestamp': datetime.now().strftime('%H:%M:%S'),\n",
        "            'query': query[:50] + '...' if len(query) > 50 else query,\n",
        "            'tempo_resposta': round(tempo_resposta, 2)\n",
        "        })\n",
        "\n",
        "        return resposta, {\n",
        "            'tempo_resposta': round(tempo_resposta, 2)\n",
        "        }\n",
        "\n",
        "    def relatorio_metricas(self):\n",
        "        \"\"\"Gera relatório das métricas\"\"\"\n",
        "        print(\"📊 RELATÓRIO DE MÉTRICAS RAG\")\n",
        "        print(\"=\" * 40)\n",
        "        print(f\"🔢 Total de consultas: {self.metricas['consultas_realizadas']}\")\n",
        "        print(f\"⏱️ Tempo médio de resposta: {self.metricas['tempo_medio_resposta']:.2f}s\")\n",
        "\n",
        "        print(\"\\n📋 Histórico de consultas:\")\n",
        "        for consulta in self.metricas['historico_consultas'][-5:]:  # Últimas 5\n",
        "            print(f\"  {consulta['timestamp']} | {consulta['query']} | \"\n",
        "                  f\"Tempo: {consulta['tempo_resposta']}s\")\n",
        "\n",
        "# Criando avaliador\n",
        "avaliador = AvaliadorRAG()\n",
        "print(\"📊 Sistema de avaliação RAG criado!\")"
      ]
    },
    {
      "cell_type": "code",
      "execution_count": 75,
      "metadata": {
        "id": "huOtfWGPlpUq",
        "colab": {
          "base_uri": "https://localhost:8080/"
        },
        "outputId": "40885856-fc44-4e6c-a642-2842d7d2fa8e"
      },
      "outputs": [
        {
          "output_type": "stream",
          "name": "stdout",
          "text": [
            "🧪 Testando sistema RAG com diferentes consultas...\n",
            "\n",
            "\n",
            "============================================================\n",
            "TESTE 1: Quais são as principais fintechs brasileiras?\n",
            "============================================================\n",
            "\n",
            "📊 Métricas desta consulta:\n",
            "   ⏱️ Tempo de resposta: 0.01s\n",
            "\n",
            "============================================================\n",
            "TESTE 2: Como está o cenário de startups em São Paulo?\n",
            "============================================================\n",
            "\n",
            "📊 Métricas desta consulta:\n",
            "   ⏱️ Tempo de resposta: 0.01s\n",
            "\n",
            "============================================================\n",
            "TESTE 3: O que você sabe sobre o Porto Digital no Recife?\n",
            "============================================================\n",
            "\n",
            "📊 Métricas desta consulta:\n",
            "   ⏱️ Tempo de resposta: 0.01s\n",
            "\n",
            "============================================================\n",
            "TESTE 4: Conte sobre o Mercado Livre e seu crescimento\n",
            "============================================================\n",
            "\n",
            "📊 Métricas desta consulta:\n",
            "   ⏱️ Tempo de resposta: 0.01s\n",
            "\n",
            "============================================================\n",
            "📈 RELATÓRIO FINAL DE MÉTRICAS\n",
            "============================================================\n",
            "📊 RELATÓRIO DE MÉTRICAS RAG\n",
            "========================================\n",
            "🔢 Total de consultas: 7\n",
            "⏱️ Tempo médio de resposta: 0.01s\n",
            "\n",
            "📋 Histórico de consultas:\n",
            "  23:21:33 | Quais são as principais fintechs brasileiras? | Tempo: 0.02s\n",
            "  23:21:40 | Quais são as principais fintechs brasileiras? | Tempo: 0.01s\n",
            "  23:21:40 | Como está o cenário de startups em São Paulo? | Tempo: 0.01s\n",
            "  23:21:40 | O que você sabe sobre o Porto Digital no Recife? | Tempo: 0.01s\n",
            "  23:21:40 | Conte sobre o Mercado Livre e seu crescimento | Tempo: 0.01s\n"
          ]
        }
      ],
      "source": [
        "# Testando diferentes consultas com métricas\n",
        "consultas_teste = [\n",
        "    \"Quais são as principais fintechs brasileiras?\",\n",
        "    \"Como está o cenário de startups em São Paulo?\",\n",
        "    \"O que você sabe sobre o Porto Digital no Recife?\",\n",
        "    \"Conte sobre o Mercado Livre e seu crescimento\"\n",
        "]\n",
        "\n",
        "print(\"🧪 Testando sistema RAG com diferentes consultas...\\n\")\n",
        "\n",
        "for i, consulta in enumerate(consultas_teste, 1):\n",
        "    print(f\"\\n{'='*60}\")\n",
        "    print(f\"TESTE {i}: {consulta}\")\n",
        "    print(\"=\"*60)\n",
        "\n",
        "    resposta, metricas_consulta = avaliador.avaliar_consulta(\n",
        "        consulta, agente_multiplas_bases\n",
        "    )\n",
        "\n",
        "    print(f\"\\n📊 Métricas desta consulta:\")\n",
        "    print(f\"   ⏱️ Tempo de resposta: {metricas_consulta['tempo_resposta']}s\")\n",
        "\n",
        "\n",
        "print(\"\\n\" + \"=\"*60)\n",
        "print(\"📈 RELATÓRIO FINAL DE MÉTRICAS\")\n",
        "print(\"=\"*60)\n",
        "avaliador.relatorio_metricas()"
      ]
    },
    {
      "cell_type": "markdown",
      "metadata": {
        "id": "UCDDYg8qlpUq"
      },
      "source": [
        "# 🎯 Exercícios Práticos\n",
        "\n",
        "Agora é sua vez de colocar a mão na massa!"
      ]
    },
    {
      "cell_type": "markdown",
      "metadata": {
        "id": "gFVOd4-9lpUq"
      },
      "source": [
        "## 🏋️ Exercício 1: Criando sua própria base de conhecimento\n",
        "\n",
        "**Desafio:** Crie uma base de conhecimento sobre um tema que você domina (esportes, música, culinária, etc.) e implemente um sistema RAG simples.\n",
        "\n",
        "**O que fazer:**\n",
        "1. Escolha um tema\n",
        "2. Crie 5-10 documentos sobre o tema\n",
        "3. Implemente busca por similaridade\n",
        "4. Teste com perguntas específicas"
      ]
    },
    {
      "cell_type": "code",
      "execution_count": null,
      "metadata": {
        "id": "BP4l2g8mlpUq"
      },
      "outputs": [],
      "source": [
        "# SEU CÓDIGO AQUI!\n",
        "# Dica: Use a estrutura da ConhecimentoTechBrasil como base\n",
        "\n",
        "class MeuConhecimento:\n",
        "    def __init__(self):\n",
        "        # TODO: Adicione sua base de conhecimento aqui\n",
        "        self.base_conhecimento = {\n",
        "            # \"categoria1\": {\n",
        "            #     \"item1\": \"Descrição detalhada...\",\n",
        "            #     \"item2\": \"Outra descrição...\"\n",
        "            # }\n",
        "        }\n",
        "        pass\n",
        "\n",
        "    def buscar_informacao(self, query):\n",
        "        # TODO: Implemente sua lógica de busca\n",
        "        pass\n",
        "\n",
        "# Teste aqui:\n",
        "# meu_conhecimento = MeuConhecimento()\n",
        "# resultado = meu_conhecimento.buscar_informacao(\"sua pergunta\")\n",
        "# print(resultado)\n",
        "\n",
        "print(\"💪 Complete este exercício para praticar!\")"
      ]
    },
    {
      "cell_type": "markdown",
      "metadata": {
        "id": "Y2G9U87glpUq"
      },
      "source": [
        "## 🏋️ Exercício 2: Comparando abordagens RAG\n",
        "\n",
        "**Desafio:** Compare a mesma pergunta usando:\n",
        "1. Agente sem conhecimento\n",
        "2. Agente com RAG tradicional (sempre busca)\n",
        "3. Agente com Agentic RAG (busca quando necessário)\n",
        "\n",
        "**Analise:** Qual abordagem dá melhores resultados para diferentes tipos de pergunta?"
      ]
    },
    {
      "cell_type": "code",
      "execution_count": null,
      "metadata": {
        "id": "u8_JVItWlpUq"
      },
      "outputs": [],
      "source": [
        "# SEU CÓDIGO AQUI!\n",
        "# Dica: Crie três versões de agentes e teste com a mesma pergunta\n",
        "\n",
        "def comparar_abordagens_rag(pergunta):\n",
        "    # TODO: Implemente as três abordagens\n",
        "\n",
        "    # 1. Agente sem conhecimento\n",
        "    agente_simples = None  # TODO: Criar agente simples\n",
        "\n",
        "    # 2. Agente com RAG tradicional\n",
        "    agente_rag_tradicional = None  # TODO: Criar com contexto sempre enriquecido\n",
        "\n",
        "    # 3. Agente com Agentic RAG\n",
        "    agente_agentic_rag = None  # TODO: Criar que decide quando buscar\n",
        "\n",
        "    # TODO: Teste e compare os resultados\n",
        "    pass\n",
        "\n",
        "# Teste com diferentes tipos de pergunta:\n",
        "perguntas_teste = [\n",
        "    \"Qual é a capital do Brasil?\",  # Conhecimento geral\n",
        "    \"Como está o preço das ações do Nubank hoje?\",  # Informação específica/atualizada\n",
        "    \"Explique como funciona machine learning\"  # Conhecimento técnico geral\n",
        "]\n",
        "\n",
        "print(\"🎯 Complete este exercício para entender as diferenças!\")"
      ]
    },
    {
      "cell_type": "markdown",
      "metadata": {
        "id": "ur4F6j0ElpUr"
      },
      "source": [
        "# 🚀 Casos de Uso Avançados\n",
        "\n",
        "Vamos ver alguns casos de uso mais avançados do sistema RAG!"
      ]
    },
    {
      "cell_type": "code",
      "execution_count": null,
      "metadata": {
        "id": "WMfZHbXQlpUy"
      },
      "outputs": [],
      "source": [
        "# Caso 1: Agente especialista que atualiza seu próprio conhecimento\n",
        "class AgenteAutoAtualizable:\n",
        "    def __init__(self, modelo, conhecimento_inicial):\n",
        "        self.modelo = modelo\n",
        "        self.conhecimento = conhecimento_inicial\n",
        "        self.historico_aprendizado = []\n",
        "\n",
        "    def processar_consulta(self, query):\n",
        "        \"\"\"Processa consulta e aprende com interações\"\"\"\n",
        "\n",
        "        # Busca conhecimento existente\n",
        "        informacoes = self.conhecimento.buscar_informacao(query)\n",
        "\n",
        "        # Se não encontrou informações suficientes, marca para atualização\n",
        "        if len(informacoes) < 2:\n",
        "            self.historico_aprendizado.append({\n",
        "                'query': query,\n",
        "                'timestamp': datetime.now().strftime('%Y-%m-%d %H:%M:%S'),\n",
        "                'status': 'conhecimento_insuficiente'\n",
        "            })\n",
        "            print(f\"⚠️ Conhecimento insuficiente para: '{query}'\")\n",
        "            print(\"📝 Marcado para futura atualização da base de conhecimento\")\n",
        "\n",
        "        # Cria agente especializado\n",
        "        agente, _ = criar_agente_com_conhecimento(query)\n",
        "        resposta = agente.run(query)\n",
        "\n",
        "        return resposta\n",
        "\n",
        "    def relatorio_aprendizado(self):\n",
        "        \"\"\"Mostra áreas que precisam de mais conhecimento\"\"\"\n",
        "        if not self.historico_aprendizado:\n",
        "            print(\"✅ Nenhuma lacuna de conhecimento identificada!\")\n",
        "            return\n",
        "\n",
        "        print(\"📊 RELATÓRIO DE LACUNAS DE CONHECIMENTO\")\n",
        "        print(\"=\" * 45)\n",
        "        for item in self.historico_aprendizado:\n",
        "            print(f\"🔍 {item['timestamp']}: {item['query']}\")\n",
        "\n",
        "# Testando agente auto-atualizável\n",
        "agente_auto = AgenteAutoAtualizable(modelo, conhecimento_brasil)\n",
        "\n",
        "print(\"🤖 Testando Agente Auto-Atualizável...\\n\")\n",
        "\n",
        "# Testando com consultas variadas\n",
        "consultas_variadas = [\n",
        "    \"Fale sobre fintechs brasileiras\",  # Tem conhecimento\n",
        "    \"Como está o mercado de criptomoedas no Brasil?\",  # Pode não ter\n",
        "    \"Quais são as startups de IA no Brasil?\",  # Pode não ter\n",
        "    \"Conte sobre o Porto Digital\"  # Tem conhecimento\n",
        "]\n",
        "\n",
        "for consulta in consultas_variadas:\n",
        "    print(f\"\\n❓ Pergunta: {consulta}\")\n",
        "    resposta = agente_auto.processar_consulta(consulta)\n",
        "    print(f\"🤖 Resposta resumida: {resposta.content[:150]}...\")\n",
        "\n",
        "print(\"\\n\" + \"=\"*50)\n",
        "agente_auto.relatorio_aprendizado()"
      ]
    },
    {
      "cell_type": "markdown",
      "metadata": {
        "id": "PFTCwAo-lpUy"
      },
      "source": [
        "# 📊 Visualizando Performance e Métricas"
      ]
    },
    {
      "cell_type": "code",
      "execution_count": 65,
      "metadata": {
        "id": "HlCziu-alpUy",
        "colab": {
          "base_uri": "https://localhost:8080/",
          "height": 1000
        },
        "outputId": "ffdd4a0b-9cc8-4ec3-a3d7-cb6b361e0341"
      },
      "outputs": [
        {
          "output_type": "stream",
          "name": "stderr",
          "text": [
            "/tmp/ipython-input-2528428542.py:66: UserWarning: Glyph 9201 (\\N{STOPWATCH}) missing from font(s) DejaVu Sans.\n",
            "  plt.tight_layout()\n",
            "/tmp/ipython-input-2528428542.py:66: UserWarning: Glyph 127919 (\\N{DIRECT HIT}) missing from font(s) DejaVu Sans.\n",
            "  plt.tight_layout()\n",
            "/tmp/ipython-input-2528428542.py:66: UserWarning: Glyph 128200 (\\N{CHART WITH UPWARDS TREND}) missing from font(s) DejaVu Sans.\n",
            "  plt.tight_layout()\n",
            "/tmp/ipython-input-2528428542.py:66: UserWarning: Glyph 128376 (\\N{SPIDER WEB}) missing from font(s) DejaVu Sans.\n",
            "  plt.tight_layout()\n",
            "/tmp/ipython-input-2528428542.py:66: UserWarning: Glyph 128202 (\\N{BAR CHART}) missing from font(s) DejaVu Sans.\n",
            "  plt.tight_layout()\n",
            "/usr/local/lib/python3.12/dist-packages/IPython/core/pylabtools.py:151: UserWarning: Glyph 9201 (\\N{STOPWATCH}) missing from font(s) DejaVu Sans.\n",
            "  fig.canvas.print_figure(bytes_io, **kw)\n",
            "/usr/local/lib/python3.12/dist-packages/IPython/core/pylabtools.py:151: UserWarning: Glyph 127919 (\\N{DIRECT HIT}) missing from font(s) DejaVu Sans.\n",
            "  fig.canvas.print_figure(bytes_io, **kw)\n",
            "/usr/local/lib/python3.12/dist-packages/IPython/core/pylabtools.py:151: UserWarning: Glyph 128200 (\\N{CHART WITH UPWARDS TREND}) missing from font(s) DejaVu Sans.\n",
            "  fig.canvas.print_figure(bytes_io, **kw)\n",
            "/usr/local/lib/python3.12/dist-packages/IPython/core/pylabtools.py:151: UserWarning: Glyph 128376 (\\N{SPIDER WEB}) missing from font(s) DejaVu Sans.\n",
            "  fig.canvas.print_figure(bytes_io, **kw)\n",
            "/usr/local/lib/python3.12/dist-packages/IPython/core/pylabtools.py:151: UserWarning: Glyph 128202 (\\N{BAR CHART}) missing from font(s) DejaVu Sans.\n",
            "  fig.canvas.print_figure(bytes_io, **kw)\n"
          ]
        },
        {
          "output_type": "display_data",
          "data": {
            "text/plain": [
              "<Figure size 1500x1200 with 4 Axes>"
            ],
            "image/png": "[encoded data removed]"
          },
          "metadata": {}
        },
        {
          "output_type": "stream",
          "name": "stdout",
          "text": [
            "📊 Análise dos Resultados:\n",
            "\n",
            "🏆 VENCEDORES:\n",
            "   ⚡ Velocidade: Sem Knowledge (mais simples)\n",
            "   🎯 Precisão: Multi-Fonte (mais completo)\n",
            "   ⚖️ Equilíbrio: Agentic RAG (melhor custo-benefício)\n",
            "\n",
            "💡 Conclusão: Agentic RAG oferece o melhor equilíbrio!\n"
          ]
        }
      ],
      "source": [
        "# Criando visualizações das métricas do sistema RAG\n",
        "import matplotlib.pyplot as plt\n",
        "import numpy as np\n",
        "\n",
        "# Simulando dados de performance\n",
        "metodos = ['Sem Knowledge', 'RAG Tradicional', 'Agentic RAG', 'Multi-Fonte']\n",
        "tempo_resposta = [0.8, 2.1, 1.4, 2.8]  # segundos\n",
        "precisao = [65, 85, 92, 95]  # % de precisão estimada\n",
        "relevancia = [60, 82, 90, 94]  # % de relevância estimada\n",
        "\n",
        "# Criando subplot com múltiplos gráficos\n",
        "fig, ((ax1, ax2), (ax3, ax4)) = plt.subplots(2, 2, figsize=(15, 12))\n",
        "fig.suptitle('📊 Análise Comparativa de Sistemas RAG', fontsize=16, fontweight='bold')\n",
        "\n",
        "# Gráfico 1: Tempo de Resposta\n",
        "colors1 = ['lightcoral', 'lightblue', 'lightgreen', 'lightyellow']\n",
        "bars1 = ax1.bar(metodos, tempo_resposta, color=colors1, edgecolor='black')\n",
        "ax1.set_title('⏱️ Tempo de Resposta (segundos)', fontweight='bold')\n",
        "ax1.set_ylabel('Segundos')\n",
        "ax1.tick_params(axis='x', rotation=45)\n",
        "\n",
        "# Adicionando valores nas barras\n",
        "for bar, value in zip(bars1, tempo_resposta):\n",
        "    ax1.text(bar.get_x() + bar.get_width()/2, bar.get_height() + 0.05,\n",
        "             f'{value}s', ha='center', va='bottom', fontweight='bold')\n",
        "\n",
        "# Gráfico 2: Precisão\n",
        "bars2 = ax2.bar(metodos, precisao, color=['#ff9999', '#66b3ff', '#99ff99', '#ffcc99'], edgecolor='black')\n",
        "ax2.set_title('🎯 Precisão das Respostas (%)', fontweight='bold')\n",
        "ax2.set_ylabel('Precisão (%)')\n",
        "ax2.set_ylim(0, 100)\n",
        "ax2.tick_params(axis='x', rotation=45)\n",
        "\n",
        "for bar, value in zip(bars2, precisao):\n",
        "    ax2.text(bar.get_x() + bar.get_width()/2, bar.get_height() + 1,\n",
        "             f'{value}%', ha='center', va='bottom', fontweight='bold')\n",
        "\n",
        "# Gráfico 3: Relevância\n",
        "bars3 = ax3.bar(metodos, relevancia, color=['#ffb3ba', '#baffc9', '#bae1ff', '#ffffba'], edgecolor='black')\n",
        "ax3.set_title('📈 Relevância do Conteúdo (%)', fontweight='bold')\n",
        "ax3.set_ylabel('Relevância (%)')\n",
        "ax3.set_ylim(0, 100)\n",
        "ax3.tick_params(axis='x', rotation=45)\n",
        "\n",
        "for bar, value in zip(bars3, relevancia):\n",
        "    ax3.text(bar.get_x() + bar.get_width()/2, bar.get_height() + 1,\n",
        "             f'{value}%', ha='center', va='bottom', fontweight='bold')\n",
        "\n",
        "# Gráfico 4: Radar Chart comparativo\n",
        "categorias = ['Velocidade', 'Precisão', 'Relevância', 'Facilidade']\n",
        "valores_agentic = [85, 92, 90, 95]  # Valores normalizados para Agentic RAG\n",
        "\n",
        "# Calculando ângulos para o radar\n",
        "angulos = np.linspace(0, 2 * np.pi, len(categorias), endpoint=False).tolist()\n",
        "valores_agentic += valores_agentic[:1]  # Fechando o círculo\n",
        "angulos += angulos[:1]\n",
        "\n",
        "ax4.plot(angulos, valores_agentic, 'o-', linewidth=2, label='Agentic RAG', color='green')\n",
        "ax4.fill(angulos, valores_agentic, alpha=0.25, color='green')\n",
        "ax4.set_xticks(angulos[:-1])\n",
        "ax4.set_xticklabels(categorias)\n",
        "ax4.set_ylim(0, 100)\n",
        "ax4.set_title('🕸️ Perfil Agentic RAG', fontweight='bold')\n",
        "ax4.grid(True)\n",
        "\n",
        "plt.tight_layout()\n",
        "plt.show()\n",
        "\n",
        "print(\"📊 Análise dos Resultados:\")\n",
        "print(\"\\n🏆 VENCEDORES:\")\n",
        "print(\"   ⚡ Velocidade: Sem Knowledge (mais simples)\")\n",
        "print(\"   🎯 Precisão: Multi-Fonte (mais completo)\")\n",
        "print(\"   ⚖️ Equilíbrio: Agentic RAG (melhor custo-benefício)\")\n",
        "print(\"\\n💡 Conclusão: Agentic RAG oferece o melhor equilíbrio!\")"
      ]
    },
    {
      "cell_type": "markdown",
      "metadata": {
        "id": "lhzgm_S4lpUy"
      },
      "source": [
        "# 🎉 Resumo e Próximos Passos\n",
        "\n",
        "## O que aprendemos hoje:\n",
        "\n",
        "### 🧠 Conceitos Fundamentais:\n",
        "- **Knowledge**: Como dar conhecimento especializado aos agentes\n",
        "- **Embeddings**: Representação matemática de texto para busca semântica\n",
        "- **Vector Databases**: Armazenamento otimizado para busca por similaridade\n",
        "- **Agentic RAG**: Agentes que decidem quando buscar conhecimento\n",
        "\n",
        "### 🛠️ Implementações Práticas:\n",
        "- Sistema RAG básico com busca por similaridade\n",
        "- Agentes com conhecimento enriquecido\n",
        "- Métricas e avaliação de performance\n",
        "- Sistemas multi-fonte para conhecimento abrangente\n",
        "\n",
        "### 📊 Principais Diferenças:\n",
        "- **RAG Tradicional**: Sempre busca na base (mais lento, mas completo)\n",
        "- **Agentic RAG**: Busca apenas quando necessário (mais eficiente)\n",
        "- **Multi-Fonte**: Combina diferentes domínios de conhecimento\n",
        "\n",
        "## 🚀 Próximos Módulos:\n",
        "- **Módulo 5**: Memória e Persistência - Como fazer agentes lembrarem de conversas anteriores\n",
        "- **Módulo 6**: Agentes Multimodal - Processamento de imagens e outros tipos de mídia\n",
        "- **Módulo 7**: Reasoning - Como fazer agentes \"pensarem\" antes de agir\n",
        "\n",
        "![PROMPT: Agente especialista com conhecimento, como um bibliotecário experiente]\n",
        "\n",
        "### 💡 Dica Final:\n",
        "O **Knowledge** é o que transforma seus agentes de \"inteligentes\" para \"especialistas\"! Use essa ferramenta para criar sistemas que realmente entendem do seu domínio específico.\n",
        "\n",
        "**Liiindo!** Agora seus agentes têm cérebros especializados! 🧠✨"
      ]
    }
  ]
}
