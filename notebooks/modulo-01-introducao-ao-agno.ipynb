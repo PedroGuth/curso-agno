{
  "nbformat": 4,
  "nbformat_minor": 0,
  "metadata": {
    "colab": {
      "provenance": []
    },
    "kernelspec": {
      "name": "python3",
      "display_name": "Python 3"
    },
    "language_info": {
      "name": "python"
    }
  },
  "cells": [
    {
      "cell_type": "markdown",
      "metadata": {},
      "source": [
        "# 🚀 Agno 2.0: Seu Primeiro Passo no Mundo dos Multi-Agentes!\n\n![](https://s3.us-east-1.amazonaws.com/turing.education/books/imagens/agno-2.0-framework--modulo-01_img_01.png)\n\n**Bora começar nossa jornada no Agno 2.0!** 🎯\n\nTá, mas o que diabos é o Agno? Imagina que você tem um assistente super inteligente que não só conversa contigo, mas também pode:\n- Buscar informações na internet\n- Se conectar com APIs\n- Lembrar de conversas anteriores\n- Trabalhar em equipe com outros assistentes\n- E muito mais!\n\nÉ isso que o Agno faz! É um framework Python que transforma modelos de linguagem (como GPT, Claude, Gemini) em **agentes inteligentes** capazes de ações no mundo real.\n\n## 🎯 O que você vai aprender hoje:\n\n1. **O que é o Agno** e por que ele é revolucionário\n2. **Instalação** do framework\n3. **Seu primeiro agente** funcionando\n4. **Conceitos fundamentais** que vamos usar no curso todo\n5. **AgentOS** - o sistema operacional dos agentes\n\n**Dica!** Este é o Módulo 1 de 13. Cada conceito que vamos ver aqui será expandido nos próximos módulos!"
      ]
    },
    {
      "cell_type": "markdown",
      "metadata": {},
      "source": [
        "## 🤖 O que é o Agno? A Revolução dos Agentes!\n\nPensa assim: um LLM comum (como ChatGPT) é como um **consultor muito esperto** que só sabe conversar. Já um **Agente Agno** é como um **funcionário completo** que pode:\n\n### 🧠 Componentes de um Agente Agno:\n\n1. **Model (Cérebro)**: O LLM que controla tudo\n2. **Instructions (Manual)**: Como você programa o agente\n3. **Tools (Mãos)**: Ferramentas para interagir com o mundo\n4. **Knowledge (Memória de longo prazo)**: Base de conhecimento pesquisável\n5. **Storage (Diário)**: Histórico de conversas e estado\n6. **Memory (Lembrança pessoal)**: Informações sobre cada usuário\n\n### 🏗️ Arquitetura Agno (Visão Geral):\n\n```mermaid\ngraph TD\n    A[Usuário] --> B[Agente Agno]\n    B --> C[Model - LLM]\n    B --> D[Tools - Ferramentas]\n    B --> E[Knowledge - RAG]\n    B --> F[Memory - Persistência]\n    B --> G[Storage - Sessões]\n    \n    C --> H[Resposta Inteligente]\n    D --> I[Ações no Mundo Real]\n    E --> J[Busca de Informações]\n    F --> K[Personalização]\n    G --> L[Continuidade]\n```\n\n**Analogia brasileira**: É como se você contratasse um estagiário super inteligente que tem acesso ao Google, pode fazer ligações, lembra de tudo que vocês conversaram, e ainda trabalha 24/7 sem reclamar do café! 😄"
      ]
    },
    {
      "cell_type": "markdown",
      "metadata": {},
      "source": [
        "## 📦 Instalação: Preparando o Ambiente\n\nAntes de mais nada, vamos preparar nosso ambiente. É como arrumar a bancada antes de cozinhar!\n\n### 🔧 O que vamos precisar:\n1. **Agno** (obviamente!)\n2. **Google Generative AI** (vamos usar o Gemini que é gratuito)\n3. **Algumas bibliotecas auxiliares**\n\n**Dica!** Vamos usar o Gemini porque ele é gratuito e muito bom para aprender. Nos próximos módulos vamos ver outros modelos também!"
      ]
    },
    {
      "cell_type": "code",
      "execution_count": null,
      "metadata": {},
      "outputs": [],
      "source": [
        "# Instalando o Agno e dependências\n",
        "!pip install agno google-generativeai python-dotenv rich\n",
        "\n",
        "print(\"🎉 Instalação concluída!\")\n",
        "print(\"Agora vamos configurar nossa API key do Google...\")"
      ]
    },
    {
      "cell_type": "markdown",
      "metadata": {},
      "source": [
        "## 🔑 Configurando a API Key do Google\n\nPara usar o Gemini, você precisa de uma API key gratuita do Google AI Studio.\n\n### 📝 Como conseguir sua API key:\n1. Acesse: https://aistudio.google.com/app/apikey\n2. Faça login com sua conta Google\n3. Click em \"Create API key\"\n4. Copie a chave gerada\n\n**Dica!** Mantenha sua API key segura! Nunca compartilhe ela em repositórios públicos."
      ]
    },
    {
      "cell_type": "code",
      "execution_count": null,
      "metadata": {},
      "outputs": [],
      "source": [
        "import os\n",
        "from getpass import getpass\n",
        "\n",
        "# Configurando a API key do Google\n",
        "# Se você estiver no Colab, vai aparecer um campo para digitar a key\n",
        "if 'GOOGLE_API_KEY' not in os.environ:\n",
        "    api_key = getpass(\"Digite sua API key do Google AI Studio: \")\n",
        "    os.environ['GOOGLE_API_KEY'] = api_key\n",
        "    print(\"✅ API key configurada com sucesso!\")\n",
        "else:\n",
        "    print(\"✅ API key já estava configurada!\")\n",
        "\n",
        "# Testando se a configuração está funcionando\n",
        "print(f\"📋 Sua API key começa com: {os.environ['GOOGLE_API_KEY'][:10]}...\")"
      ]
    },
    {
      "cell_type": "markdown",
      "metadata": {},
      "source": [
        "## 🎪 Seu Primeiro Agente: O \"Assistente Brasileiro\"\n\nAgora vem a parte divertida! Vamos criar nosso primeiro agente. Vai ser um assistente que fala como brasileiro e entende nossa cultura.\n\n### 🏗️ Anatomia de um Agente Simples:\n\n```python\nfrom agno.agent import Agent\nfrom agno.models.google import Gemini\n\nagent = Agent(\n    model=Gemini(id=\"gemini-2.0-flash-exp\"),  # O cérebro\n    description=\"Você é um assistente brasileiro\",  # A personalidade\n    instructions=[\"Seja sempre educado e use gírias brasileiras\"],  # As regras\n    markdown=True  # Formatação bonita\n)\n```\n\n**Analogia**: É como contratar alguém e dar o manual de instruções!"
      ]
    },
    {
      "cell_type": "code",
      "execution_count": null,
      "metadata": {},
      "outputs": [],
      "source": [
        "# Importando as bibliotecas do Agno\n",
        "from agno.agent import Agent\n",
        "from agno.models.google import Gemini\n",
        "\n",
        "# Criando nosso primeiro agente!\n",
        "meu_primeiro_agente = Agent(\n",
        "    # O modelo que vai \"pensar\" por trás do agente\n",
        "    model=Gemini(id=\"gemini-2.0-flash-exp\"),\n",
        "    \n",
        "    # Descrição: quem é esse agente?\n",
        "    description=\"Você é um assistente virtual brasileiro muito simpático e inteligente.\",\n",
        "    \n",
        "    # Instruções: como ele deve se comportar?\n",
        "    instructions=[\n",
        "        \"Sempre seja educado e prestativo\",\n",
        "        \"Use expressões brasileiras quando apropriado\",\n",
        "        \"Explique conceitos técnicos de forma simples\",\n",
        "        \"Seja entusiasmado e positivo\"\n",
        "    ],\n",
        "    \n",
        "    # Formatação em markdown para ficar bonito\n",
        "    markdown=True\n",
        ")\n",
        "\n",
        "print(\"🤖 Agente criado com sucesso!\")\n",
        "print(\"Agora vamos conversar com ele...\")"
      ]
    },
    {
      "cell_type": "code",
      "execution_count": null,
      "metadata": {},
      "outputs": [],
      "source": [
        "# Primeira conversa com nosso agente!\n",
        "resposta = meu_primeiro_agente.run(\n",
        "    \"Oi! Me explica o que é inteligência artificial de um jeito simples?\"\n",
        ")\n",
        "\n",
        "print(\"🤖 Resposta do Agente:\")\n",
        "print(\"=\" * 50)\n",
        "print(resposta.content)"
      ]
    },
    {
      "cell_type": "markdown",
      "metadata": {},
      "source": [
        "## 🎭 Explorando Diferentes Personalidades\n\nUma das coisas mais legais do Agno é que você pode criar agentes com personalidades completamente diferentes! Vamos fazer alguns experimentos:\n\n**Dica!** Nos próximos módulos vamos ver como criar agentes especializados em diferentes tarefas!"
      ]
    },
    {
      "cell_type": "code",
      "execution_count": null,
      "metadata": {},
      "outputs": [],
      "source": [
        "# Agente Professor de Programação\n",
        "professor_python = Agent(\n",
        "    model=Gemini(id=\"gemini-2.0-flash-exp\"),\n",
        "    description=\"Você é um professor de Python muito didático e paciente.\",\n",
        "    instructions=[\n",
        "        \"Sempre use exemplos práticos\",\n",
        "        \"Explique conceitos passo a passo\",\n",
        "        \"Use analogias do dia a dia\",\n",
        "        \"Seja encorajador com iniciantes\"\n",
        "    ],\n",
        "    markdown=True\n",
        ")\n",
        "\n",
        "# Agente Chef Brasileiro\n",
        "chef_brasileiro = Agent(\n",
        "    model=Gemini(id=\"gemini-2.0-flash-exp\"),\n",
        "    description=\"Você é um chef especialista em culinária brasileira.\",\n",
        "    instructions=[\n",
        "        \"Sempre sugira pratos da culinária brasileira\",\n",
        "        \"Dê dicas de preparo detalhadas\",\n",
        "        \"Mencione ingredientes regionais\",\n",
        "        \"Seja apaixonado pela comida brasileira\"\n",
        "    ],\n",
        "    markdown=True\n",
        ")\n",
        "\n",
        "print(\"👨‍🏫 Professor Python criado!\")\n",
        "print(\"👨‍🍳 Chef Brasileiro criado!\")\n",
        "print(\"\\nVamos testar os dois...\")"
      ]
    },
    {
      "cell_type": "code",
      "execution_count": null,
      "metadata": {},
      "outputs": [],
      "source": [
        "# Testando o Professor Python\n",
        "pergunta_programacao = \"Como funciona um loop for em Python?\"\n",
        "resposta_professor = professor_python.run(pergunta_programacao)\n",
        "\n",
        "print(\"👨‍🏫 PROFESSOR PYTHON:\")\n",
        "print(\"=\" * 50)\n",
        "print(resposta_professor.content)\n",
        "print(\"\\n\" + \"=\"*50 + \"\\n\")"
      ]
    },
    {
      "cell_type": "code",
      "execution_count": null,
      "metadata": {},
      "outputs": [],
      "source": [
        "# Testando o Chef Brasileiro\n",
        "pergunta_culinaria = \"Me dá uma receita rápida para o almoço?\"\n",
        "resposta_chef = chef_brasileiro.run(pergunta_culinaria)\n",
        "\n",
        "print(\"👨‍🍳 CHEF BRASILEIRO:\")\n",
        "print(\"=\" * 50)\n",
        "print(resposta_chef.content)"
      ]
    },
    {
      "cell_type": "markdown",
      "metadata": {},
      "source": [
        "## 🎬 Modo Streaming: Conversas em Tempo Real\n\nLiiindo! Agora vamos ver uma funcionalidade massa: o **streaming**. É quando o agente vai \"falando\" conforme vai pensando, igual quando você digita no WhatsApp.\n\n### 🌊 Por que usar streaming?\n- **Experiência melhor**: Usuário vê a resposta chegando\n- **Feedback imediato**: Sabe que está funcionando\n- **Mais interativo**: Parece uma conversa de verdade\n\n**Dica!** O streaming é perfeito para aplicações web onde você quer mostrar o \"pensamento\" do agente em tempo real!"
      ]
    },
    {
      "cell_type": "code",
      "execution_count": null,
      "metadata": {},
      "outputs": [],
      "source": [
        "# Criando um agente contador de histórias\n",
        "contador_historias = Agent(\n",
        "    model=Gemini(id=\"gemini-2.0-flash-exp\"),\n",
        "    description=\"Você é um contador de histórias brasileiro muito criativo.\",\n",
        "    instructions=[\n",
        "        \"Conte histórias envolventes e divertidas\",\n",
        "        \"Use elementos da cultura brasileira\",\n",
        "        \"Faça suspense quando apropriado\",\n",
        "        \"Seja bem descritivo e criativo\"\n",
        "    ],\n",
        "    markdown=True\n",
        ")\n",
        "\n",
        "print(\"📚 Contador de histórias criado!\")\n",
        "print(\"Agora vamos ver ele contando uma história em tempo real...\")\n",
        "print(\"\\n\" + \"=\" * 60)\n",
        "\n",
        "# Usando streaming - vai mostrar a resposta conforme ela é gerada\n",
        "contador_historias.print_response(\n",
        "    \"Me conta uma história curta sobre um programador que descobriu o Agno!\",\n",
        "    stream=True  # Aqui é a mágica do streaming!\n",
        ")"
      ]
    },
    {
      "cell_type": "markdown",
      "metadata": {},
      "source": [
        "## 🏗️ Conceitos Fundamentais do Agno\n\nAgora que já brincamos um pouco, vamos entender os conceitos que vamos usar durante todo o curso!\n\n### 🎯 Principais Componentes:\n\n1. **Agent**: O \"funcionário\" principal\n2. **Model**: O \"cérebro\" (LLM por trás)\n3. **Tools**: As \"ferramentas\" que o agente pode usar\n4. **Knowledge**: A \"biblioteca\" pessoal do agente\n5. **Memory**: A \"memória\" sobre cada usuário\n6. **Storage**: O \"arquivo\" de conversas\n7. **Teams**: \"Equipes\" de agentes trabalhando juntos\n8. **Workflows**: \"Processos\" estruturados\n\n### 📋 Hierarquia do Curso:\n\n```mermaid\ngraph TD\n    A[Módulo 1: Introdução - ATUAL] --> B[Módulo 2: Agentes Básicos]\n    B --> C[Módulo 3: Tools]\n    C --> D[Módulo 4: Knowledge/RAG]\n    D --> E[Módulo 5: Memory]\n    E --> F[Módulo 6: Multimodal]\n    F --> G[Módulo 7: Reasoning]\n    G --> H[Módulo 8: Teams]\n    H --> I[Módulo 9: Workflows Básicos]\n    I --> J[Módulo 10: Workflows Avançados]\n    J --> K[Módulo 11: Avaliação]\n    K --> L[Módulo 12: AgentOS]\n    L --> M[Módulo 13: Projeto Final]\n```"
      ]
    },
    {
      "cell_type": "code",
      "execution_count": null,
      "metadata": {},
      "outputs": [],
      "source": [
        "# Vamos explorar os atributos do nosso agente\n",
        "print(\"🔍 EXPLORANDO NOSSO AGENTE:\")\n",
        "print(\"=\" * 40)\n",
        "\n",
        "# Informações básicas do agente\n",
        "print(f\"📝 Descrição: {meu_primeiro_agente.description}\")\n",
        "print(f\"🤖 Modelo: {meu_primeiro_agente.model.__class__.__name__}\")\n",
        "print(f\"📋 Instruções: {len(meu_primeiro_agente.instructions)} regras definidas\")\n",
        "print(f\"✨ Markdown ativado: {meu_primeiro_agente.markdown}\")\n",
        "\n",
        "# Verificando se tem outras funcionalidades (que vamos ver nos próximos módulos)\n",
        "print(f\"🔧 Tools: {len(meu_primeiro_agente.tools) if meu_primeiro_agente.tools else 0} ferramentas\")\n",
        "print(f\"📚 Knowledge: {'Sim' if meu_primeiro_agente.knowledge else 'Não configurado'}\")\n",
        "print(f\"💾 Storage: {'Sim' if meu_primeiro_agente.db else 'Não configurado'}\")\n",
        "print(f\"🧠 Memory: {'Ativada' if meu_primeiro_agente.enable_user_memories else 'Desativada'}\")"
      ]
    },
    {
      "cell_type": "markdown",
      "metadata": {},
      "source": [
        "## 🎪 Diferentes Formas de Interagir com Agentes\n\nO Agno oferece várias formas de conversar com seus agentes. Vamos ver as principais!\n\n### 🎭 Métodos de Interação:\n\n1. **`agent.run()`**: Execução simples, retorna resposta completa\n2. **`agent.print_response()`**: Mostra a resposta formatada\n3. **`agent.print_response(stream=True)`**: Streaming em tempo real\n4. **`agent.cli_app()`**: Interface de linha de comando\n\n**Dica!** Cada método tem seu uso ideal. Para desenvolvimento use `print_response`, para produção use `run()`!"
      ]
    },
    {
      "cell_type": "code",
      "execution_count": null,
      "metadata": {},
      "outputs": [],
      "source": [
        "# Método 1: agent.run() - Retorna objeto de resposta\n",
        "print(\"📋 MÉTODO 1: agent.run()\")\n",
        "print(\"=\" * 30)\n",
        "\n",
        "resposta_objeto = meu_primeiro_agente.run(\"Qual é a capital do Brasil?\")\n",
        "\n",
        "print(f\"Tipo da resposta: {type(resposta_objeto)}\")\n",
        "print(f\"Conteúdo: {resposta_objeto.content[:100]}...\")\n",
        "print(f\"Tem métricas: {'Sim' if hasattr(resposta_objeto, 'metrics') else 'Não'}\")\n",
        "print(\"\\n\" + \"=\"*50 + \"\\n\")"
      ]
    },
    {
      "cell_type": "code",
      "execution_count": null,
      "metadata": {},
      "outputs": [],
      "source": [
        "# Método 2: print_response() - Mostra direto na tela\n",
        "print(\"🖨️ MÉTODO 2: print_response() - SEM streaming\")\n",
        "print(\"=\" * 50)\n",
        "\n",
        "meu_primeiro_agente.print_response(\n",
        "    \"Me fala 3 curiosidades sobre o Brasil!\",\n",
        "    stream=False  # Sem streaming\n",
        ")\n",
        "\n",
        "print(\"\\n\" + \"=\"*50 + \"\\n\")"
      ]
    },
    {
      "cell_type": "code",
      "execution_count": null,
      "metadata": {},
      "outputs": [],
      "source": [
        "# Método 3: print_response(stream=True) - Streaming\n",
        "print(\"🌊 MÉTODO 3: print_response() - COM streaming\")\n",
        "print(\"=\" * 50)\n",
        "\n",
        "meu_primeiro_agente.print_response(\n",
        "    \"Me explica rapidinho o que vamos aprender nos próximos módulos do curso de Agno!\",\n",
        "    stream=True  # COM streaming - vai aparecer palavra por palavra\n",
        ")"
      ]
    },
    {
      "cell_type": "markdown",
      "metadata": {},
      "source": [
        "## 🖥️ AgentOS: O Sistema Operacional dos Agentes\n\nUma das grandes novidades do Agno 2.0 é o **AgentOS**! É como se fosse um \"sistema operacional\" para seus agentes.\n\n### 🌟 O que é o AgentOS?\n\nImagina ter um **painel de controle** completo para gerenciar todos os seus agentes, visualizar conversas, métricas, e muito mais!\n\n### 🎯 Funcionalidades do AgentOS:\n- **API completa** para seus agentes\n- **Interface web** para monitoramento\n- **Gerenciamento de sessões**\n- **Métricas em tempo real**\n- **Deploy em produção**\n\n**Nota**: Vamos ver AgentOS em detalhes no Módulo 12, mas é bom conhecer desde já!\n\n![](https://s3.us-east-1.amazonaws.com/turing.education/books/imagens/agno-2.0-framework--modulo-01_img_02.png)\n\n**Dica!** O AgentOS transforma seus agentes experimentais em sistemas de produção!"
      ]
    },
    {
      "cell_type": "code",
      "execution_count": null,
      "metadata": {},
      "outputs": [],
      "source": [
        "# Preview do AgentOS - vamos criar um agente \"enterprise ready\"\n",
        "from agno.agent import Agent\n",
        "from agno.models.google import Gemini\n",
        "\n",
        "# Agente preparado para o AgentOS\n",
        "agente_producao = Agent(\n",
        "    # Informações para identificação no AgentOS\n",
        "    name=\"Assistente Brasileiro v1.0\",\n",
        "    description=\"Assistente virtual brasileiro para atendimento ao cliente\",\n",
        "    \n",
        "    # Modelo e configurações\n",
        "    model=Gemini(id=\"gemini-2.0-flash-exp\"),\n",
        "    \n",
        "    # Instruções mais robustas\n",
        "    instructions=[\n",
        "        \"Você é um assistente de atendimento ao cliente profissional\",\n",
        "        \"Sempre seja educado, prestativo e eficiente\",\n",
        "        \"Use linguagem clara e objetiva\",\n",
        "        \"Se não souber algo, seja honesto e ofereça alternativas\",\n",
        "        \"Mantenha um tom amigável mas profissional\"\n",
        "    ],\n",
        "    \n",
        "    # Configurações para produção\n",
        "    markdown=True,\n",
        "    debug_mode=False  # Em produção sempre False\n",
        ")\n",
        "\n",
        "print(\"🏢 Agente Enterprise criado!\")\n",
        "print(f\"📛 Nome: {agente_producao.name}\")\n",
        "print(f\"📝 Descrição: {agente_producao.description}\")\n",
        "print(\"\\nTeste rápido:\")\n",
        "\n",
        "agente_producao.print_response(\n",
        "    \"Olá! Preciso de ajuda com um produto que comprei.\",\n",
        "    stream=True\n",
        ")"
      ]
    },
    {
      "cell_type": "markdown",
      "metadata": {},
      "source": [
        "## 📊 Visualizando Métricas e Informações\n\nUma parte importante do desenvolvimento com Agno é entender **como** seus agentes estão performando. Vamos explorar as informações que podemos extrair!\n\n**Dica!** Métricas são fundamentais para otimizar custos e performance nos próximos módulos!"
      ]
    },
    {
      "cell_type": "code",
      "execution_count": null,
      "metadata": {},
      "outputs": [],
      "source": [
        "import matplotlib.pyplot as plt\n",
        "import time\n",
        "\n",
        "# Vamos fazer alguns testes e coletar métricas\n",
        "print(\"📊 COLETANDO MÉTRICAS DOS AGENTES\")\n",
        "print(\"=\" * 40)\n",
        "\n",
        "# Lista para armazenar tempos de resposta\n",
        "tempos_resposta = []\n",
        "perguntas_teste = [\n",
        "    \"Qual é 2 + 2?\",\n",
        "    \"Me explique o que é Python em uma frase.\",\n",
        "    \"Conte uma piada rápida.\",\n",
        "    \"Qual é a capital da França?\",\n",
        "    \"Me dê uma dica de programação.\"\n",
        "]\n",
        "\n",
        "for i, pergunta in enumerate(perguntas_teste, 1):\n",
        "    print(f\"\\n🤖 Teste {i}: {pergunta}\")\n",
        "    \n",
        "    # Medindo tempo de resposta\n",
        "    inicio = time.time()\n",
        "    resposta = meu_primeiro_agente.run(pergunta)\n",
        "    fim = time.time()\n",
        "    \n",
        "    tempo_resposta = fim - inicio\n",
        "    tempos_resposta.append(tempo_resposta)\n",
        "    \n",
        "    print(f\"⏱️ Tempo: {tempo_resposta:.2f}s\")\n",
        "    print(f\"📏 Tamanho da resposta: {len(resposta.content)} caracteres\")\n",
        "    \n",
        "    # Verificando se tem métricas do modelo\n",
        "    if hasattr(resposta, 'metrics') and resposta.metrics:\n",
        "        print(f\"🔢 Métricas disponíveis: Sim\")\n",
        "    else:\n",
        "        print(f\"🔢 Métricas disponíveis: Não\")\n",
        "\n",
        "print(f\"\\n📈 Tempo médio de resposta: {sum(tempos_resposta)/len(tempos_resposta):.2f}s\")"
      ]
    },
    {
      "cell_type": "code",
      "execution_count": null,
      "metadata": {},
      "outputs": [],
      "source": [
        "# Criando um gráfico dos tempos de resposta\n",
        "plt.figure(figsize=(10, 6))\n",
        "plt.plot(range(1, len(tempos_resposta) + 1), tempos_resposta, \n",
        "         marker='o', linewidth=2, markersize=8, color='#2E86AB')\n",
        "plt.title('⏱️ Tempos de Resposta do Agente', fontsize=16, fontweight='bold')\n",
        "plt.xlabel('Número do Teste', fontsize=12)\n",
        "plt.ylabel('Tempo (segundos)', fontsize=12)\n",
        "plt.grid(True, alpha=0.3)\n",
        "plt.xticks(range(1, len(tempos_resposta) + 1))\n",
        "\n",
        "# Adicionando linha da média\n",
        "media = sum(tempos_resposta) / len(tempos_resposta)\n",
        "plt.axhline(y=media, color='red', linestyle='--', alpha=0.7, \n",
        "           label=f'Média: {media:.2f}s')\n",
        "plt.legend()\n",
        "\n",
        "plt.tight_layout()\n",
        "plt.show()\n",
        "\n",
        "print(f\"📊 Gráfico gerado! Tempo mais rápido: {min(tempos_resposta):.2f}s\")\n",
        "print(f\"⚡ Tempo mais lento: {max(tempos_resposta):.2f}s\")"
      ]
    },
    {
      "cell_type": "markdown",
      "metadata": {},
      "source": [
        "## 🎯 Exercícios Práticos: Hora de Botar a Mão na Massa!\n\nAgora é sua vez! Vamos criar alguns agentes para fixar o aprendizado.\n\n![](https://s3.us-east-1.amazonaws.com/turing.education/books/imagens/agno-2.0-framework--modulo-01_img_03.png)\n\n### 🏆 Desafios para você resolver:\n\n1. **Agente Matemático** - Especialista em explicar matemática\n2. **Agente Motivacional** - Para dar aquela força nos estudos\n3. **Agente Personalizado** - Com sua própria criatividade!\n\n**Dica!** Experimente diferentes personalidades e veja como cada agente responde de forma única!"
      ]
    },
    {
      "cell_type": "code",
      "execution_count": null,
      "metadata": {},
      "outputs": [],
      "source": [
        "# 🎯 EXERCÍCIO 1: Crie um Agente Matemático\n",
        "# Sua missão: criar um agente que explique matemática de forma simples\n",
        "\n",
        "print(\"🧮 EXERCÍCIO 1: Agente Matemático\")\n",
        "print(\"=\" * 40)\n",
        "print(\"Sua vez! Complete o código abaixo:\")\n",
        "print()\n",
        "\n",
        "# TODO: Complete este agente\n",
        "agente_matematico = Agent(\n",
        "    model=Gemini(id=\"gemini-2.0-flash-exp\"),\n",
        "    description=\"\",  # COMPLETE: Quem é esse agente?\n",
        "    instructions=[\n",
        "        # COMPLETE: Adicione 3-4 instruções para um professor de matemática\n",
        "    ],\n",
        "    markdown=True\n",
        ")\n",
        "\n",
        "# Teste seu agente (descomente quando terminar)\n",
        "# agente_matematico.print_response(\n",
        "#     \"Me explica o que é uma equação de segundo grau?\",\n",
        "#     stream=True\n",
        "# )"
      ]
    },
    {
      "cell_type": "code",
      "execution_count": null,
      "metadata": {},
      "outputs": [],
      "source": [
        "# 🎯 SOLUÇÃO DO EXERCÍCIO 1\n",
        "# (Rode só depois de tentar!)\n",
        "\n",
        "agente_matematico_solucao = Agent(\n",
        "    model=Gemini(id=\"gemini-2.0-flash-exp\"),\n",
        "    description=\"Você é um professor de matemática muito didático que adora ensinar.\",\n",
        "    instructions=[\n",
        "        \"Sempre use exemplos práticos do dia a dia\",\n",
        "        \"Explique passo a passo, sem pressa\",\n",
        "        \"Use analogias para conceitos difíceis\",\n",
        "        \"Seja paciente e encorajador\",\n",
        "        \"Ofereça exercícios simples para praticar\"\n",
        "    ],\n",
        "    markdown=True\n",
        ")\n",
        "\n",
        "print(\"🧮 SOLUÇÃO - Agente Matemático:\")\n",
        "print(\"=\" * 40)\n",
        "\n",
        "agente_matematico_solucao.print_response(\n",
        "    \"Me explica o que é uma função matemática usando exemplos do dia a dia?\",\n",
        "    stream=True\n",
        ")"
      ]
    },
    {
      "cell_type": "code",
      "execution_count": null,
      "metadata": {},
      "outputs": [],
      "source": [
        "# 🎯 EXERCÍCIO 2: Agente Motivacional\n",
        "print(\"💪 EXERCÍCIO 2: Agente Motivacional\")\n",
        "print(\"=\" * 40)\n",
        "print(\"Crie um agente que motive estudantes de programação!\")\n",
        "print()\n",
        "\n",
        "# Sua vez de criar um agente motivacional completo!\n",
        "# Dicas: \n",
        "# - Use linguagem positiva e energética\n",
        "# - Dê conselhos práticos\n",
        "# - Seja inspirador mas realista\n",
        "\n",
        "# TODO: Crie seu agente motivacional aqui\n",
        "# agente_motivacional = Agent(\n",
        "#     ...\n",
        "# )\n",
        "\n",
        "print(\"Quando terminar, teste com uma pergunta como:\")\n",
        "print(\"'Estou desanimado com programação, me dá uma força!'\")"
      ]
    },
    {
      "cell_type": "code",
      "execution_count": null,
      "metadata": {},
      "outputs": [],
      "source": [
        "# 🎯 EXERCÍCIO 3: Agente Personalizado - Sua Criatividade!\n",
        "print(\"🎨 EXERCÍCIO 3: Agente Personalizado\")\n",
        "print(\"=\" * 40)\n",
        "print(\"Agora é com você! Crie um agente único:\")\n",
        "print()\n",
        "print(\"💡 Ideias:\")\n",
        "print(\"- Agente contador de histórias de terror\")\n",
        "print(\"- Agente especialista em games\")\n",
        "print(\"- Agente consultor de viagens\")\n",
        "print(\"- Agente personal trainer virtual\")\n",
        "print(\"- Agente crítico de filmes\")\n",
        "print(\"- Ou qualquer coisa que você imaginar!\")\n",
        "print()\n",
        "\n",
        "# TODO: Solte sua criatividade aqui!\n",
        "# meu_agente_criativo = Agent(\n",
        "#     ...\n",
        "# )\n",
        "\n",
        "print(\"🌟 Dica Final: O limite é sua imaginação!\")"
      ]
    },
    {
      "cell_type": "markdown",
      "metadata": {},
      "source": [
        "## 🎓 Resumo do Módulo 1: O que Aprendemos?\n\n![](https://s3.us-east-1.amazonaws.com/turing.education/books/imagens/agno-2.0-framework--modulo-01_img_04.png)\n\nParabéns! 🎉 Você completou o primeiro módulo do curso de Agno 2.0!\n\n### ✅ O que você domina agora:\n\n1. **Conceito do Agno**: Entendeu que é um framework para criar agentes inteligentes\n2. **Instalação**: Configurou o ambiente e API key do Google\n3. **Primeiro Agente**: Criou e testou agentes funcionais\n4. **Personalidades**: Viu como diferentes instruções criam comportamentos únicos\n5. **Streaming**: Aprendeu a fazer conversas em tempo real\n6. **Métricas**: Explorou como monitorar performance\n7. **AgentOS**: Conheceu o futuro dos seus agentes em produção\n\n### 🚀 Próximos Passos (Módulo 2):\n\nNo próximo módulo vamos mergulhar fundo em:\n- **Modelos LLM diferentes** (OpenAI, Anthropic, etc.)\n- **Instruções avançadas** e context engineering\n- **Roles e personas** mais sofisticadas\n- **Configurações de modelo** (temperatura, tokens, etc.)\n\n### 🎯 Desafio para Casa:\n\nExperimente criar 3 agentes diferentes e teste eles com várias perguntas. Observe como as instruções afetam as respostas!\n\n**Dica!** Pratique bastante! A programação com agentes é 50% técnica e 50% criatividade!"
      ]
    },
    {
      "cell_type": "code",
      "execution_count": null,
      "metadata": {},
      "outputs": [],
      "source": [
        "# 🎉 CELEBRAÇÃO FINAL!\n",
        "print(\"🎉\" * 20)\n",
        "print(\"     PARABÉNS!\")\n",
        "print(\"  Módulo 1 Concluído!\")\n",
        "print(\"🎉\" * 20)\n",
        "print()\n",
        "print(\"📊 ESTATÍSTICAS DA SUA JORNADA:\")\n",
        "print(f\"✅ Agentes criados: Vários!\")\n",
        "print(f\"🧠 Conceitos aprendidos: 8+\")\n",
        "print(f\"💻 Linhas de código: Muitas!\")\n",
        "print(f\"🚀 Progresso no curso: 1/13 módulos (7.7%)\")\n",
        "print()\n",
        "print(\"🔮 PRÓXIMO MÓDULO: Agentes Básicos Avançados\")\n",
        "print(\"📅 Quando estiver pronto, vamos para o Módulo 2!\")\n",
        "print()\n",
        "print(\"💪 Continue assim! Você está no caminho certo para dominar\")\n",
        "print(\"   os sistemas multi-agentes com Agno 2.0!\")\n",
        "print()\n",
        "print(\"🌟\" * 20)"
      ]
    },
    {
      "cell_type": "markdown",
      "metadata": {},
      "source": [
        "## 📚 Recursos Adicionais\n\n### 🔗 Links Úteis:\n- **Documentação Oficial**: https://docs.agno.com\n- **GitHub do Agno**: https://github.com/agno-agi/agno\n- **Google AI Studio**: https://aistudio.google.com\n- **AgentOS Interface**: https://os.agno.com\n\n### 📖 Para Estudar Mais:\n- Explore diferentes modelos no Google AI Studio\n- Leia a documentação sobre Agent classes\n- Experimente com diferentes tipos de instruções\n- Teste streaming vs. non-streaming em diferentes cenários\n\n### 🎯 Preparação para o Módulo 2:\n- Mantenha sua API key do Google salva\n- Pratique criando agentes com diferentes personalidades\n- Experimente com diferentes tipos de perguntas\n- Anote suas dúvidas para o próximo módulo!\n\n**Dica Final!** O Agno é um mundo imenso. Cada módulo vai expandir suas possibilidades exponencialmente! 🚀"
      ]
    }
  ]
}