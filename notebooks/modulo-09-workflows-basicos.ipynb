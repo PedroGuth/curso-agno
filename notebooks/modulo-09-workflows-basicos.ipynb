{
  "nbformat": 4,
  "nbformat_minor": 0,
  "metadata": {
    "colab": {
      "provenance": []
    },
    "kernelspec": {
      "name": "python3",
      "display_name": "Python 3"
    },
    "language_info": {
      "name": "python"
    }
  },
  "cells": [
    {
      "cell_type": "markdown",
      "metadata": {
        "id": "InH3H4C-ahq8"
      },
      "source": [
        "# 🔄 Workflows Básicos no Agno: Orquestração Inteligente de Agentes\n",
        "\n",
        "Eaí pessoal! Pedro Guth aqui novamente! 🚀\n",
        "\n",
        "No módulo anterior a gente viu como fazer **Teams** - agentes colaborando simultaneamente. Agora vamos dar um passo além e aprender sobre **Workflows** - que é tipo uma receita de bolo, mas para agentes!\n",
        "\n",
        "Tá, mas o que é um Workflow? É basicamente um fluxo de trabalho onde você define **exatamente** quais passos seguir e em que ordem. É como se você fosse o diretor de um filme e cada agente é um ator que entra em cena na hora certa!\n",
        "\n",
        "## 🎯 O que vamos aprender hoje:\n",
        "\n",
        "1. **Conceitos fundamentais** de Workflows\n",
        "2. **Diferenças** entre Teams e Workflows\n",
        "3. **Implementação prática** de fluxos sequenciais\n",
        "4. **Steps simples** e como conectá-los\n",
        "5. **Casos de uso reais** com exemplos\n",
        "\n",
        "Bora mergulhar nesse mundo dos workflows! 🏊‍♂️"
      ]
    },
    {
      "cell_type": "markdown",
      "metadata": {
        "id": "IplALONsahq_"
      },
      "source": [
        "## 🛠️ Setup Inicial - Preparando o Ambiente\n",
        "\n",
        "Primeiro, vamos instalar e configurar tudo que precisamos. Lembra da nossa configuração dos módulos anteriores? Vamos usar a mesma base!"
      ]
    },
    {
      "cell_type": "code",
      "execution_count": null,
      "metadata": {
        "id": "TMhu-GhGahq_"
      },
      "outputs": [],
      "source": [
        "# Instalação das dependências\n",
        "!pip install -q agno google-generativeai matplotlib seaborn ddgs"
      ]
    },
    {
      "cell_type": "code",
      "execution_count": null,
      "metadata": {
        "id": "Z2yHBiKTahrA"
      },
      "outputs": [],
      "source": [
        "# Imports necessários\n",
        "import os\n",
        "from getpass import getpass\n",
        "import matplotlib.pyplot as plt\n",
        "import seaborn as sns\n",
        "from datetime import datetime\n",
        "\n",
        "# Imports do Agno para Workflows\n",
        "from agno.workflow import Workflow, Step\n",
        "from agno.agent import Agent\n",
        "from agno.models.google import Gemini\n",
        "from agno.tools.duckduckgo import DuckDuckGoTools\n",
        "from agno.tools.hackernews import HackerNewsTools\n",
        "\n",
        "print(\"📦 Imports realizados com sucesso!\")"
      ]
    },
    {
      "cell_type": "code",
      "execution_count": null,
      "metadata": {
        "id": "j8kTnd3NahrA"
      },
      "outputs": [],
      "source": [
        "# Configuração da API Key do Google\n",
        "# Cole sua chave do Google AI Studio aqui\n",
        "GOOGLE_API_KEY = getpass(\"Digite sua Google API Key: \")\n",
        "os.environ['GOOGLE_API_KEY'] = GOOGLE_API_KEY\n",
        "\n",
        "print(\"🔑 API Key configurada!\")"
      ]
    },
    {
      "cell_type": "markdown",
      "metadata": {
        "id": "whb2CfURahrA"
      },
      "source": [
        "## 🧠 Conceitos Fundamentais: O que são Workflows?\n",
        "\n",
        "Vamos começar com uma analogia massa: imagina que você quer fazer um **sanduíche gourmet**.\n",
        "\n",
        "- **Team**: Todo mundo na cozinha fazendo tudo ao mesmo tempo (caos organizado!)\n",
        "- **Workflow**: Uma receita step-by-step onde cada pessoa faz sua parte na hora certa\n",
        "\n",
        "### 📋 Características dos Workflows:\n",
        "\n",
        "1. **Sequencial**: Um passo após o outro\n",
        "2. **Determinístico**: Sempre segue a mesma ordem\n",
        "3. **Controlado**: Você define exatamente o que acontece\n",
        "4. **Modular**: Cada step é independente\n",
        "\n",
        "### 🆚 Teams vs Workflows:\n",
        "\n",
        "| Aspecto | Teams | Workflows |\n",
        "|---------|-------|----------|\n",
        "| **Execução** | Paralela/Simultânea | Sequencial |\n",
        "| **Controle** | Agente líder decide | Você define os passos |\n",
        "| **Flexibilidade** | Mais adaptativo | Mais previsível |\n",
        "| **Uso ideal** | Brainstorming, discussões | Processos definidos |\n",
        "\n",
        "**Dica!** Use Workflows quando você sabe exatamente que passos seguir e Teams quando quer que os agentes colaborem de forma mais livre!"
      ]
    },
    {
      "cell_type": "markdown",
      "metadata": {
        "id": "8dGZJtteahrB"
      },
      "source": [
        "## 🏗️ Arquitetura dos Workflows no Agno\n",
        "\n",
        "Vamos visualizar como funciona a estrutura de um Workflow:\n",
        "\n",
        "[![](https://mermaid.ink/img/eyJjb2RlIjoiZmxvd2NoYXJ0IFREXG4gICAgQVtXT1JLRkxPVyAtIE9ycXVlc3RyYWRvciBkb3MgU3RlcHNdOjo6d29ya2Zsb3dcblxuICAgIEEgLS0-IEJbU3RlcCAxIC0gUGVzcXVpc2FdOjo6c3RlcFxuICAgIEEgLS0-IENbU3RlcCAyIC0gQW7DoWxpc2VdOjo6c3RlcFxuICAgIEEgLS0-IERbU3RlcCAzIC0gUmVsYXTDs3Jpb106OjpzdGVwXG5cbiAgICBCIC0tPiBDXG4gICAgQyAtLT4gRFxuXG4gICAgQiAtLT4gQjFbQWdlbnRlIDFdOjo6YWdlbnRcbiAgICBDIC0tPiBDMVtBZ2VudGUgMl06OjphZ2VudFxuICAgIEQgLS0-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)](https://mermaid.d.foundation/#/edit/eyJjb2RlIjoiZmxvd2NoYXJ0IFREXG4gICAgQVtXT1JLRkxPVyAtIE9ycXVlc3RyYWRvciBkb3MgU3RlcHNdOjo6d29ya2Zsb3dcblxuICAgIEEgLS0-IEJbU3RlcCAxIC0gUGVzcXVpc2FdOjo6c3RlcFxuICAgIEEgLS0-IENbU3RlcCAyIC0gQW7DoWxpc2VdOjo6c3RlcFxuICAgIEEgLS0-IERbU3RlcCAzIC0gUmVsYXTDs3Jpb106OjpzdGVwXG5cbiAgICBCIC0tPiBDXG4gICAgQyAtLT4gRFxuXG4gICAgQiAtLT4gQjFbQWdlbnRlIDFdOjo6YWdlbnRcbiAgICBDIC0tPiBDMVtBZ2VudGUgMl06OjphZ2VudFxuICAgIEQgLS0-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)"
      ]
    },
    {
      "cell_type": "markdown",
      "metadata": {
        "id": "u7Pvcen8ahrC"
      },
      "source": [
        "## 🚀 Nosso Primeiro Workflow: Pesquisa de Tecnologia\n",
        "\n",
        "Vamos criar um workflow simples que:\n",
        "1. **Pesquisa** informações sobre uma tecnologia\n",
        "2. **Analisa** as informações encontradas\n",
        "3. **Gera** um relatório final\n",
        "\n",
        "É como ter três especialistas trabalhando em sequência!"
      ]
    },
    {
      "cell_type": "code",
      "execution_count": null,
      "metadata": {
        "id": "s_TuHZaZahrD"
      },
      "outputs": [],
      "source": [
        "# Primeiro, vamos criar nossos agentes especialistas\n",
        "\n",
        "# 🔍 Agente Pesquisador\n",
        "pesquisador = Agent(\n",
        "    name=\"Pesquisador Tech\",\n",
        "    model=Gemini(id=\"gemini-2.5-pro\"),\n",
        "    role=\"Especialista em pesquisa de tecnologias\",\n",
        "    instructions=[\n",
        "        \"Você é um pesquisador experiente\",\n",
        "        \"Busque informações atuais e relevantes\",\n",
        "        \"Foque em dados técnicos e tendências\",\n",
        "        \"Seja objetivo e preciso\"\n",
        "    ],\n",
        "    tools=[DuckDuckGoTools()],\n",
        "    markdown=True\n",
        ")\n",
        "\n",
        "# 📊 Agente Analista\n",
        "analista = Agent(\n",
        "    name=\"Analista Tech\",\n",
        "    model=Gemini(id=\"gemini-2.5-pro\"),\n",
        "    role=\"Especialista em análise tecnológica\",\n",
        "    instructions=[\n",
        "        \"Você é um analista técnico experiente\",\n",
        "        \"Analise dados de forma crítica\",\n",
        "        \"Identifique pontos fortes e fracos\",\n",
        "        \"Faça comparações quando relevante\"\n",
        "    ],\n",
        "    markdown=True\n",
        ")\n",
        "\n",
        "# 📝 Agente Redator\n",
        "redator = Agent(\n",
        "    name=\"Redator Tech\",\n",
        "    model=Gemini(id=\"gemini-2.5-pro\"),\n",
        "    role=\"Especialista em comunicação técnica\",\n",
        "    instructions=[\n",
        "        \"Você é um redator técnico especializado\",\n",
        "        \"Crie relatórios claros e bem estruturados\",\n",
        "        \"Use linguagem acessível mas precisa\",\n",
        "        \"Organize as informações de forma lógica\"\n",
        "    ],\n",
        "    markdown=True\n",
        ")\n",
        "\n",
        "print(\"👥 Agentes criados:\")\n",
        "print(f\"🔍 {pesquisador.name}\")\n",
        "print(f\"📊 {analista.name}\")\n",
        "print(f\"📝 {redator.name}\")"
      ]
    },
    {
      "cell_type": "markdown",
      "metadata": {
        "id": "5vqiXB7AahrD"
      },
      "source": [
        "## 🔄 Criando os Steps do Workflow\n",
        "\n",
        "Agora vamos definir cada passo do nosso workflow. Cada **Step** é como uma estação de trabalho com um agente especializado:"
      ]
    },
    {
      "cell_type": "code",
      "execution_count": null,
      "metadata": {
        "id": "_8-zMXu6ahrD"
      },
      "outputs": [],
      "source": [
        "\n",
        "# 🔄 Step 1: Pesquisa\n",
        "step_pesquisa = Step(\n",
        "    name=\"pesquisa_tecnologia\",\n",
        "    description=\"Pesquisa informações sobre a tecnologia solicitada\",\n",
        "    agent=pesquisador\n",
        ")\n",
        "\n",
        "# 📊 Step 2: Análise\n",
        "step_analise = Step(\n",
        "    name=\"analise_dados\",\n",
        "    description=\"Analisa os dados coletados na pesquisa\",\n",
        "    agent=analista\n",
        ")\n",
        "\n",
        "# 📝 Step 3: Relatório\n",
        "step_relatorio = Step(\n",
        "    name=\"gerar_relatorio\",\n",
        "    description=\"Gera relatório final baseado na análise\",\n",
        "    agent=redator\n",
        ")\n",
        "\n",
        "print(\"🔧 Steps criados:\")\n",
        "print(f\"1️⃣ {step_pesquisa.name} - {step_pesquisa.description}\")\n",
        "print(f\"2️⃣ {step_analise.name} - {step_analise.description}\")\n",
        "print(f\"3️⃣ {step_relatorio.name} - {step_relatorio.description}\")"
      ]
    },
    {
      "cell_type": "markdown",
      "metadata": {
        "id": "bWA1lSHZahrE"
      },
      "source": [
        "## 🏭 Montando o Workflow Completo\n",
        "\n",
        "Agora vamos juntar todos os steps em um workflow. É como montar uma linha de produção!"
      ]
    },
    {
      "cell_type": "code",
      "execution_count": null,
      "metadata": {
        "id": "_sxy_F6UahrE"
      },
      "outputs": [],
      "source": [
        "# 🏭 Criando o Workflow\n",
        "workflow_pesquisa = Workflow(\n",
        "    name=\"Pesquisa Tecnológica\",\n",
        "    description=\"Workflow para pesquisar, analisar e reportar sobre tecnologias\",\n",
        "    # Lista dos steps em ordem sequencial\n",
        "    steps=[\n",
        "        step_pesquisa,\n",
        "        step_analise,\n",
        "        step_relatorio\n",
        "    ]\n",
        ")\n",
        "\n",
        "print(\"🏭 Workflow criado com sucesso!\")\n",
        "print(f\"📋 Nome: {workflow_pesquisa.name}\")\n",
        "print(f\"🔢 Número de steps: {len(workflow_pesquisa.steps)}\")\n",
        "print(f\"📝 Descrição: {workflow_pesquisa.description}\")"
      ]
    },
    {
      "cell_type": "markdown",
      "metadata": {
        "id": "LircntmZahrE"
      },
      "source": [
        "## 🧪 Testando o Workflow na Prática\n",
        "\n",
        "Agora vem a parte mais legal! Vamos executar nosso workflow e ver cada step sendo executado em sequência:"
      ]
    },
    {
      "cell_type": "code",
      "execution_count": null,
      "metadata": {
        "id": "KMX165KnahrE"
      },
      "outputs": [],
      "source": [
        "# 🚀 Executando o workflow\n",
        "print(\"🚀 Executando workflow para pesquisar sobre 'Machine Learning'...\\n\")\n",
        "\n",
        "# Input para o workflow\n",
        "tecnologia_pesquisar = \"Machine Learning\"\n",
        "\n",
        "# Executar o workflow\n",
        "resultado = workflow_pesquisa.run(\n",
        "    input=tecnologia_pesquisar\n",
        ")\n",
        "\n",
        "print(\"\\n\" + \"=\"*50)\n",
        "print(\"✅ WORKFLOW CONCLUÍDO!\")\n",
        "print(\"=\"*50)\n",
        "print(f\"📊 Status: {resultado.status}\")\n",
        "print(f\"🎯 Resultado final disponível: {'Sim' if resultado.content else 'Não'}\")"
      ]
    },
    {
      "cell_type": "code",
      "execution_count": null,
      "metadata": {
        "id": "eXEiwCgiahrE"
      },
      "outputs": [],
      "source": [
        "# 📋 Vamos ver o resultado final\n",
        "if resultado.content:\n",
        "    print(\"📄 RELATÓRIO FINAL:\")\n",
        "    print(\"=\"*80)\n",
        "    print(resultado.content)\n",
        "else:\n",
        "    print(\"❌ Nenhum conteúdo foi gerado\")"
      ]
    },
    {
      "cell_type": "markdown",
      "metadata": {
        "id": "nf7OR0sFahrF"
      },
      "source": [
        "## 🎯 Workflow com Diferentes Tipos de Steps\n",
        "\n",
        "Vamos criar um exemplo mais avançado mostrando diferentes tipos de steps e como eles se conectam:"
      ]
    },
    {
      "cell_type": "code",
      "execution_count": null,
      "metadata": {
        "id": "8CBufrucahrF"
      },
      "outputs": [],
      "source": [
        "# 🎯 Criando agentes especializados para um workflow de análise de mercado\n",
        "\n",
        "# Agente para buscar notícias\n",
        "news_agent = Agent(\n",
        "    name=\"News Hunter\",\n",
        "    model=Gemini(id=\"gemini-2.0-flash\"),\n",
        "    role=\"Caçador de notícias tech\",\n",
        "    instructions=[\n",
        "        \"Busque as notícias mais recentes e relevantes\",\n",
        "        \"Foque em informações de fontes confiáveis\",\n",
        "        \"Resuma os pontos principais de cada notícia\"\n",
        "    ],\n",
        "    tools=[HackerNewsTools()],\n",
        "    markdown=True\n",
        ")\n",
        "\n",
        "# Agente para análise de tendências\n",
        "trend_agent = Agent(\n",
        "    name=\"Trend Analyzer\",\n",
        "    model=Gemini(id=\"gemini-2.0-flash\"),\n",
        "    role=\"Analista de tendências\",\n",
        "    instructions=[\n",
        "        \"Identifique padrões e tendências nas notícias\",\n",
        "        \"Faça previsões baseadas nos dados\",\n",
        "        \"Destaque oportunidades e riscos\"\n",
        "    ],\n",
        "    markdown=True\n",
        ")\n",
        "\n",
        "# Agente para recomendações estratégicas\n",
        "strategy_agent = Agent(\n",
        "    name=\"Strategy Advisor\",\n",
        "    model=Gemini(id=\"gemini-2.0-flash\"),\n",
        "    role=\"Consultor estratégico\",\n",
        "    instructions=[\n",
        "        \"Crie recomendações estratégicas práticas\",\n",
        "        \"Considere diferentes cenários\",\n",
        "        \"Priorize ações por impacto e viabilidade\"\n",
        "    ],\n",
        "    markdown=True\n",
        ")\n",
        "\n",
        "report_agent = Agent(\n",
        "    name=\"Report Advisor\",\n",
        "    model=Gemini(id=\"gemini-2.0-flash\"),\n",
        "    role=\"Consultor estratégico\",\n",
        "    instructions=[\n",
        "        \"Crie recomendações estratégicas práticas\",\n",
        "        \"Considere diferentes cenários\",\n",
        "        \"Priorize ações por impacto e viabilidade\"\n",
        "    ],\n",
        "    markdown=True\n",
        ")\n",
        "\n",
        "print(\"👥 Agentes do workflow de análise de mercado criados!\")"
      ]
    },
    {
      "cell_type": "code",
      "execution_count": null,
      "metadata": {
        "id": "_Va--e4MahrF"
      },
      "outputs": [],
      "source": [
        "# 🔄 Criando steps mais elaborados com funcionalidades reais\n",
        "\n",
        "# Step 1: Coleta de notícias com múltiplas fontes\n",
        "step_noticias = Step(\n",
        "    name=\"coleta_noticias\",\n",
        "    description=\"Coleta notícias de múltiplas fontes sobre o tópico\",\n",
        "    agent=news_agent\n",
        ")\n",
        "\n",
        "# Step 2: Análise de tendências com dados estruturados\n",
        "step_tendencias = Step(\n",
        "    name=\"analise_tendencias\",\n",
        "    description=\"Analisa tendências e padrões nas notícias coletadas\",\n",
        "    agent=trend_agent\n",
        ")\n",
        "\n",
        "# Step 3: Geração de insights estratégicos\n",
        "step_estrategia = Step(\n",
        "    name=\"recomendacoes_estrategicas\",\n",
        "    description=\"Gera insights estratégicos e recomendações baseadas na análise\",\n",
        "    agent=strategy_agent\n",
        ")\n",
        "\n",
        "# Step 4: Criação de relatório executivo\n",
        "step_relatorio = Step(\n",
        "    name=\"relatorio_executivo\",\n",
        "    description=\"Cria relatório executivo final com visualizações\",\n",
        "    agent=report_agent\n",
        ")\n",
        "\n",
        "# Workflow completo com mais steps e funcionalidades\n",
        "workflow_mercado = Workflow(\n",
        "    name=\"Análise de Mercado Tech\",\n",
        "    description=\"Workflow completo para análise de mercado tecnológico com múltiplas etapas\",\n",
        "    steps=[\n",
        "        step_noticias,\n",
        "        step_tendencias,\n",
        "        step_estrategia,\n",
        "        step_relatorio\n",
        "    ]\n",
        ")\n",
        "\n",
        "print(\"🏭 Workflow de análise de mercado criado!\")\n",
        "print(f\"📋 Steps: {[step.name for step in workflow_mercado.steps]}\")\n",
        "print(f\"🔢 Total de steps: {len(workflow_mercado.steps)}\")"
      ]
    },
    {
      "cell_type": "code",
      "execution_count": null,
      "metadata": {
        "id": "pxw3xSaLahrF"
      },
      "outputs": [],
      "source": [
        "# 🚀 Executando o workflow de análise de mercado\n",
        "print(\"🚀 Executando análise de mercado para 'Inteligência Artificial'...\\n\")\n",
        "\n",
        "resultado_mercado = workflow_mercado.run(\n",
        "    input=\"Inteligência Artificial\"\n",
        ")\n",
        "\n",
        "print(\"\\n\" + \"=\"*60)\n",
        "print(\"✅ ANÁLISE DE MERCADO CONCLUÍDA!\")\n",
        "print(\"=\"*60)\n",
        "print(f\"📊 Status: {resultado_mercado.status}\")\n",
        "\n",
        "if resultado_mercado.content:\n",
        "    print(\"\\n📋 RECOMENDAÇÕES ESTRATÉGICAS:\")\n",
        "    print(\"-\" * 40)\n",
        "    print(resultado_mercado.content)"
      ]
    },
    {
      "cell_type": "markdown",
      "metadata": {
        "id": "VAnZp29QahrF"
      },
      "source": [
        "## 📈 Visualizando o Fluxo de Execução\n",
        "\n",
        "Vamos criar uma visualização para entender melhor como os dados fluem pelo workflow:"
      ]
    },
    {
      "cell_type": "code",
      "execution_count": null,
      "metadata": {
        "id": "TkrOIj3MahrF"
      },
      "outputs": [],
      "source": [
        "# 📊 Visualização do fluxo de dados\n",
        "import matplotlib.pyplot as plt\n",
        "import matplotlib.patches as mpatches\n",
        "from matplotlib.patches import FancyBboxPatch, Circle\n",
        "\n",
        "fig, ax = plt.subplots(figsize=(14, 10))\n",
        "ax.set_xlim(0, 12)\n",
        "ax.set_ylim(0, 10)\n",
        "ax.axis('off')\n",
        "\n",
        "# Título\n",
        "ax.text(6, 9.5, 'Fluxo de Dados no Workflow de Análise de Mercado',\n",
        "        fontsize=16, fontweight='bold', ha='center')\n",
        "\n",
        "# Input inicial\n",
        "input_circle = Circle((1, 7), 0.5, facecolor='lightgreen', edgecolor='green', linewidth=2)\n",
        "ax.add_patch(input_circle)\n",
        "ax.text(1, 7, 'INPUT\\nTópico', fontsize=9, fontweight='bold', ha='center', va='center')\n",
        "\n",
        "# Steps com seus dados\n",
        "steps_data = [\n",
        "    (3, 7, 'STEP 1\\nNews Hunter', 'Notícias\\nColetadas', 'lightblue'),\n",
        "    (6, 7, 'STEP 2\\nTrend Analyzer', 'Análise\\nTendências', 'lightyellow'),\n",
        "    (9, 7, 'STEP 3\\nStrategy Advisor', 'Recomendações\\nFinais', 'lightcoral')\n",
        "]\n",
        "\n",
        "for i, (x, y, step_name, output_name, color) in enumerate(steps_data):\n",
        "    # Step box\n",
        "    step_box = FancyBboxPatch((x-1, y-1), 2, 2,\n",
        "                             boxstyle=\"round,pad=0.1\",\n",
        "                             facecolor=color,\n",
        "                             edgecolor='gray', linewidth=2)\n",
        "    ax.add_patch(step_box)\n",
        "    ax.text(x, y, step_name, fontsize=10, fontweight='bold', ha='center', va='center')\n",
        "\n",
        "    # Output data\n",
        "    output_box = FancyBboxPatch((x-0.7, y-3), 1.4, 1,\n",
        "                               boxstyle=\"round,pad=0.05\",\n",
        "                               facecolor='white',\n",
        "                               edgecolor='black', linewidth=1)\n",
        "    ax.add_patch(output_box)\n",
        "    ax.text(x, y-2.5, output_name, fontsize=8, ha='center', va='center')\n",
        "\n",
        "    # Seta do step para o output\n",
        "    ax.arrow(x, y-1, 0, -0.8, head_width=0.1, head_length=0.1,\n",
        "             fc='black', ec='black', alpha=0.7)\n",
        "\n",
        "# Setas horizontais conectando os steps\n",
        "arrow_positions = [(1.5, 7), (4.5, 7), (7.5, 7)]\n",
        "for x, y in arrow_positions[:-1]:\n",
        "    ax.arrow(x, y, 1, 0, head_width=0.15, head_length=0.2,\n",
        "             fc='blue', ec='blue', linewidth=2)\n",
        "\n",
        "# Output final\n",
        "final_circle = Circle((11, 7), 0.5, facecolor='gold', edgecolor='orange', linewidth=2)\n",
        "ax.add_patch(final_circle)\n",
        "ax.text(11, 7, 'OUTPUT\\nFinal', fontsize=9, fontweight='bold', ha='center', va='center')\n",
        "\n",
        "# Seta final\n",
        "ax.arrow(10, 7, 0.5, 0, head_width=0.15, head_length=0.2,\n",
        "         fc='orange', ec='orange', linewidth=2)\n",
        "\n",
        "# Legenda\n",
        "ax.text(6, 1, '💡 Cada step processa os dados do anterior e gera novos outputs',\n",
        "        fontsize=12, fontweight='bold', ha='center',\n",
        "        bbox=dict(boxstyle=\"round,pad=0.3\", facecolor='lightyellow', alpha=0.8))\n",
        "\n",
        "plt.tight_layout()\n",
        "plt.show()\n",
        "\n",
        "print(\"📊 Fluxo de dados visualizado!\")"
      ]
    },
    {
      "cell_type": "markdown",
      "metadata": {
        "id": "E9Nn77QtahrF"
      },
      "source": [
        "## 🔧 Exercício Prático: Criando Seu Próprio Workflow\n",
        "\n",
        "Agora é sua vez! Vamos criar um workflow para análise de startups:\n",
        "\n",
        "**Objetivo**: Analisar uma startup em 3 etapas:\n",
        "1. **Pesquisa**: Coletar informações sobre a startup\n",
        "2. **Avaliação**: Avaliar modelo de negócio e potencial\n",
        "3. **Recomendação**: Dar uma recomendação de investimento"
      ]
    },
    {
      "cell_type": "code",
      "execution_count": null,
      "metadata": {
        "id": "9c42j3sCahrF"
      },
      "outputs": [],
      "source": [
        "# 🎯 EXERCÍCIO: Complete o código abaixo para criar o workflow de análise de startups\n",
        "\n",
        "# Agente 1: Pesquisador de Startups\n",
        "pesquisador_startup = Agent(\n",
        "    name=\"Startup Researcher\",\n",
        "    model=Gemini(id=\"gemini-2.0-flash\"),\n",
        "    role=\"Pesquisador especializado em startups\",\n",
        "    instructions=[\n",
        "        \"Pesquise informações detalhadas sobre a startup\",\n",
        "        \"Foque no modelo de negócio, fundadores e mercado\",\n",
        "        \"Colete dados financeiros se disponíveis\",\n",
        "        \"Identifique competidores principais\"\n",
        "    ],\n",
        "    tools=[DuckDuckGoTools()],\n",
        "    markdown=True\n",
        ")\n",
        "\n",
        "# Agente 2: Avaliador de Negócios\n",
        "avaliador_startup = Agent(\n",
        "    name=\"Business Evaluator\",\n",
        "    model=Gemini(id=\"gemini-2.0-flash\"),\n",
        "    role=\"Avaliador de modelos de negócio\",\n",
        "    instructions=[\n",
        "        \"Avalie o potencial de crescimento da startup\",\n",
        "        \"Analise riscos e oportunidades\",\n",
        "        \"Compare com benchmarks do setor\",\n",
        "        \"Identifique pontos fortes e fracos\"\n",
        "    ],\n",
        "    markdown=True\n",
        ")\n",
        "\n",
        "# Agente 3: Consultor de Investimentos\n",
        "consultor_investimento = Agent(\n",
        "    name=\"Investment Advisor\",\n",
        "    model=Gemini(id=\"gemini-2.0-flash\"),\n",
        "    role=\"Consultor especializado em investimentos\",\n",
        "    instructions=[\n",
        "        \"Faça recomendações de investimento baseadas na análise\",\n",
        "        \"Considere diferentes perfis de risco\",\n",
        "        \"Sugira estratégias de entrada e saída\",\n",
        "        \"Quantifique riscos e retornos esperados\"\n",
        "    ],\n",
        "    markdown=True\n",
        ")\n",
        "\n",
        "print(\"👥 Agentes para análise de startups criados!\")"
      ]
    },
    {
      "cell_type": "code",
      "execution_count": null,
      "metadata": {
        "id": "ZkZCUuNjahrG"
      },
      "outputs": [],
      "source": [
        "# 🏗️ EXERCÍCIO: Crie os steps do workflow\n",
        "\n",
        "# Complete os steps abaixo:\n",
        "step_pesquisa_startup = Step(\n",
        "    name=\"pesquisa_startup\",\n",
        "    description=\"Pesquisa informações sobre a startup\",\n",
        "    agent=pesquisador_startup\n",
        ")\n",
        "\n",
        "step_avaliacao_startup = Step(\n",
        "    name=\"avaliacao_negocio\",\n",
        "    description=\"Avalia o potencial de negócio da startup\",\n",
        "    agent=avaliador_startup\n",
        ")\n",
        "\n",
        "step_recomendacao_startup = Step(\n",
        "    name=\"recomendacao_investimento\",\n",
        "    description=\"Gera recomendação de investimento\",\n",
        "    agent=consultor_investimento\n",
        ")\n",
        "\n",
        "# Criar o workflow\n",
        "workflow_startup = Workflow(\n",
        "    name=\"Análise de Startups\",\n",
        "    description=\"Workflow para análise completa de startups\",\n",
        "    steps=[\n",
        "        step_pesquisa_startup,\n",
        "        step_avaliacao_startup,\n",
        "        step_recomendacao_startup\n",
        "    ]\n",
        ")\n",
        "\n",
        "print(\"🏭 Workflow de análise de startups criado!\")\n",
        "print(f\"🔢 Steps configurados: {len(workflow_startup.steps)}\")"
      ]
    },
    {
      "cell_type": "code",
      "execution_count": null,
      "metadata": {
        "id": "ZbOXWZ_mahrG"
      },
      "outputs": [],
      "source": [
        "# 🚀 EXERCÍCIO: Execute o workflow para uma startup conhecida\n",
        "\n",
        "startup_para_analisar = \"Nubank\"  # Você pode trocar por outra startup\n",
        "\n",
        "print(f\"🔍 Analisando a startup: {startup_para_analisar}\\n\")\n",
        "\n",
        "# Execute o workflow\n",
        "resultado_startup = workflow_startup.run(\n",
        "    input=startup_para_analisar\n",
        ")\n",
        "\n",
        "print(\"\\n\" + \"=\"*60)\n",
        "print(\"✅ ANÁLISE DE STARTUP CONCLUÍDA!\")\n",
        "print(\"=\"*60)\n",
        "print(f\"📊 Status: {resultado_startup.status}\")\n",
        "\n",
        "if resultado_startup.content:\n",
        "    print(f\"\\n💼 RECOMENDAÇÃO DE INVESTIMENTO PARA {startup_para_analisar.upper()}:\")\n",
        "    print(\"-\" * 50)\n",
        "    print(resultado_startup.content)\n",
        "else:\n",
        "    print(\"❌ Não foi possível gerar a recomendação\")\n",
        "\n",
        "print(\"\\n🎉 Parabéns! Você criou e executou seu primeiro workflow personalizado!\")"
      ]
    },
    {
      "cell_type": "markdown",
      "metadata": {
        "id": "E_03YDTQahrG"
      },
      "source": [
        "## 🔍 Monitoramento e Debug de Workflows\n",
        "\n",
        "Uma das grandes vantagens dos workflows é que podemos acompanhar cada passo e debugar problemas facilmente:"
      ]
    },
    {
      "cell_type": "code",
      "execution_count": null,
      "metadata": {
        "id": "LKwGmas3ahrG"
      },
      "outputs": [],
      "source": [
        "# 🐛 Função para analisar execução de workflow\n",
        "def analisar_execucao_workflow(resultado_workflow, workflow_obj):\n",
        "    \"\"\"\n",
        "    Função para analisar detalhadamente a execução de um workflow\n",
        "    \"\"\"\n",
        "    print(\"🔍 RELATÓRIO DETALHADO DE EXECUÇÃO\\n\")\n",
        "\n",
        "    # Informações básicas\n",
        "    print(f\"📋 Workflow: {workflow_obj.name}\")\n",
        "    print(f\"🆔 Run ID: {resultado_workflow.run_id}\")\n",
        "    print(f\"📊 Status: {resultado_workflow.status}\")\n",
        "\n",
        "    # Métricas se disponíveis\n",
        "    if resultado_workflow.metrics:\n",
        "        print(f\"\\n⏱️ PERFORMANCE:\")\n",
        "        if hasattr(resultado_workflow.metrics, 'total_tokens'):\n",
        "            print(f\"   🎯 Tokens totais: {resultado_workflow.metrics.total_tokens}\")\n",
        "\n",
        "    # Análise por step\n",
        "    print(f\"\\n🔧 ANÁLISE POR STEP:\")\n",
        "    for i, step in enumerate(workflow_obj.steps, 1):\n",
        "        print(f\"\\n{i}️⃣ STEP: {step.name}\")\n",
        "        print(f\"   📝 Descrição: {step.description}\")\n",
        "        print(f\"   👤 Agente: {step.agent.name} ({step.agent.role})\")\n",
        "        # Status do step (se disponível)\n",
        "        print(f\"   ✅ Status: Executado\")\n",
        "\n",
        "    # Resultado final\n",
        "    if resultado_workflow.content:\n",
        "        print(f\"\\n📄 RESULTADO FINAL:\")\n",
        "        print(f\"   📏 Tamanho: {len(str(resultado_workflow.content))} caracteres\")\n",
        "        print(f\"   ✅ Conteúdo gerado: Sim\")\n",
        "    else:\n",
        "        print(f\"\\n❌ Nenhum resultado final gerado\")\n",
        "\n",
        "    print(\"\\n\" + \"=\"*50)\n",
        "\n",
        "# Aplicar a análise ao nosso workflow de startup\n",
        "analisar_execucao_workflow(resultado_startup, workflow_startup)"
      ]
    },
    {
      "cell_type": "markdown",
      "metadata": {
        "id": "yrokPDM5ahrH"
      },
      "source": [
        "## 📊 Comparativo: Workflows vs Teams vs Agentes Individuais\n",
        "\n",
        "Vamos criar uma comparação visual para entender quando usar cada abordagem:\n",
        "\n",
        "# COMPARATIVO: AGENTES vs TEAMS vs WORKFLOWS\n",
        "\n",
        "| Aspecto             | Agente Individual         | Team                      | Workflow            |\n",
        "| ------------------- | ------------------------- | ------------------------- | ------------------- |\n",
        "| Controle do Fluxo   | Alto (interno)            | Médio (líder)             | Total (você)        |\n",
        "| Previsibilidade     | Média                     | Média                     | Alta                |\n",
        "| Flexibilidade       | Baixa                     | Alta                      | Baixa               |\n",
        "| Debugging           | Fácil                     | Médio                     | Fácil               |\n",
        "| Performance         | Rápida                    | Paralela                  | Sequencial          |\n",
        "| Complexidade Setup  | Simples                   | Médio                     | Complexo            |\n",
        "| Colaboração         | Nenhuma                   | Dinâmica                  | Estruturada         |\n",
        "| Casos de Uso Ideais | Tarefas simples e diretas | Brainstorming, discussões | Processos definidos |\n",
        "\n",
        "---\n",
        "\n",
        "## 🎯 QUANDO USAR CADA ABORDAGEM\n",
        "\n",
        "### 🤖 Agente Individual\n",
        "\n",
        "* Tarefa simples e bem definida\n",
        "* Não precisa de múltiplas perspectivas\n",
        "* Resposta rápida necessária\n",
        "\n",
        "### 👥 Team\n",
        "\n",
        "* Precisa de diferentes especialidades\n",
        "* Brainstorming e criatividade\n",
        "* Problema sem solução óbvia\n",
        "\n",
        "### 🔄 Workflow\n",
        "\n",
        "* Processo bem definido\n",
        "* Precisa de controle total\n",
        "* Auditoria e compliance importantes\n",
        "* Processamento em lote\n"
      ]
    },
    {
      "cell_type": "markdown",
      "metadata": {
        "id": "pC_hInc8ahrH"
      },
      "source": [
        "## 🚀 Casos de Uso Avançados: Workflows na Prática\n",
        "\n",
        "Vamos ver alguns exemplos reais onde workflows são a melhor escolha:\n",
        "\n",
        "# 🎯 CASOS DE USO IDEAIS PARA WORKFLOWS\n",
        "\n",
        "### 📝 Análise de Documentos\n",
        "\n",
        "* 🔄 **Steps:** Extração → Classificação → Análise → Relatório\n",
        "* ✅ **Benefícios:** Processamento padronizado, Auditoria completa, Escalabilidade\n",
        "\n",
        "### 🏭 Pipeline de Dados\n",
        "\n",
        "* 🔄 **Steps:** Coleta → Limpeza → Transformação → Análise → Visualização\n",
        "* ✅ **Benefícios:** Qualidade garantida, Reproducibilidade, Monitoramento\n",
        "\n",
        "### 🛡️ Análise de Segurança\n",
        "\n",
        "* 🔄 **Steps:** Scan → Análise de Vulnerabilidades → Classificação de Riscos → Recomendações\n",
        "* ✅ **Benefícios:** Padronização, Compliance, Rastreabilidade\n",
        "\n",
        "### 📊 Relatórios Executivos\n",
        "\n",
        "* 🔄 **Steps:** Coleta de Métricas → Análise de Performance → Insights → Formatação\n",
        "* ✅ **Benefícios:** Consistência, Automatização, Pontualidade\n",
        "\n",
        "---\n",
        "\n",
        "### 💡 DICA\n",
        "\n",
        "Workflows são perfeitos quando você precisa de:\n",
        "\n",
        "* Controle total sobre o processo\n",
        "* Auditoria de cada passo\n",
        "* Processamento em lote\n",
        "* Compliance com regulamentações\n"
      ]
    },
    {
      "cell_type": "markdown",
      "metadata": {
        "id": "c4-Pkh8aahrH"
      },
      "source": [
        "## 🎓 Exercício Final: Workflow de E-commerce\n",
        "\n",
        "Vamos criar um workflow mais complexo para análise de produtos de e-commerce:"
      ]
    },
    {
      "cell_type": "code",
      "execution_count": null,
      "metadata": {
        "id": "d59PEh9jahrH"
      },
      "outputs": [],
      "source": [
        "# 🛒 DESAFIO FINAL: Crie um workflow para análise de produtos de e-commerce\n",
        "\n",
        "print(\"🎯 DESAFIO FINAL: Workflow de Análise de E-commerce\\n\")\n",
        "print(\"📋 Objetivo: Criar um workflow que analisa um produto e:\")\n",
        "print(\"   1. Pesquisa informações do produto\")\n",
        "print(\"   2. Analisa reviews e avaliações\")\n",
        "print(\"   3. Compara com concorrentes\")\n",
        "print(\"   4. Gera recomendações de otimização\\n\")\n",
        "\n",
        "# Template para o workflow (você pode completar)\n",
        "template_workflow = \"\"\"\n",
        "# Agentes necessários:\n",
        "# 1. Product Researcher - pesquisa dados do produto\n",
        "# 2. Review Analyzer - analisa feedback dos clientes\n",
        "# 3. Competitor Analyst - analisa concorrência\n",
        "# 4. Optimization Advisor - gera recomendações\n",
        "\n",
        "# Steps do workflow:\n",
        "# 1. product_research -> dados_produto\n",
        "# 2. review_analysis -> analise_reviews\n",
        "# 3. competitor_analysis -> analise_concorrencia\n",
        "# 4. optimization_recommendations -> recomendacoes_otimizacao\n",
        "\"\"\"\n",
        "\n",
        "print(\"💡 Template do workflow:\")\n",
        "print(template_workflow)\n",
        "\n",
        "print(\"\\n🚀 Tente implementar este workflow usando o que aprendemos!\")\n",
        "print(\"\\nAlgumas sugestões de produtos para testar:\")\n",
        "print(\"   • iPhone 15\")\n",
        "print(\"   • Tesla Model 3\")\n",
        "print(\"   • MacBook Pro M3\")\n",
        "print(\"   • PlayStation 5\")"
      ]
    },
    {
      "cell_type": "markdown",
      "metadata": {
        "id": "m7mfQC3vahrI"
      },
      "source": [
        "## 📚 Resumo do Módulo: Workflows Básicos\n",
        "\n",
        "Liiindo! Chegamos ao final de mais um módulo! 🎉\n",
        "\n",
        "### 🧠 O que aprendemos hoje:\n",
        "\n",
        "1. **Conceitos Fundamentais**:\n",
        "   - Workflows são fluxos sequenciais controlados\n",
        "   - Diferente de Teams (paralelo) e Agentes individuais\n",
        "   - Cada Step tem um agente especializado\n",
        "\n",
        "2. **Componentes Essenciais**:\n",
        "   - `Step`: Unidade básica de trabalho\n",
        "   - `Workflow`: Orquestrador dos steps\n",
        "   - `Agent`: Executor especializado de cada step\n",
        "\n",
        "3. **Implementação Prática**:\n",
        "   - Como criar steps sequenciais\n",
        "   - Conexão de inputs e outputs\n",
        "   - Debug e monitoramento\n",
        "\n",
        "4. **Casos de Uso Reais**:\n",
        "   - Análise de mercado\n",
        "   - Pesquisa tecnológica\n",
        "   - Análise de startups\n",
        "\n",
        "### 🎯 Quando usar Workflows:\n",
        "\n",
        "✅ **Use quando:**\n",
        "- Processo bem definido\n",
        "- Precisa de controle total\n",
        "- Auditoria é importante\n",
        "- Processamento sequencial faz sentido\n",
        "\n",
        "❌ **Não use quando:**\n",
        "- Precisa de flexibilidade máxima\n",
        "- Brainstorming ou criatividade\n",
        "- Processo muito simples\n",
        "\n",
        "### 🚀 Preparação para o próximo módulo:\n",
        "\n",
        "No **Módulo 10** vamos aprender sobre **Workflows Avançados**:\n",
        "- Fluxos condicionais (if/else)\n",
        "- Loops e iterações\n",
        "- Workflows paralelos\n",
        "- Tratamento de erros\n",
        "- Workflows complexos\n",
        "\n",
        "### 💡 Dica final:\n",
        "\n",
        "Workflows são como receitas de bolo - quanto mais específica a receita, melhor o resultado! No próximo módulo vamos aprender a fazer \"receitas inteligentes\" que se adaptam às situações.\n",
        "\n",
        "**Bora para o próximo nível!** 🚀"
      ]
    },
    {
      "cell_type": "markdown",
      "metadata": {
        "id": "2YFOTEO9ahrI"
      },
      "source": [
        "![](https://s3.us-east-1.amazonaws.com/turing.education/books/imagens/agno-2.0-framework--modulo-09_img_01.png)"
      ]
    }
  ]
}